{
 "cells": [
  {
   "cell_type": "markdown",
   "metadata": {},
   "source": [
    "round gdp to decade"
   ]
  },
  {
   "cell_type": "code",
   "execution_count": null,
   "metadata": {},
   "outputs": [],
   "source": [
    "import pandas as pd\n",
    "\n",
    "# Step 1: Read the original CSV file\n",
    "input_file = \"gdp.csv\"  # Replace with your input file name\n",
    "output_file = \"gdp_decade.csv\"\n",
    "\n",
    "data = pd.read_csv(input_file)\n",
    "\n",
    "# Step 2: Extract the year from the 'Date' column\n",
    "data['Year'] = pd.to_datetime(data['date']).dt.year\n",
    "\n",
    "# Step 3: Group by decades\n",
    "def calculate_decade_label(year):\n",
    "    decade_start = (year // 10) * 10\n",
    "    return f\"{decade_start}s\"\n",
    "\n",
    "data['Decade'] = data['Year'].apply(calculate_decade_label)\n",
    "\n",
    "# Step 4: Calculate average GDP for each decade\n",
    "decade_avg_gdp = data.groupby('Decade')['GDP (billions)'].mean().round().reset_index()\n",
    "\n",
    "# Step 5: Save the new data to a CSV file\n",
    "decade_avg_gdp.rename(columns={'GDP (billions)': 'Rounded GDP (billions)'}, inplace=True)\n",
    "decade_avg_gdp.to_csv(output_file, index=False)\n",
    "\n",
    "print(f\"Rounded GDP data saved to {output_file}\")"
   ]
  }
 ],
 "metadata": {
  "language_info": {
   "name": "python"
  }
 },
 "nbformat": 4,
 "nbformat_minor": 2
}
