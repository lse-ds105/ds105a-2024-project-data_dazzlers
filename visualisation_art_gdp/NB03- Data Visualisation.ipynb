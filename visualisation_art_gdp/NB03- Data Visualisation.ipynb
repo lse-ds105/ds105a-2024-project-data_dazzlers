{
 "cells": [
  {
   "cell_type": "markdown",
   "metadata": {},
   "source": [
    "Visualisations"
   ]
  },
  {
   "cell_type": "code",
   "execution_count": 28,
   "metadata": {},
   "outputs": [],
   "source": [
    "import matplotlib.pyplot as plt\n",
    "import numpy as np\n",
    "\n",
    "import matplotlib\n",
    "import matplotlib as mpl\n",
    "import pandas as pd\n"
   ]
  },
  {
   "cell_type": "code",
   "execution_count": 29,
   "metadata": {},
   "outputs": [
    {
     "name": "stdout",
     "output_type": "stream",
     "text": [
      "Output saved to all_art_popular.csv\n"
     ]
    }
   ],
   "source": [
    "import pandas as pd\n",
    "\n",
    "def process_themes(input_file, output_file):\n",
    "    \"\"\"\n",
    "    Processes the themes from the input CSV file to identify the top 20 most popular themes \n",
    "    across all years and calculates their counts for each decade.\n",
    "\n",
    "    Parameters:\n",
    "        input_file (str): Path to the input CSV file with columns Year, Theme, Count.\n",
    "        output_file (str): Path to the output CSV file to save the result.\n",
    "    \"\"\"\n",
    "    # Read the input file\n",
    "    data = pd.read_csv(input_file)\n",
    "    \n",
    "    # Convert 'Year' to 'Decade'\n",
    "    data['Decade'] = (data['Year'] // 10 * 10).astype(str) + 's'\n",
    "    \n",
    "    # Get the top 20 themes across all years\n",
    "    top_themes = (\n",
    "        data.groupby('Theme')['Count']\n",
    "        .sum()\n",
    "        .sort_values(ascending=False)\n",
    "        .head(20)\n",
    "        .index\n",
    "    )\n",
    "    \n",
    "    # Filter data to include only the top themes\n",
    "    filtered_data = data[data['Theme'].isin(top_themes)]\n",
    "    \n",
    "    # Pivot the data to create a decade-by-theme table\n",
    "    pivot_table = (\n",
    "        filtered_data\n",
    "        .groupby(['Decade', 'Theme'])['Count']\n",
    "        .sum()\n",
    "        .unstack(fill_value=0)\n",
    "    )\n",
    "    \n",
    "    # Save the pivot table to the output CSV file\n",
    "    pivot_table.to_csv(output_file)\n",
    "    print(f\"Output saved to {output_file}\")\n",
    "\n",
    "# Example usage\n",
    "process_themes('all_art.csv', 'all_art_popular.csv')\n"
   ]
  },
  {
   "cell_type": "code",
   "execution_count": 30,
   "metadata": {},
   "outputs": [
    {
     "name": "stdout",
     "output_type": "stream",
     "text": [
      "['$1191 bn in 1920s', '$1089 bn in 1930s', '$2140 bn in 1940s', '$2970 bn in 1950s', '$4369 bn in 1960s', '$6223 bn in 1970s', '$8374 bn in 1980s', '$11439 bn in 1990s', '$15544 bn in 2000s', '$18582 bn in 2010s']\n",
      "['Animals', 'Architecture', 'Boats and boating', 'Botanical study', 'Children', 'Cityscapes', 'Clothing and dress', 'Domestic', 'Dress accessories', 'Figure female', 'Figure group', 'Figure male', 'Landscapes', 'Men', 'Nudity', 'Occupations', 'Portraits', 'Religion', 'Trees', 'Women']\n"
     ]
    }
   ],
   "source": [
    "gdp_data = pd.read_csv('gdp_decade.csv')\n",
    "GDP_by_decade_list = [f\"${row['Rounded GDP (billions)']:.0f} bn in {row['Decade']}\" \n",
    "                      for _, row in gdp_data.iterrows()]\n",
    "GDP_by_decade = list(GDP_by_decade_list[:10])\n",
    "\n",
    "print(GDP_by_decade)\n",
    "\n",
    "\n",
    "art_data = pd.read_csv('all_art_popular.csv')\n",
    "art_themes_list = list(art_data.columns[1:])\n",
    "\n",
    "print(art_themes_list)"
   ]
  },
  {
   "cell_type": "code",
   "execution_count": 31,
   "metadata": {},
   "outputs": [
    {
     "name": "stdout",
     "output_type": "stream",
     "text": [
      "Themes: ['Animals', 'Architecture', 'Boats and boating', 'Botanical study', 'Children', 'Cityscapes', 'Clothing and dress', 'Domestic', 'Dress accessories', 'Figure female', 'Figure group', 'Figure male', 'Landscapes', 'Men', 'Nudity', 'Occupations', 'Portraits', 'Religion', 'Trees', 'Women']\n",
      "Theme Counts Array:\n",
      "[[221 308  46 269  32 135  68  82  59 100 200  68 305 157  80 138 169  76\n",
      "   65  66]\n",
      " [ 84 191  35 154  25  65  48  62  35  81 141  53 251  81  46  99 107  41\n",
      "   41  60]\n",
      " [ 48  92  18  17   2  30  28  46  14  29  74  82 103  32   7  85  25  14\n",
      "   11  16]\n",
      " [  5   8   0   0   2   0   4   5   2   4   6   4   9   2   1   2   4   3\n",
      "    2   2]\n",
      " [  9  22   4   0   2   9   3  13   3   2  12   8  24   9   0   8   8   1\n",
      "    5   3]\n",
      " [ 13   9   3   0   1   2   3   2   3   1   6   1   5   3   0   6   6   1\n",
      "    3   4]\n",
      " [ 17   4   1   0  12   0   8   1   8   1   4   4   4  22   1   2  32   1\n",
      "    0  15]\n",
      " [ 14  12   3   0   7   0   8   2   8   7   5   2   4   2   1   3   1   1\n",
      "    0   3]\n",
      " [  0   2   0   0   1   0   1   0   1   0   2   1   1   3   0   0   3   0\n",
      "    0   0]\n",
      " [  0   0   0   0   1   0   0   0   0   0   0   0   0   0   0   0   1   1\n",
      "    0   0]]\n"
     ]
    }
   ],
   "source": [
    "def create_theme_array(csv_file):\n",
    "    # Read the CSV file\n",
    "    data = pd.read_csv(csv_file)\n",
    "    \n",
    "    # Extract themes (columns excluding \"Decade\")\n",
    "    themes = list(data.columns[1:])\n",
    "    \n",
    "    # Extract counts as a 2D NumPy array\n",
    "    theme_counts = data.iloc[2:, 1:].values  \n",
    "    \n",
    "    return themes, theme_counts\n",
    "\n",
    "# Usage\n",
    "csv_file = \"all_art_popular.csv\"  # Replace with your file path\n",
    "themes, theme_array = create_theme_array(csv_file)\n",
    "\n",
    "# Print the themes list\n",
    "print(\"Themes:\", themes)\n",
    "\n",
    "# Print the NumPy array\n",
    "print(\"Theme Counts Array:\")\n",
    "print(theme_array)"
   ]
  },
  {
   "cell_type": "markdown",
   "metadata": {},
   "source": [
    "the array above is the absolute number of art pieces made in every art theme each decade from 1920s to 2010s. while the array below is the percentage of each art theme made each year out of the total number of the top 20 art themes each year.\n",
    "\n",
    " **Is it better to do the ratio out of ALL the art pieces made in each year, instead of focusing on the total number of the top 20 themes??**"
   ]
  },
  {
   "cell_type": "code",
   "execution_count": 32,
   "metadata": {},
   "outputs": [
    {
     "name": "stdout",
     "output_type": "stream",
     "text": [
      "[[ 8. 12.  2. 10.  1.  5.  3.  3.  2.  4.  8.  3. 12.  6.  3.  5.  6.  3.\n",
      "   2.  2.]\n",
      " [ 5. 11.  2.  9.  1.  4.  3.  4.  2.  5.  8.  3. 15.  5.  3.  6.  6.  2.\n",
      "   2.  4.]\n",
      " [ 6. 12.  2.  2.  0.  4.  4.  6.  2.  4. 10. 11. 13.  4.  1. 11.  3.  2.\n",
      "   1.  2.]\n",
      " [ 8. 12.  0.  0.  3.  0.  6.  8.  3.  6.  9.  6. 14.  3.  2.  3.  6.  5.\n",
      "   3.  3.]\n",
      " [ 6. 15.  3.  0.  1.  6.  2.  9.  2.  1.  8.  6. 17.  6.  0.  6.  6.  1.\n",
      "   3.  2.]\n",
      " [18. 12.  4.  0.  1.  3.  4.  3.  4.  1.  8.  1.  7.  4.  0.  8.  8.  1.\n",
      "   4.  6.]\n",
      " [12.  3.  1.  0.  9.  0.  6.  1.  6.  1.  3.  3.  3. 16.  1.  1. 23.  1.\n",
      "   0. 11.]\n",
      " [17. 14.  4.  0.  8.  0. 10.  2. 10.  8.  6.  2.  5.  2.  1.  4.  1.  1.\n",
      "   0.  4.]\n",
      " [ 0. 13.  0.  0.  7.  0.  7.  0.  7.  0. 13.  7.  7. 20.  0.  0. 20.  0.\n",
      "   0.  0.]\n",
      " [ 0.  0.  0.  0. 33.  0.  0.  0.  0.  0.  0.  0.  0.  0.  0.  0. 33. 33.\n",
      "   0.  0.]]\n"
     ]
    }
   ],
   "source": [
    "# Step 1: Calculate the sum of each row (total paintings in each decade)\n",
    "decade_totals = np.sum(theme_array, axis=1)\n",
    "\n",
    "# Step 2: Normalize the array to percentage values\n",
    "percentage_array = (theme_array.T / decade_totals).T * 100  # Transpose to divide by row totals\n",
    "percentage_array_rounded = np.round(percentage_array, 0)\n",
    "\n",
    "# Now, percentage_array contains the percentage of paintings for each theme per decade\n",
    "print(percentage_array_rounded)"
   ]
  },
  {
   "cell_type": "markdown",
   "metadata": {},
   "source": [
    "**THINGS TO CHANGE:** make the writing on yellow squares black, check that its colorblind accessible, check that its ok to do percentage of paintings done in eacvh year instead of actual amount, switch top two rows so that it is in order of increasing GDP (?)"
   ]
  },
  {
   "cell_type": "code",
   "execution_count": 33,
   "metadata": {},
   "outputs": [
    {
     "data": {
      "image/png": "[encoded data removed]",
      "text/plain": [
       "<Figure size 1200x800 with 1 Axes>"
      ]
     },
     "metadata": {},
     "output_type": "display_data"
    }
   ],
   "source": [
    "fig, ax = plt.subplots(figsize=(12, 8))\n",
    "cmap = 'magma'  # Example colormap: You can try others like 'viridis', 'inferno', etc.\n",
    "im = ax.imshow(percentage_array_rounded, cmap=cmap)\n",
    "\n",
    "# Show all ticks and label them with the respective list entries\n",
    "ax.set_xticks(range(len(art_themes_list)), labels= art_themes_list,\n",
    "              rotation=45, ha=\"right\", rotation_mode=\"anchor\")\n",
    "ax.set_yticks(range(len(GDP_by_decade)), labels= GDP_by_decade)\n",
    "\n",
    "# Loop over data dimensions and create text annotations.\n",
    "for i in range(len(GDP_by_decade)):\n",
    "    for j in range(len(art_themes_list)):\n",
    "        text = ax.text(j, i, percentage_array_rounded[i, j],\n",
    "                       ha=\"center\", va=\"center\", color=\"w\")\n",
    "\n",
    "ax.set_title(\"Ratio of art themes made every decade\")\n",
    "fig.tight_layout()\n",
    "plt.show()"
   ]
  },
  {
   "cell_type": "markdown",
   "metadata": {},
   "source": [
    "heatmap below has black writing on cells with light background colour to ensure visibility of the writing."
   ]
  },
  {
   "cell_type": "code",
   "execution_count": 34,
   "metadata": {},
   "outputs": [
    {
     "name": "stderr",
     "output_type": "stream",
     "text": [
      "/tmp/ipykernel_337/2891778553.py:16: MatplotlibDeprecationWarning:\n",
      "\n",
      "The get_cmap function was deprecated in Matplotlib 3.7 and will be removed two minor releases later. Use ``matplotlib.colormaps[name]`` or ``matplotlib.colormaps.get_cmap(obj)`` instead.\n",
      "\n"
     ]
    },
    {
     "data": {
      "image/png": "[encoded data removed]",
      "text/plain": [
       "<Figure size 1200x800 with 1 Axes>"
      ]
     },
     "metadata": {},
     "output_type": "display_data"
    }
   ],
   "source": [
    "import numpy as np\n",
    "import matplotlib.pyplot as plt\n",
    "import matplotlib.cm as cm\n",
    "import matplotlib.colors as mcolors\n",
    "\n",
    "fig, ax = plt.subplots(figsize=(12, 8))\n",
    "cmap = 'magma'  # Example colormap\n",
    "im = ax.imshow(percentage_array_rounded, cmap=cmap)\n",
    "\n",
    "# Show all ticks and label them\n",
    "ax.set_xticks(range(len(art_themes_list)), labels=art_themes_list, rotation=45, ha=\"right\", rotation_mode=\"anchor\")\n",
    "ax.set_yticks(range(len(GDP_by_decade)), labels=GDP_by_decade)\n",
    "\n",
    "# Normalize the data to colormap range\n",
    "norm = mcolors.Normalize(vmin=np.min(percentage_array_rounded), vmax=np.max(percentage_array_rounded))\n",
    "colormap = cm.get_cmap(cmap)\n",
    "\n",
    "# Loop over data dimensions and create text annotations\n",
    "for i in range(len(GDP_by_decade)):\n",
    "    for j in range(len(art_themes_list)):\n",
    "        value = percentage_array_rounded[i, j]\n",
    "        color = colormap(norm(value))  # Get RGBA color from colormap\n",
    "        brightness = (0.299 * color[0] + 0.587 * color[1] + 0.114 * color[2])  # Compute perceived brightness\n",
    "        \n",
    "        text_color = \"black\" if brightness > 0.6 else \"white\"  # Switch text color if background is bright\n",
    "        \n",
    "        ax.text(j, i, value, ha=\"center\", va=\"center\", color=text_color)\n",
    "\n",
    "ax.set_title(\"Ratio of Art Themes Made Every Decade\")\n",
    "fig.tight_layout()\n",
    "plt.show()\n"
   ]
  },
  {
   "cell_type": "code",
   "execution_count": 35,
   "metadata": {},
   "outputs": [
    {
     "name": "stdout",
     "output_type": "stream",
     "text": [
      "{'$1191 bn in 1920s': [8.0, 12.0, 2.0, 10.0, 1.0, 5.0, 3.0, 3.0, 2.0, 4.0, 8.0, 3.0, 12.0, 6.0, 3.0, 5.0, 6.0, 3.0, 2.0, 2.0], '$1089 bn in 1930s': [5.0, 11.0, 2.0, 9.0, 1.0, 4.0, 3.0, 4.0, 2.0, 5.0, 8.0, 3.0, 15.0, 5.0, 3.0, 6.0, 6.0, 2.0, 2.0, 4.0], '$2140 bn in 1940s': [6.0, 12.0, 2.0, 2.0, 0.0, 4.0, 4.0, 6.0, 2.0, 4.0, 10.0, 11.0, 13.0, 4.0, 1.0, 11.0, 3.0, 2.0, 1.0, 2.0], '$2970 bn in 1950s': [8.0, 12.0, 0.0, 0.0, 3.0, 0.0, 6.0, 8.0, 3.0, 6.0, 9.0, 6.0, 14.0, 3.0, 2.0, 3.0, 6.0, 5.0, 3.0, 3.0], '$4369 bn in 1960s': [6.0, 15.0, 3.0, 0.0, 1.0, 6.0, 2.0, 9.0, 2.0, 1.0, 8.0, 6.0, 17.0, 6.0, 0.0, 6.0, 6.0, 1.0, 3.0, 2.0], '$6223 bn in 1970s': [18.0, 12.0, 4.0, 0.0, 1.0, 3.0, 4.0, 3.0, 4.0, 1.0, 8.0, 1.0, 7.0, 4.0, 0.0, 8.0, 8.0, 1.0, 4.0, 6.0], '$8374 bn in 1980s': [12.0, 3.0, 1.0, 0.0, 9.0, 0.0, 6.0, 1.0, 6.0, 1.0, 3.0, 3.0, 3.0, 16.0, 1.0, 1.0, 23.0, 1.0, 0.0, 11.0], '$11439 bn in 1990s': [17.0, 14.0, 4.0, 0.0, 8.0, 0.0, 10.0, 2.0, 10.0, 8.0, 6.0, 2.0, 5.0, 2.0, 1.0, 4.0, 1.0, 1.0, 0.0, 4.0], '$15544 bn in 2000s': [0.0, 13.0, 0.0, 0.0, 7.0, 0.0, 7.0, 0.0, 7.0, 0.0, 13.0, 7.0, 7.0, 20.0, 0.0, 0.0, 20.0, 0.0, 0.0, 0.0], '$18582 bn in 2010s': [0.0, 0.0, 0.0, 0.0, 33.0, 0.0, 0.0, 0.0, 0.0, 0.0, 0.0, 0.0, 0.0, 0.0, 0.0, 0.0, 33.0, 33.0, 0.0, 0.0]}\n"
     ]
    }
   ],
   "source": [
    "# Convert your array and list into the desired dictionary structure\n",
    "results = {GDP_by_decade[i]: percentage_array_rounded[i].tolist() for i in range(len(GDP_by_decade))}\n",
    "\n",
    "# Print the results to verify\n",
    "print(results)"
   ]
  },
  {
   "cell_type": "markdown",
   "metadata": {},
   "source": [
    "pip install streamlit matplotlib in terminal "
   ]
  },
  {
   "cell_type": "markdown",
   "metadata": {},
   "source": [
    "below i made a variable that lists GDP in ascending order, so the first value of GDP (the lowest) actually represents 1930s while the second represents 1920s. the rest are also in ascending order of decades, e.g. the third item in the list is 1940s and the fourth is 1950s."
   ]
  },
  {
   "cell_type": "code",
   "execution_count": 36,
   "metadata": {},
   "outputs": [
    {
     "name": "stdout",
     "output_type": "stream",
     "text": [
      "[1089.0, 1191.0, 2140.0, 2970.0, 4369.0, 6223.0, 8374.0, 11439.0, 15544.0, 18582.0, 21617.0]\n"
     ]
    }
   ],
   "source": [
    "file_path = \"gdp_decade.csv\"  # Replace with your file path\n",
    "data = pd.read_csv(file_path)\n",
    "\n",
    "# Extract the GDP values and sort them in ascending order\n",
    "GDP_list = sorted(data['Rounded GDP (billions)'].tolist())\n",
    "\n",
    "# Display the result\n",
    "print(GDP_list)\n"
   ]
  },
  {
   "cell_type": "code",
   "execution_count": 37,
   "metadata": {},
   "outputs": [
    {
     "name": "stdout",
     "output_type": "stream",
     "text": [
      "[[ 84 191  35 154  25  65  48  62  35  81 141  53 251  81  46  99 107  41\n",
      "   41  60]\n",
      " [221 308  46 269  32 135  68  82  59 100 200  68 305 157  80 138 169  76\n",
      "   65  66]\n",
      " [ 48  92  18  17   2  30  28  46  14  29  74  82 103  32   7  85  25  14\n",
      "   11  16]\n",
      " [  5   8   0   0   2   0   4   5   2   4   6   4   9   2   1   2   4   3\n",
      "    2   2]\n",
      " [  9  22   4   0   2   9   3  13   3   2  12   8  24   9   0   8   8   1\n",
      "    5   3]\n",
      " [ 13   9   3   0   1   2   3   2   3   1   6   1   5   3   0   6   6   1\n",
      "    3   4]\n",
      " [ 17   4   1   0  12   0   8   1   8   1   4   4   4  22   1   2  32   1\n",
      "    0  15]\n",
      " [ 14  12   3   0   7   0   8   2   8   7   5   2   4   2   1   3   1   1\n",
      "    0   3]\n",
      " [  0   2   0   0   1   0   1   0   1   0   2   1   1   3   0   0   3   0\n",
      "    0   0]\n",
      " [  0   0   0   0   1   0   0   0   0   0   0   0   0   0   0   0   1   1\n",
      "    0   0]]\n"
     ]
    }
   ],
   "source": [
    "\n",
    "# Assuming theme_array is already defined\n",
    "array_ordered = theme_array.copy()  # Create a copy to avoid modifying the original\n",
    "array_ordered[[0, 1]] = array_ordered[[1, 0]]  # Swap the first two rows\n",
    "\n",
    "print(array_ordered)\n"
   ]
  },
  {
   "cell_type": "markdown",
   "metadata": {},
   "source": [
    "Below is the first version of the graph"
   ]
  },
  {
   "cell_type": "markdown",
   "metadata": {},
   "source": [
    "Changes made in graph below from graph above: changed background colours to make the lines stick out more (might be more colour blind accessible), changed the colour of some lines such as \"dress accessories\" because they were too light. added average effect as an option as just looking at all themes might be a bit confusing."
   ]
  },
  {
   "cell_type": "code",
   "execution_count": 38,
   "metadata": {},
   "outputs": [
    {
     "data": {
      "application/vnd.plotly.v1+json": {
       "config": {
        "plotlyServerURL": "https://plot.ly"
       },
       "data": [
        {
         "line": {
          "color": "#cc0000"
         },
         "name": "Animals",
         "type": "scatter",
         "visible": true,
         "x": [
          1089,
          1191,
          2140,
          2970,
          4369,
          6223,
          8374,
          11439,
          15544,
          18582,
          21617
         ],
         "y": [
          84,
          221,
          48,
          5,
          9,
          13,
          17,
          14,
          0,
          0
         ]
        },
        {
         "line": {
          "color": "#00cc3b"
         },
         "name": "Architecture",
         "type": "scatter",
         "visible": false,
         "x": [
          1089,
          1191,
          2140,
          2970,
          4369,
          6223,
          8374,
          11439,
          15544,
          18582,
          21617
         ],
         "y": [
          191,
          308,
          92,
          8,
          22,
          9,
          4,
          12,
          2,
          0
         ]
        },
        {
         "line": {
          "color": "#7600cc"
         },
         "name": "Boats and boating",
         "type": "scatter",
         "visible": false,
         "x": [
          1089,
          1191,
          2140,
          2970,
          4369,
          6223,
          8374,
          11439,
          15544,
          18582,
          21617
         ],
         "y": [
          35,
          46,
          18,
          0,
          4,
          3,
          1,
          3,
          0,
          0
         ]
        },
        {
         "line": {
          "color": "#ccb200"
         },
         "name": "Botanical study",
         "type": "scatter",
         "visible": false,
         "x": [
          1089,
          1191,
          2140,
          2970,
          4369,
          6223,
          8374,
          11439,
          15544,
          18582,
          21617
         ],
         "y": [
          154,
          269,
          17,
          0,
          0,
          0,
          0,
          0,
          0,
          0
         ]
        },
        {
         "line": {
          "color": "#00a9cc"
         },
         "name": "Children",
         "type": "scatter",
         "visible": false,
         "x": [
          1089,
          1191,
          2140,
          2970,
          4369,
          6223,
          8374,
          11439,
          15544,
          18582,
          21617
         ],
         "y": [
          25,
          32,
          2,
          2,
          2,
          1,
          12,
          7,
          1,
          1
         ]
        },
        {
         "line": {
          "color": "#cc006e"
         },
         "name": "Cityscapes",
         "type": "scatter",
         "visible": false,
         "x": [
          1089,
          1191,
          2140,
          2970,
          4369,
          6223,
          8374,
          11439,
          15544,
          18582,
          21617
         ],
         "y": [
          65,
          135,
          30,
          0,
          9,
          2,
          0,
          0,
          0,
          0
         ]
        },
        {
         "line": {
          "color": "#32cc00"
         },
         "name": "Clothing and dress",
         "type": "scatter",
         "visible": false,
         "x": [
          1089,
          1191,
          2140,
          2970,
          4369,
          6223,
          8374,
          11439,
          15544,
          18582,
          21617
         ],
         "y": [
          48,
          68,
          28,
          4,
          3,
          3,
          8,
          8,
          1,
          0
         ]
        },
        {
         "line": {
          "color": "#0800cc"
         },
         "name": "Domestic",
         "type": "scatter",
         "visible": false,
         "x": [
          1089,
          1191,
          2140,
          2970,
          4369,
          6223,
          8374,
          11439,
          15544,
          18582,
          21617
         ],
         "y": [
          62,
          82,
          46,
          5,
          13,
          2,
          1,
          2,
          0,
          0
         ]
        },
        {
         "line": {
          "color": "#cc4400"
         },
         "name": "Dress accessories",
         "type": "scatter",
         "visible": false,
         "x": [
          1089,
          1191,
          2140,
          2970,
          4369,
          6223,
          8374,
          11439,
          15544,
          18582,
          21617
         ],
         "y": [
          35,
          59,
          14,
          2,
          3,
          3,
          8,
          8,
          1,
          0
         ]
        },
        {
         "line": {
          "color": "#00cc7f"
         },
         "name": "Figure female",
         "type": "scatter",
         "visible": false,
         "x": [
          1089,
          1191,
          2140,
          2970,
          4369,
          6223,
          8374,
          11439,
          15544,
          18582,
          21617
         ],
         "y": [
          81,
          100,
          29,
          4,
          2,
          1,
          1,
          7,
          0,
          0
         ]
        },
        {
         "line": {
          "color": "#ba00cc"
         },
         "name": "Figure group",
         "type": "scatter",
         "visible": false,
         "x": [
          1089,
          1191,
          2140,
          2970,
          4369,
          6223,
          8374,
          11439,
          15544,
          18582,
          21617
         ],
         "y": [
          141,
          200,
          74,
          6,
          12,
          6,
          4,
          5,
          2,
          0
         ]
        },
        {
         "line": {
          "color": "#a1cc00"
         },
         "name": "Figure male",
         "type": "scatter",
         "visible": false,
         "x": [
          1089,
          1191,
          2140,
          2970,
          4369,
          6223,
          8374,
          11439,
          15544,
          18582,
          21617
         ],
         "y": [
          53,
          68,
          82,
          4,
          8,
          1,
          4,
          2,
          1,
          0
         ]
        },
        {
         "line": {
          "color": "#0065cc"
         },
         "name": "Landscapes",
         "type": "scatter",
         "visible": false,
         "x": [
          1089,
          1191,
          2140,
          2970,
          4369,
          6223,
          8374,
          11439,
          15544,
          18582,
          21617
         ],
         "y": [
          251,
          305,
          103,
          9,
          24,
          5,
          4,
          4,
          1,
          0
         ]
        },
        {
         "line": {
          "color": "#cc002a"
         },
         "name": "Men",
         "type": "scatter",
         "visible": false,
         "x": [
          1089,
          1191,
          2140,
          2970,
          4369,
          6223,
          8374,
          11439,
          15544,
          18582,
          21617
         ],
         "y": [
          81,
          157,
          32,
          2,
          9,
          3,
          22,
          2,
          3,
          0
         ]
        },
        {
         "line": {
          "color": "#00cc11"
         },
         "name": "Nudity",
         "type": "scatter",
         "visible": false,
         "x": [
          1089,
          1191,
          2140,
          2970,
          4369,
          6223,
          8374,
          11439,
          15544,
          18582,
          21617
         ],
         "y": [
          46,
          80,
          7,
          1,
          0,
          0,
          1,
          1,
          0,
          0
         ]
        },
        {
         "line": {
          "color": "#4c00cc"
         },
         "name": "Occupations",
         "type": "scatter",
         "visible": false,
         "x": [
          1089,
          1191,
          2140,
          2970,
          4369,
          6223,
          8374,
          11439,
          15544,
          18582,
          21617
         ],
         "y": [
          99,
          138,
          85,
          2,
          8,
          6,
          2,
          3,
          0,
          0
         ]
        },
        {
         "line": {
          "color": "#cc8800"
         },
         "name": "Portraits",
         "type": "scatter",
         "visible": false,
         "x": [
          1089,
          1191,
          2140,
          2970,
          4369,
          6223,
          8374,
          11439,
          15544,
          18582,
          21617
         ],
         "y": [
          107,
          169,
          25,
          4,
          8,
          6,
          32,
          1,
          3,
          1
         ]
        },
        {
         "line": {
          "color": "#00ccc3"
         },
         "name": "Religion",
         "type": "scatter",
         "visible": false,
         "x": [
          1089,
          1191,
          2140,
          2970,
          4369,
          6223,
          8374,
          11439,
          15544,
          18582,
          21617
         ],
         "y": [
          41,
          76,
          14,
          3,
          1,
          1,
          1,
          1,
          0,
          1
         ]
        },
        {
         "line": {
          "color": "#cc0098"
         },
         "name": "Trees",
         "type": "scatter",
         "visible": false,
         "x": [
          1089,
          1191,
          2140,
          2970,
          4369,
          6223,
          8374,
          11439,
          15544,
          18582,
          21617
         ],
         "y": [
          41,
          65,
          11,
          2,
          5,
          3,
          0,
          0,
          0,
          0
         ]
        },
        {
         "line": {
          "color": "#5dcc00"
         },
         "name": "Women",
         "type": "scatter",
         "visible": false,
         "x": [
          1089,
          1191,
          2140,
          2970,
          4369,
          6223,
          8374,
          11439,
          15544,
          18582,
          21617
         ],
         "y": [
          60,
          66,
          16,
          2,
          3,
          4,
          15,
          3,
          0,
          0
         ]
        },
        {
         "line": {
          "color": "black",
          "dash": "dashdot",
          "width": 3
         },
         "name": "Average Effect",
         "type": "scatter",
         "visible": false,
         "x": [
          1089,
          1191,
          2140,
          2970,
          4369,
          6223,
          8374,
          11439,
          15544,
          18582,
          21617
         ],
         "y": [
          85,
          132.2,
          38.65,
          3.25,
          7.25,
          3.6,
          6.85,
          4.15,
          0.75,
          0.15
         ]
        }
       ],
       "layout": {
        "paper_bgcolor": "white",
        "plot_bgcolor": "white",
        "template": {
         "data": {
          "bar": [
           {
            "error_x": {
             "color": "#2a3f5f"
            },
            "error_y": {
             "color": "#2a3f5f"
            },
            "marker": {
             "line": {
              "color": "#E5ECF6",
              "width": 0.5
             },
             "pattern": {
              "fillmode": "overlay",
              "size": 10,
              "solidity": 0.2
             }
            },
            "type": "bar"
           }
          ],
          "barpolar": [
           {
            "marker": {
             "line": {
              "color": "#E5ECF6",
              "width": 0.5
             },
             "pattern": {
              "fillmode": "overlay",
              "size": 10,
              "solidity": 0.2
             }
            },
            "type": "barpolar"
           }
          ],
          "carpet": [
           {
            "aaxis": {
             "endlinecolor": "#2a3f5f",
             "gridcolor": "white",
             "linecolor": "white",
             "minorgridcolor": "white",
             "startlinecolor": "#2a3f5f"
            },
            "baxis": {
             "endlinecolor": "#2a3f5f",
             "gridcolor": "white",
             "linecolor": "white",
             "minorgridcolor": "white",
             "startlinecolor": "#2a3f5f"
            },
            "type": "carpet"
           }
          ],
          "choropleth": [
           {
            "colorbar": {
             "outlinewidth": 0,
             "ticks": ""
            },
            "type": "choropleth"
           }
          ],
          "contour": [
           {
            "colorbar": {
             "outlinewidth": 0,
             "ticks": ""
            },
            "colorscale": [
             [
              0,
              "#0d0887"
             ],
             [
              0.1111111111111111,
              "#46039f"
             ],
             [
              0.2222222222222222,
              "#7201a8"
             ],
             [
              0.3333333333333333,
              "#9c179e"
             ],
             [
              0.4444444444444444,
              "#bd3786"
             ],
             [
              0.5555555555555556,
              "#d8576b"
             ],
             [
              0.6666666666666666,
              "#ed7953"
             ],
             [
              0.7777777777777778,
              "#fb9f3a"
             ],
             [
              0.8888888888888888,
              "#fdca26"
             ],
             [
              1,
              "#f0f921"
             ]
            ],
            "type": "contour"
           }
          ],
          "contourcarpet": [
           {
            "colorbar": {
             "outlinewidth": 0,
             "ticks": ""
            },
            "type": "contourcarpet"
           }
          ],
          "heatmap": [
           {
            "colorbar": {
             "outlinewidth": 0,
             "ticks": ""
            },
            "colorscale": [
             [
              0,
              "#0d0887"
             ],
             [
              0.1111111111111111,
              "#46039f"
             ],
             [
              0.2222222222222222,
              "#7201a8"
             ],
             [
              0.3333333333333333,
              "#9c179e"
             ],
             [
              0.4444444444444444,
              "#bd3786"
             ],
             [
              0.5555555555555556,
              "#d8576b"
             ],
             [
              0.6666666666666666,
              "#ed7953"
             ],
             [
              0.7777777777777778,
              "#fb9f3a"
             ],
             [
              0.8888888888888888,
              "#fdca26"
             ],
             [
              1,
              "#f0f921"
             ]
            ],
            "type": "heatmap"
           }
          ],
          "heatmapgl": [
           {
            "colorbar": {
             "outlinewidth": 0,
             "ticks": ""
            },
            "colorscale": [
             [
              0,
              "#0d0887"
             ],
             [
              0.1111111111111111,
              "#46039f"
             ],
             [
              0.2222222222222222,
              "#7201a8"
             ],
             [
              0.3333333333333333,
              "#9c179e"
             ],
             [
              0.4444444444444444,
              "#bd3786"
             ],
             [
              0.5555555555555556,
              "#d8576b"
             ],
             [
              0.6666666666666666,
              "#ed7953"
             ],
             [
              0.7777777777777778,
              "#fb9f3a"
             ],
             [
              0.8888888888888888,
              "#fdca26"
             ],
             [
              1,
              "#f0f921"
             ]
            ],
            "type": "heatmapgl"
           }
          ],
          "histogram": [
           {
            "marker": {
             "pattern": {
              "fillmode": "overlay",
              "size": 10,
              "solidity": 0.2
             }
            },
            "type": "histogram"
           }
          ],
          "histogram2d": [
           {
            "colorbar": {
             "outlinewidth": 0,
             "ticks": ""
            },
            "colorscale": [
             [
              0,
              "#0d0887"
             ],
             [
              0.1111111111111111,
              "#46039f"
             ],
             [
              0.2222222222222222,
              "#7201a8"
             ],
             [
              0.3333333333333333,
              "#9c179e"
             ],
             [
              0.4444444444444444,
              "#bd3786"
             ],
             [
              0.5555555555555556,
              "#d8576b"
             ],
             [
              0.6666666666666666,
              "#ed7953"
             ],
             [
              0.7777777777777778,
              "#fb9f3a"
             ],
             [
              0.8888888888888888,
              "#fdca26"
             ],
             [
              1,
              "#f0f921"
             ]
            ],
            "type": "histogram2d"
           }
          ],
          "histogram2dcontour": [
           {
            "colorbar": {
             "outlinewidth": 0,
             "ticks": ""
            },
            "colorscale": [
             [
              0,
              "#0d0887"
             ],
             [
              0.1111111111111111,
              "#46039f"
             ],
             [
              0.2222222222222222,
              "#7201a8"
             ],
             [
              0.3333333333333333,
              "#9c179e"
             ],
             [
              0.4444444444444444,
              "#bd3786"
             ],
             [
              0.5555555555555556,
              "#d8576b"
             ],
             [
              0.6666666666666666,
              "#ed7953"
             ],
             [
              0.7777777777777778,
              "#fb9f3a"
             ],
             [
              0.8888888888888888,
              "#fdca26"
             ],
             [
              1,
              "#f0f921"
             ]
            ],
            "type": "histogram2dcontour"
           }
          ],
          "mesh3d": [
           {
            "colorbar": {
             "outlinewidth": 0,
             "ticks": ""
            },
            "type": "mesh3d"
           }
          ],
          "parcoords": [
           {
            "line": {
             "colorbar": {
              "outlinewidth": 0,
              "ticks": ""
             }
            },
            "type": "parcoords"
           }
          ],
          "pie": [
           {
            "automargin": true,
            "type": "pie"
           }
          ],
          "scatter": [
           {
            "fillpattern": {
             "fillmode": "overlay",
             "size": 10,
             "solidity": 0.2
            },
            "type": "scatter"
           }
          ],
          "scatter3d": [
           {
            "line": {
             "colorbar": {
              "outlinewidth": 0,
              "ticks": ""
             }
            },
            "marker": {
             "colorbar": {
              "outlinewidth": 0,
              "ticks": ""
             }
            },
            "type": "scatter3d"
           }
          ],
          "scattercarpet": [
           {
            "marker": {
             "colorbar": {
              "outlinewidth": 0,
              "ticks": ""
             }
            },
            "type": "scattercarpet"
           }
          ],
          "scattergeo": [
           {
            "marker": {
             "colorbar": {
              "outlinewidth": 0,
              "ticks": ""
             }
            },
            "type": "scattergeo"
           }
          ],
          "scattergl": [
           {
            "marker": {
             "colorbar": {
              "outlinewidth": 0,
              "ticks": ""
             }
            },
            "type": "scattergl"
           }
          ],
          "scattermapbox": [
           {
            "marker": {
             "colorbar": {
              "outlinewidth": 0,
              "ticks": ""
             }
            },
            "type": "scattermapbox"
           }
          ],
          "scatterpolar": [
           {
            "marker": {
             "colorbar": {
              "outlinewidth": 0,
              "ticks": ""
             }
            },
            "type": "scatterpolar"
           }
          ],
          "scatterpolargl": [
           {
            "marker": {
             "colorbar": {
              "outlinewidth": 0,
              "ticks": ""
             }
            },
            "type": "scatterpolargl"
           }
          ],
          "scatterternary": [
           {
            "marker": {
             "colorbar": {
              "outlinewidth": 0,
              "ticks": ""
             }
            },
            "type": "scatterternary"
           }
          ],
          "surface": [
           {
            "colorbar": {
             "outlinewidth": 0,
             "ticks": ""
            },
            "colorscale": [
             [
              0,
              "#0d0887"
             ],
             [
              0.1111111111111111,
              "#46039f"
             ],
             [
              0.2222222222222222,
              "#7201a8"
             ],
             [
              0.3333333333333333,
              "#9c179e"
             ],
             [
              0.4444444444444444,
              "#bd3786"
             ],
             [
              0.5555555555555556,
              "#d8576b"
             ],
             [
              0.6666666666666666,
              "#ed7953"
             ],
             [
              0.7777777777777778,
              "#fb9f3a"
             ],
             [
              0.8888888888888888,
              "#fdca26"
             ],
             [
              1,
              "#f0f921"
             ]
            ],
            "type": "surface"
           }
          ],
          "table": [
           {
            "cells": {
             "fill": {
              "color": "#EBF0F8"
             },
             "line": {
              "color": "white"
             }
            },
            "header": {
             "fill": {
              "color": "#C8D4E3"
             },
             "line": {
              "color": "white"
             }
            },
            "type": "table"
           }
          ]
         },
         "layout": {
          "annotationdefaults": {
           "arrowcolor": "#2a3f5f",
           "arrowhead": 0,
           "arrowwidth": 1
          },
          "autotypenumbers": "strict",
          "coloraxis": {
           "colorbar": {
            "outlinewidth": 0,
            "ticks": ""
           }
          },
          "colorscale": {
           "diverging": [
            [
             0,
             "#8e0152"
            ],
            [
             0.1,
             "#c51b7d"
            ],
            [
             0.2,
             "#de77ae"
            ],
            [
             0.3,
             "#f1b6da"
            ],
            [
             0.4,
             "#fde0ef"
            ],
            [
             0.5,
             "#f7f7f7"
            ],
            [
             0.6,
             "#e6f5d0"
            ],
            [
             0.7,
             "#b8e186"
            ],
            [
             0.8,
             "#7fbc41"
            ],
            [
             0.9,
             "#4d9221"
            ],
            [
             1,
             "#276419"
            ]
           ],
           "sequential": [
            [
             0,
             "#0d0887"
            ],
            [
             0.1111111111111111,
             "#46039f"
            ],
            [
             0.2222222222222222,
             "#7201a8"
            ],
            [
             0.3333333333333333,
             "#9c179e"
            ],
            [
             0.4444444444444444,
             "#bd3786"
            ],
            [
             0.5555555555555556,
             "#d8576b"
            ],
            [
             0.6666666666666666,
             "#ed7953"
            ],
            [
             0.7777777777777778,
             "#fb9f3a"
            ],
            [
             0.8888888888888888,
             "#fdca26"
            ],
            [
             1,
             "#f0f921"
            ]
           ],
           "sequentialminus": [
            [
             0,
             "#0d0887"
            ],
            [
             0.1111111111111111,
             "#46039f"
            ],
            [
             0.2222222222222222,
             "#7201a8"
            ],
            [
             0.3333333333333333,
             "#9c179e"
            ],
            [
             0.4444444444444444,
             "#bd3786"
            ],
            [
             0.5555555555555556,
             "#d8576b"
            ],
            [
             0.6666666666666666,
             "#ed7953"
            ],
            [
             0.7777777777777778,
             "#fb9f3a"
            ],
            [
             0.8888888888888888,
             "#fdca26"
            ],
            [
             1,
             "#f0f921"
            ]
           ]
          },
          "colorway": [
           "#636efa",
           "#EF553B",
           "#00cc96",
           "#ab63fa",
           "#FFA15A",
           "#19d3f3",
           "#FF6692",
           "#B6E880",
           "#FF97FF",
           "#FECB52"
          ],
          "font": {
           "color": "#2a3f5f"
          },
          "geo": {
           "bgcolor": "white",
           "lakecolor": "white",
           "landcolor": "#E5ECF6",
           "showlakes": true,
           "showland": true,
           "subunitcolor": "white"
          },
          "hoverlabel": {
           "align": "left"
          },
          "hovermode": "closest",
          "mapbox": {
           "style": "light"
          },
          "paper_bgcolor": "white",
          "plot_bgcolor": "#E5ECF6",
          "polar": {
           "angularaxis": {
            "gridcolor": "white",
            "linecolor": "white",
            "ticks": ""
           },
           "bgcolor": "#E5ECF6",
           "radialaxis": {
            "gridcolor": "white",
            "linecolor": "white",
            "ticks": ""
           }
          },
          "scene": {
           "xaxis": {
            "backgroundcolor": "#E5ECF6",
            "gridcolor": "white",
            "gridwidth": 2,
            "linecolor": "white",
            "showbackground": true,
            "ticks": "",
            "zerolinecolor": "white"
           },
           "yaxis": {
            "backgroundcolor": "#E5ECF6",
            "gridcolor": "white",
            "gridwidth": 2,
            "linecolor": "white",
            "showbackground": true,
            "ticks": "",
            "zerolinecolor": "white"
           },
           "zaxis": {
            "backgroundcolor": "#E5ECF6",
            "gridcolor": "white",
            "gridwidth": 2,
            "linecolor": "white",
            "showbackground": true,
            "ticks": "",
            "zerolinecolor": "white"
           }
          },
          "shapedefaults": {
           "line": {
            "color": "#2a3f5f"
           }
          },
          "ternary": {
           "aaxis": {
            "gridcolor": "white",
            "linecolor": "white",
            "ticks": ""
           },
           "baxis": {
            "gridcolor": "white",
            "linecolor": "white",
            "ticks": ""
           },
           "bgcolor": "#E5ECF6",
           "caxis": {
            "gridcolor": "white",
            "linecolor": "white",
            "ticks": ""
           }
          },
          "title": {
           "x": 0.05
          },
          "xaxis": {
           "automargin": true,
           "gridcolor": "white",
           "linecolor": "white",
           "ticks": "",
           "title": {
            "standoff": 15
           },
           "zerolinecolor": "white",
           "zerolinewidth": 2
          },
          "yaxis": {
           "automargin": true,
           "gridcolor": "white",
           "linecolor": "white",
           "ticks": "",
           "title": {
            "standoff": 15
           },
           "zerolinecolor": "white",
           "zerolinewidth": 2
          }
         }
        },
        "title": {
         "text": "Popularity of Art Themes vs. GDP"
        },
        "updatemenus": [
         {
          "buttons": [
           {
            "args": [
             {
              "visible": [
               true,
               true,
               true,
               true,
               true,
               true,
               true,
               true,
               true,
               true,
               true,
               true,
               true,
               true,
               true,
               true,
               true,
               true,
               true,
               true,
               false
              ]
             },
             {
              "title": "Popularity of All Art Themes vs. GDP"
             }
            ],
            "label": "All Themes",
            "method": "update"
           },
           {
            "args": [
             {
              "visible": [
               false,
               false,
               false,
               false,
               false,
               false,
               false,
               false,
               false,
               false,
               false,
               false,
               false,
               false,
               false,
               false,
               false,
               false,
               false,
               false,
               true
              ]
             },
             {
              "title": "Average Effect of GDP on Number of Paintings"
             }
            ],
            "label": "Average Effect",
            "method": "update"
           },
           {
            "args": [
             {
              "visible": [
               true,
               false,
               false,
               false,
               false,
               false,
               false,
               false,
               false,
               false,
               false,
               false,
               false,
               false,
               false,
               false,
               false,
               false,
               false,
               false,
               false
              ]
             },
             {
              "title": "Popularity of Animals vs. GDP"
             }
            ],
            "label": "Animals",
            "method": "update"
           },
           {
            "args": [
             {
              "visible": [
               false,
               true,
               false,
               false,
               false,
               false,
               false,
               false,
               false,
               false,
               false,
               false,
               false,
               false,
               false,
               false,
               false,
               false,
               false,
               false,
               false
              ]
             },
             {
              "title": "Popularity of Architecture vs. GDP"
             }
            ],
            "label": "Architecture",
            "method": "update"
           },
           {
            "args": [
             {
              "visible": [
               false,
               false,
               true,
               false,
               false,
               false,
               false,
               false,
               false,
               false,
               false,
               false,
               false,
               false,
               false,
               false,
               false,
               false,
               false,
               false,
               false
              ]
             },
             {
              "title": "Popularity of Boats and boating vs. GDP"
             }
            ],
            "label": "Boats and boating",
            "method": "update"
           },
           {
            "args": [
             {
              "visible": [
               false,
               false,
               false,
               true,
               false,
               false,
               false,
               false,
               false,
               false,
               false,
               false,
               false,
               false,
               false,
               false,
               false,
               false,
               false,
               false,
               false
              ]
             },
             {
              "title": "Popularity of Botanical study vs. GDP"
             }
            ],
            "label": "Botanical study",
            "method": "update"
           },
           {
            "args": [
             {
              "visible": [
               false,
               false,
               false,
               false,
               true,
               false,
               false,
               false,
               false,
               false,
               false,
               false,
               false,
               false,
               false,
               false,
               false,
               false,
               false,
               false,
               false
              ]
             },
             {
              "title": "Popularity of Children vs. GDP"
             }
            ],
            "label": "Children",
            "method": "update"
           },
           {
            "args": [
             {
              "visible": [
               false,
               false,
               false,
               false,
               false,
               true,
               false,
               false,
               false,
               false,
               false,
               false,
               false,
               false,
               false,
               false,
               false,
               false,
               false,
               false,
               false
              ]
             },
             {
              "title": "Popularity of Cityscapes vs. GDP"
             }
            ],
            "label": "Cityscapes",
            "method": "update"
           },
           {
            "args": [
             {
              "visible": [
               false,
               false,
               false,
               false,
               false,
               false,
               true,
               false,
               false,
               false,
               false,
               false,
               false,
               false,
               false,
               false,
               false,
               false,
               false,
               false,
               false
              ]
             },
             {
              "title": "Popularity of Clothing and dress vs. GDP"
             }
            ],
            "label": "Clothing and dress",
            "method": "update"
           },
           {
            "args": [
             {
              "visible": [
               false,
               false,
               false,
               false,
               false,
               false,
               false,
               true,
               false,
               false,
               false,
               false,
               false,
               false,
               false,
               false,
               false,
               false,
               false,
               false,
               false
              ]
             },
             {
              "title": "Popularity of Domestic vs. GDP"
             }
            ],
            "label": "Domestic",
            "method": "update"
           },
           {
            "args": [
             {
              "visible": [
               false,
               false,
               false,
               false,
               false,
               false,
               false,
               false,
               true,
               false,
               false,
               false,
               false,
               false,
               false,
               false,
               false,
               false,
               false,
               false,
               false
              ]
             },
             {
              "title": "Popularity of Dress accessories vs. GDP"
             }
            ],
            "label": "Dress accessories",
            "method": "update"
           },
           {
            "args": [
             {
              "visible": [
               false,
               false,
               false,
               false,
               false,
               false,
               false,
               false,
               false,
               true,
               false,
               false,
               false,
               false,
               false,
               false,
               false,
               false,
               false,
               false,
               false
              ]
             },
             {
              "title": "Popularity of Figure female vs. GDP"
             }
            ],
            "label": "Figure female",
            "method": "update"
           },
           {
            "args": [
             {
              "visible": [
               false,
               false,
               false,
               false,
               false,
               false,
               false,
               false,
               false,
               false,
               true,
               false,
               false,
               false,
               false,
               false,
               false,
               false,
               false,
               false,
               false
              ]
             },
             {
              "title": "Popularity of Figure group vs. GDP"
             }
            ],
            "label": "Figure group",
            "method": "update"
           },
           {
            "args": [
             {
              "visible": [
               false,
               false,
               false,
               false,
               false,
               false,
               false,
               false,
               false,
               false,
               false,
               true,
               false,
               false,
               false,
               false,
               false,
               false,
               false,
               false,
               false
              ]
             },
             {
              "title": "Popularity of Figure male vs. GDP"
             }
            ],
            "label": "Figure male",
            "method": "update"
           },
           {
            "args": [
             {
              "visible": [
               false,
               false,
               false,
               false,
               false,
               false,
               false,
               false,
               false,
               false,
               false,
               false,
               true,
               false,
               false,
               false,
               false,
               false,
               false,
               false,
               false
              ]
             },
             {
              "title": "Popularity of Landscapes vs. GDP"
             }
            ],
            "label": "Landscapes",
            "method": "update"
           },
           {
            "args": [
             {
              "visible": [
               false,
               false,
               false,
               false,
               false,
               false,
               false,
               false,
               false,
               false,
               false,
               false,
               false,
               true,
               false,
               false,
               false,
               false,
               false,
               false,
               false
              ]
             },
             {
              "title": "Popularity of Men vs. GDP"
             }
            ],
            "label": "Men",
            "method": "update"
           },
           {
            "args": [
             {
              "visible": [
               false,
               false,
               false,
               false,
               false,
               false,
               false,
               false,
               false,
               false,
               false,
               false,
               false,
               false,
               true,
               false,
               false,
               false,
               false,
               false,
               false
              ]
             },
             {
              "title": "Popularity of Nudity vs. GDP"
             }
            ],
            "label": "Nudity",
            "method": "update"
           },
           {
            "args": [
             {
              "visible": [
               false,
               false,
               false,
               false,
               false,
               false,
               false,
               false,
               false,
               false,
               false,
               false,
               false,
               false,
               false,
               true,
               false,
               false,
               false,
               false,
               false
              ]
             },
             {
              "title": "Popularity of Occupations vs. GDP"
             }
            ],
            "label": "Occupations",
            "method": "update"
           },
           {
            "args": [
             {
              "visible": [
               false,
               false,
               false,
               false,
               false,
               false,
               false,
               false,
               false,
               false,
               false,
               false,
               false,
               false,
               false,
               false,
               true,
               false,
               false,
               false,
               false
              ]
             },
             {
              "title": "Popularity of Portraits vs. GDP"
             }
            ],
            "label": "Portraits",
            "method": "update"
           },
           {
            "args": [
             {
              "visible": [
               false,
               false,
               false,
               false,
               false,
               false,
               false,
               false,
               false,
               false,
               false,
               false,
               false,
               false,
               false,
               false,
               false,
               true,
               false,
               false,
               false
              ]
             },
             {
              "title": "Popularity of Religion vs. GDP"
             }
            ],
            "label": "Religion",
            "method": "update"
           },
           {
            "args": [
             {
              "visible": [
               false,
               false,
               false,
               false,
               false,
               false,
               false,
               false,
               false,
               false,
               false,
               false,
               false,
               false,
               false,
               false,
               false,
               false,
               true,
               false,
               false
              ]
             },
             {
              "title": "Popularity of Trees vs. GDP"
             }
            ],
            "label": "Trees",
            "method": "update"
           },
           {
            "args": [
             {
              "visible": [
               false,
               false,
               false,
               false,
               false,
               false,
               false,
               false,
               false,
               false,
               false,
               false,
               false,
               false,
               false,
               false,
               false,
               false,
               false,
               true,
               false
              ]
             },
             {
              "title": "Popularity of Women vs. GDP"
             }
            ],
            "label": "Women",
            "method": "update"
           }
          ],
          "direction": "down",
          "showactive": true,
          "x": 0.1,
          "y": 1.15
         }
        ],
        "xaxis": {
         "gridcolor": "gray",
         "showgrid": true,
         "title": {
          "text": "GDP in billions of $"
         },
         "zerolinecolor": "black"
        },
        "yaxis": {
         "gridcolor": "gray",
         "showgrid": true,
         "title": {
          "text": "Number of Paintings"
         },
         "zerolinecolor": "black"
        }
       }
      },
      "text/html": [
       "<div>                            <div id=\"d791c947-e75b-493a-a594-0c0898ce2b89\" class=\"plotly-graph-div\" style=\"height:525px; width:100%;\"></div>            <script type=\"text/javascript\">                require([\"plotly\"], function(Plotly) {                    window.PLOTLYENV=window.PLOTLYENV || {};                                    if (document.getElementById(\"d791c947-e75b-493a-a594-0c0898ce2b89\")) {                    Plotly.newPlot(                        \"d791c947-e75b-493a-a594-0c0898ce2b89\",                        [{\"line\":{\"color\":\"#cc0000\"},\"name\":\"Animals\",\"visible\":true,\"x\":[1089.0,1191.0,2140.0,2970.0,4369.0,6223.0,8374.0,11439.0,15544.0,18582.0,21617.0],\"y\":[84,221,48,5,9,13,17,14,0,0],\"type\":\"scatter\"},{\"line\":{\"color\":\"#00cc3b\"},\"name\":\"Architecture\",\"visible\":false,\"x\":[1089.0,1191.0,2140.0,2970.0,4369.0,6223.0,8374.0,11439.0,15544.0,18582.0,21617.0],\"y\":[191,308,92,8,22,9,4,12,2,0],\"type\":\"scatter\"},{\"line\":{\"color\":\"#7600cc\"},\"name\":\"Boats and boating\",\"visible\":false,\"x\":[1089.0,1191.0,2140.0,2970.0,4369.0,6223.0,8374.0,11439.0,15544.0,18582.0,21617.0],\"y\":[35,46,18,0,4,3,1,3,0,0],\"type\":\"scatter\"},{\"line\":{\"color\":\"#ccb200\"},\"name\":\"Botanical study\",\"visible\":false,\"x\":[1089.0,1191.0,2140.0,2970.0,4369.0,6223.0,8374.0,11439.0,15544.0,18582.0,21617.0],\"y\":[154,269,17,0,0,0,0,0,0,0],\"type\":\"scatter\"},{\"line\":{\"color\":\"#00a9cc\"},\"name\":\"Children\",\"visible\":false,\"x\":[1089.0,1191.0,2140.0,2970.0,4369.0,6223.0,8374.0,11439.0,15544.0,18582.0,21617.0],\"y\":[25,32,2,2,2,1,12,7,1,1],\"type\":\"scatter\"},{\"line\":{\"color\":\"#cc006e\"},\"name\":\"Cityscapes\",\"visible\":false,\"x\":[1089.0,1191.0,2140.0,2970.0,4369.0,6223.0,8374.0,11439.0,15544.0,18582.0,21617.0],\"y\":[65,135,30,0,9,2,0,0,0,0],\"type\":\"scatter\"},{\"line\":{\"color\":\"#32cc00\"},\"name\":\"Clothing and dress\",\"visible\":false,\"x\":[1089.0,1191.0,2140.0,2970.0,4369.0,6223.0,8374.0,11439.0,15544.0,18582.0,21617.0],\"y\":[48,68,28,4,3,3,8,8,1,0],\"type\":\"scatter\"},{\"line\":{\"color\":\"#0800cc\"},\"name\":\"Domestic\",\"visible\":false,\"x\":[1089.0,1191.0,2140.0,2970.0,4369.0,6223.0,8374.0,11439.0,15544.0,18582.0,21617.0],\"y\":[62,82,46,5,13,2,1,2,0,0],\"type\":\"scatter\"},{\"line\":{\"color\":\"#cc4400\"},\"name\":\"Dress accessories\",\"visible\":false,\"x\":[1089.0,1191.0,2140.0,2970.0,4369.0,6223.0,8374.0,11439.0,15544.0,18582.0,21617.0],\"y\":[35,59,14,2,3,3,8,8,1,0],\"type\":\"scatter\"},{\"line\":{\"color\":\"#00cc7f\"},\"name\":\"Figure female\",\"visible\":false,\"x\":[1089.0,1191.0,2140.0,2970.0,4369.0,6223.0,8374.0,11439.0,15544.0,18582.0,21617.0],\"y\":[81,100,29,4,2,1,1,7,0,0],\"type\":\"scatter\"},{\"line\":{\"color\":\"#ba00cc\"},\"name\":\"Figure group\",\"visible\":false,\"x\":[1089.0,1191.0,2140.0,2970.0,4369.0,6223.0,8374.0,11439.0,15544.0,18582.0,21617.0],\"y\":[141,200,74,6,12,6,4,5,2,0],\"type\":\"scatter\"},{\"line\":{\"color\":\"#a1cc00\"},\"name\":\"Figure male\",\"visible\":false,\"x\":[1089.0,1191.0,2140.0,2970.0,4369.0,6223.0,8374.0,11439.0,15544.0,18582.0,21617.0],\"y\":[53,68,82,4,8,1,4,2,1,0],\"type\":\"scatter\"},{\"line\":{\"color\":\"#0065cc\"},\"name\":\"Landscapes\",\"visible\":false,\"x\":[1089.0,1191.0,2140.0,2970.0,4369.0,6223.0,8374.0,11439.0,15544.0,18582.0,21617.0],\"y\":[251,305,103,9,24,5,4,4,1,0],\"type\":\"scatter\"},{\"line\":{\"color\":\"#cc002a\"},\"name\":\"Men\",\"visible\":false,\"x\":[1089.0,1191.0,2140.0,2970.0,4369.0,6223.0,8374.0,11439.0,15544.0,18582.0,21617.0],\"y\":[81,157,32,2,9,3,22,2,3,0],\"type\":\"scatter\"},{\"line\":{\"color\":\"#00cc11\"},\"name\":\"Nudity\",\"visible\":false,\"x\":[1089.0,1191.0,2140.0,2970.0,4369.0,6223.0,8374.0,11439.0,15544.0,18582.0,21617.0],\"y\":[46,80,7,1,0,0,1,1,0,0],\"type\":\"scatter\"},{\"line\":{\"color\":\"#4c00cc\"},\"name\":\"Occupations\",\"visible\":false,\"x\":[1089.0,1191.0,2140.0,2970.0,4369.0,6223.0,8374.0,11439.0,15544.0,18582.0,21617.0],\"y\":[99,138,85,2,8,6,2,3,0,0],\"type\":\"scatter\"},{\"line\":{\"color\":\"#cc8800\"},\"name\":\"Portraits\",\"visible\":false,\"x\":[1089.0,1191.0,2140.0,2970.0,4369.0,6223.0,8374.0,11439.0,15544.0,18582.0,21617.0],\"y\":[107,169,25,4,8,6,32,1,3,1],\"type\":\"scatter\"},{\"line\":{\"color\":\"#00ccc3\"},\"name\":\"Religion\",\"visible\":false,\"x\":[1089.0,1191.0,2140.0,2970.0,4369.0,6223.0,8374.0,11439.0,15544.0,18582.0,21617.0],\"y\":[41,76,14,3,1,1,1,1,0,1],\"type\":\"scatter\"},{\"line\":{\"color\":\"#cc0098\"},\"name\":\"Trees\",\"visible\":false,\"x\":[1089.0,1191.0,2140.0,2970.0,4369.0,6223.0,8374.0,11439.0,15544.0,18582.0,21617.0],\"y\":[41,65,11,2,5,3,0,0,0,0],\"type\":\"scatter\"},{\"line\":{\"color\":\"#5dcc00\"},\"name\":\"Women\",\"visible\":false,\"x\":[1089.0,1191.0,2140.0,2970.0,4369.0,6223.0,8374.0,11439.0,15544.0,18582.0,21617.0],\"y\":[60,66,16,2,3,4,15,3,0,0],\"type\":\"scatter\"},{\"line\":{\"color\":\"black\",\"dash\":\"dashdot\",\"width\":3},\"name\":\"Average Effect\",\"visible\":false,\"x\":[1089.0,1191.0,2140.0,2970.0,4369.0,6223.0,8374.0,11439.0,15544.0,18582.0,21617.0],\"y\":[85.0,132.2,38.65,3.25,7.25,3.6,6.85,4.15,0.75,0.15],\"type\":\"scatter\"}],                        {\"template\":{\"data\":{\"histogram2dcontour\":[{\"type\":\"histogram2dcontour\",\"colorbar\":{\"outlinewidth\":0,\"ticks\":\"\"},\"colorscale\":[[0.0,\"#0d0887\"],[0.1111111111111111,\"#46039f\"],[0.2222222222222222,\"#7201a8\"],[0.3333333333333333,\"#9c179e\"],[0.4444444444444444,\"#bd3786\"],[0.5555555555555556,\"#d8576b\"],[0.6666666666666666,\"#ed7953\"],[0.7777777777777778,\"#fb9f3a\"],[0.8888888888888888,\"#fdca26\"],[1.0,\"#f0f921\"]]}],\"choropleth\":[{\"type\":\"choropleth\",\"colorbar\":{\"outlinewidth\":0,\"ticks\":\"\"}}],\"histogram2d\":[{\"type\":\"histogram2d\",\"colorbar\":{\"outlinewidth\":0,\"ticks\":\"\"},\"colorscale\":[[0.0,\"#0d0887\"],[0.1111111111111111,\"#46039f\"],[0.2222222222222222,\"#7201a8\"],[0.3333333333333333,\"#9c179e\"],[0.4444444444444444,\"#bd3786\"],[0.5555555555555556,\"#d8576b\"],[0.6666666666666666,\"#ed7953\"],[0.7777777777777778,\"#fb9f3a\"],[0.8888888888888888,\"#fdca26\"],[1.0,\"#f0f921\"]]}],\"heatmap\":[{\"type\":\"heatmap\",\"colorbar\":{\"outlinewidth\":0,\"ticks\":\"\"},\"colorscale\":[[0.0,\"#0d0887\"],[0.1111111111111111,\"#46039f\"],[0.2222222222222222,\"#7201a8\"],[0.3333333333333333,\"#9c179e\"],[0.4444444444444444,\"#bd3786\"],[0.5555555555555556,\"#d8576b\"],[0.6666666666666666,\"#ed7953\"],[0.7777777777777778,\"#fb9f3a\"],[0.8888888888888888,\"#fdca26\"],[1.0,\"#f0f921\"]]}],\"heatmapgl\":[{\"type\":\"heatmapgl\",\"colorbar\":{\"outlinewidth\":0,\"ticks\":\"\"},\"colorscale\":[[0.0,\"#0d0887\"],[0.1111111111111111,\"#46039f\"],[0.2222222222222222,\"#7201a8\"],[0.3333333333333333,\"#9c179e\"],[0.4444444444444444,\"#bd3786\"],[0.5555555555555556,\"#d8576b\"],[0.6666666666666666,\"#ed7953\"],[0.7777777777777778,\"#fb9f3a\"],[0.8888888888888888,\"#fdca26\"],[1.0,\"#f0f921\"]]}],\"contourcarpet\":[{\"type\":\"contourcarpet\",\"colorbar\":{\"outlinewidth\":0,\"ticks\":\"\"}}],\"contour\":[{\"type\":\"contour\",\"colorbar\":{\"outlinewidth\":0,\"ticks\":\"\"},\"colorscale\":[[0.0,\"#0d0887\"],[0.1111111111111111,\"#46039f\"],[0.2222222222222222,\"#7201a8\"],[0.3333333333333333,\"#9c179e\"],[0.4444444444444444,\"#bd3786\"],[0.5555555555555556,\"#d8576b\"],[0.6666666666666666,\"#ed7953\"],[0.7777777777777778,\"#fb9f3a\"],[0.8888888888888888,\"#fdca26\"],[1.0,\"#f0f921\"]]}],\"surface\":[{\"type\":\"surface\",\"colorbar\":{\"outlinewidth\":0,\"ticks\":\"\"},\"colorscale\":[[0.0,\"#0d0887\"],[0.1111111111111111,\"#46039f\"],[0.2222222222222222,\"#7201a8\"],[0.3333333333333333,\"#9c179e\"],[0.4444444444444444,\"#bd3786\"],[0.5555555555555556,\"#d8576b\"],[0.6666666666666666,\"#ed7953\"],[0.7777777777777778,\"#fb9f3a\"],[0.8888888888888888,\"#fdca26\"],[1.0,\"#f0f921\"]]}],\"mesh3d\":[{\"type\":\"mesh3d\",\"colorbar\":{\"outlinewidth\":0,\"ticks\":\"\"}}],\"scatter\":[{\"fillpattern\":{\"fillmode\":\"overlay\",\"size\":10,\"solidity\":0.2},\"type\":\"scatter\"}],\"parcoords\":[{\"type\":\"parcoords\",\"line\":{\"colorbar\":{\"outlinewidth\":0,\"ticks\":\"\"}}}],\"scatterpolargl\":[{\"type\":\"scatterpolargl\",\"marker\":{\"colorbar\":{\"outlinewidth\":0,\"ticks\":\"\"}}}],\"bar\":[{\"error_x\":{\"color\":\"#2a3f5f\"},\"error_y\":{\"color\":\"#2a3f5f\"},\"marker\":{\"line\":{\"color\":\"#E5ECF6\",\"width\":0.5},\"pattern\":{\"fillmode\":\"overlay\",\"size\":10,\"solidity\":0.2}},\"type\":\"bar\"}],\"scattergeo\":[{\"type\":\"scattergeo\",\"marker\":{\"colorbar\":{\"outlinewidth\":0,\"ticks\":\"\"}}}],\"scatterpolar\":[{\"type\":\"scatterpolar\",\"marker\":{\"colorbar\":{\"outlinewidth\":0,\"ticks\":\"\"}}}],\"histogram\":[{\"marker\":{\"pattern\":{\"fillmode\":\"overlay\",\"size\":10,\"solidity\":0.2}},\"type\":\"histogram\"}],\"scattergl\":[{\"type\":\"scattergl\",\"marker\":{\"colorbar\":{\"outlinewidth\":0,\"ticks\":\"\"}}}],\"scatter3d\":[{\"type\":\"scatter3d\",\"line\":{\"colorbar\":{\"outlinewidth\":0,\"ticks\":\"\"}},\"marker\":{\"colorbar\":{\"outlinewidth\":0,\"ticks\":\"\"}}}],\"scattermapbox\":[{\"type\":\"scattermapbox\",\"marker\":{\"colorbar\":{\"outlinewidth\":0,\"ticks\":\"\"}}}],\"scatterternary\":[{\"type\":\"scatterternary\",\"marker\":{\"colorbar\":{\"outlinewidth\":0,\"ticks\":\"\"}}}],\"scattercarpet\":[{\"type\":\"scattercarpet\",\"marker\":{\"colorbar\":{\"outlinewidth\":0,\"ticks\":\"\"}}}],\"carpet\":[{\"aaxis\":{\"endlinecolor\":\"#2a3f5f\",\"gridcolor\":\"white\",\"linecolor\":\"white\",\"minorgridcolor\":\"white\",\"startlinecolor\":\"#2a3f5f\"},\"baxis\":{\"endlinecolor\":\"#2a3f5f\",\"gridcolor\":\"white\",\"linecolor\":\"white\",\"minorgridcolor\":\"white\",\"startlinecolor\":\"#2a3f5f\"},\"type\":\"carpet\"}],\"table\":[{\"cells\":{\"fill\":{\"color\":\"#EBF0F8\"},\"line\":{\"color\":\"white\"}},\"header\":{\"fill\":{\"color\":\"#C8D4E3\"},\"line\":{\"color\":\"white\"}},\"type\":\"table\"}],\"barpolar\":[{\"marker\":{\"line\":{\"color\":\"#E5ECF6\",\"width\":0.5},\"pattern\":{\"fillmode\":\"overlay\",\"size\":10,\"solidity\":0.2}},\"type\":\"barpolar\"}],\"pie\":[{\"automargin\":true,\"type\":\"pie\"}]},\"layout\":{\"autotypenumbers\":\"strict\",\"colorway\":[\"#636efa\",\"#EF553B\",\"#00cc96\",\"#ab63fa\",\"#FFA15A\",\"#19d3f3\",\"#FF6692\",\"#B6E880\",\"#FF97FF\",\"#FECB52\"],\"font\":{\"color\":\"#2a3f5f\"},\"hovermode\":\"closest\",\"hoverlabel\":{\"align\":\"left\"},\"paper_bgcolor\":\"white\",\"plot_bgcolor\":\"#E5ECF6\",\"polar\":{\"bgcolor\":\"#E5ECF6\",\"angularaxis\":{\"gridcolor\":\"white\",\"linecolor\":\"white\",\"ticks\":\"\"},\"radialaxis\":{\"gridcolor\":\"white\",\"linecolor\":\"white\",\"ticks\":\"\"}},\"ternary\":{\"bgcolor\":\"#E5ECF6\",\"aaxis\":{\"gridcolor\":\"white\",\"linecolor\":\"white\",\"ticks\":\"\"},\"baxis\":{\"gridcolor\":\"white\",\"linecolor\":\"white\",\"ticks\":\"\"},\"caxis\":{\"gridcolor\":\"white\",\"linecolor\":\"white\",\"ticks\":\"\"}},\"coloraxis\":{\"colorbar\":{\"outlinewidth\":0,\"ticks\":\"\"}},\"colorscale\":{\"sequential\":[[0.0,\"#0d0887\"],[0.1111111111111111,\"#46039f\"],[0.2222222222222222,\"#7201a8\"],[0.3333333333333333,\"#9c179e\"],[0.4444444444444444,\"#bd3786\"],[0.5555555555555556,\"#d8576b\"],[0.6666666666666666,\"#ed7953\"],[0.7777777777777778,\"#fb9f3a\"],[0.8888888888888888,\"#fdca26\"],[1.0,\"#f0f921\"]],\"sequentialminus\":[[0.0,\"#0d0887\"],[0.1111111111111111,\"#46039f\"],[0.2222222222222222,\"#7201a8\"],[0.3333333333333333,\"#9c179e\"],[0.4444444444444444,\"#bd3786\"],[0.5555555555555556,\"#d8576b\"],[0.6666666666666666,\"#ed7953\"],[0.7777777777777778,\"#fb9f3a\"],[0.8888888888888888,\"#fdca26\"],[1.0,\"#f0f921\"]],\"diverging\":[[0,\"#8e0152\"],[0.1,\"#c51b7d\"],[0.2,\"#de77ae\"],[0.3,\"#f1b6da\"],[0.4,\"#fde0ef\"],[0.5,\"#f7f7f7\"],[0.6,\"#e6f5d0\"],[0.7,\"#b8e186\"],[0.8,\"#7fbc41\"],[0.9,\"#4d9221\"],[1,\"#276419\"]]},\"xaxis\":{\"gridcolor\":\"white\",\"linecolor\":\"white\",\"ticks\":\"\",\"title\":{\"standoff\":15},\"zerolinecolor\":\"white\",\"automargin\":true,\"zerolinewidth\":2},\"yaxis\":{\"gridcolor\":\"white\",\"linecolor\":\"white\",\"ticks\":\"\",\"title\":{\"standoff\":15},\"zerolinecolor\":\"white\",\"automargin\":true,\"zerolinewidth\":2},\"scene\":{\"xaxis\":{\"backgroundcolor\":\"#E5ECF6\",\"gridcolor\":\"white\",\"linecolor\":\"white\",\"showbackground\":true,\"ticks\":\"\",\"zerolinecolor\":\"white\",\"gridwidth\":2},\"yaxis\":{\"backgroundcolor\":\"#E5ECF6\",\"gridcolor\":\"white\",\"linecolor\":\"white\",\"showbackground\":true,\"ticks\":\"\",\"zerolinecolor\":\"white\",\"gridwidth\":2},\"zaxis\":{\"backgroundcolor\":\"#E5ECF6\",\"gridcolor\":\"white\",\"linecolor\":\"white\",\"showbackground\":true,\"ticks\":\"\",\"zerolinecolor\":\"white\",\"gridwidth\":2}},\"shapedefaults\":{\"line\":{\"color\":\"#2a3f5f\"}},\"annotationdefaults\":{\"arrowcolor\":\"#2a3f5f\",\"arrowhead\":0,\"arrowwidth\":1},\"geo\":{\"bgcolor\":\"white\",\"landcolor\":\"#E5ECF6\",\"subunitcolor\":\"white\",\"showland\":true,\"showlakes\":true,\"lakecolor\":\"white\"},\"title\":{\"x\":0.05},\"mapbox\":{\"style\":\"light\"}}},\"xaxis\":{\"showgrid\":true,\"gridcolor\":\"gray\",\"zerolinecolor\":\"black\",\"title\":{\"text\":\"GDP in billions of $\"}},\"yaxis\":{\"showgrid\":true,\"gridcolor\":\"gray\",\"zerolinecolor\":\"black\",\"title\":{\"text\":\"Number of Paintings\"}},\"paper_bgcolor\":\"white\",\"plot_bgcolor\":\"white\",\"updatemenus\":[{\"buttons\":[{\"args\":[{\"visible\":[true,true,true,true,true,true,true,true,true,true,true,true,true,true,true,true,true,true,true,true,false]},{\"title\":\"Popularity of All Art Themes vs. GDP\"}],\"label\":\"All Themes\",\"method\":\"update\"},{\"args\":[{\"visible\":[false,false,false,false,false,false,false,false,false,false,false,false,false,false,false,false,false,false,false,false,true]},{\"title\":\"Average Effect of GDP on Number of Paintings\"}],\"label\":\"Average Effect\",\"method\":\"update\"},{\"args\":[{\"visible\":[true,false,false,false,false,false,false,false,false,false,false,false,false,false,false,false,false,false,false,false,false]},{\"title\":\"Popularity of Animals vs. GDP\"}],\"label\":\"Animals\",\"method\":\"update\"},{\"args\":[{\"visible\":[false,true,false,false,false,false,false,false,false,false,false,false,false,false,false,false,false,false,false,false,false]},{\"title\":\"Popularity of Architecture vs. GDP\"}],\"label\":\"Architecture\",\"method\":\"update\"},{\"args\":[{\"visible\":[false,false,true,false,false,false,false,false,false,false,false,false,false,false,false,false,false,false,false,false,false]},{\"title\":\"Popularity of Boats and boating vs. GDP\"}],\"label\":\"Boats and boating\",\"method\":\"update\"},{\"args\":[{\"visible\":[false,false,false,true,false,false,false,false,false,false,false,false,false,false,false,false,false,false,false,false,false]},{\"title\":\"Popularity of Botanical study vs. GDP\"}],\"label\":\"Botanical study\",\"method\":\"update\"},{\"args\":[{\"visible\":[false,false,false,false,true,false,false,false,false,false,false,false,false,false,false,false,false,false,false,false,false]},{\"title\":\"Popularity of Children vs. GDP\"}],\"label\":\"Children\",\"method\":\"update\"},{\"args\":[{\"visible\":[false,false,false,false,false,true,false,false,false,false,false,false,false,false,false,false,false,false,false,false,false]},{\"title\":\"Popularity of Cityscapes vs. GDP\"}],\"label\":\"Cityscapes\",\"method\":\"update\"},{\"args\":[{\"visible\":[false,false,false,false,false,false,true,false,false,false,false,false,false,false,false,false,false,false,false,false,false]},{\"title\":\"Popularity of Clothing and dress vs. GDP\"}],\"label\":\"Clothing and dress\",\"method\":\"update\"},{\"args\":[{\"visible\":[false,false,false,false,false,false,false,true,false,false,false,false,false,false,false,false,false,false,false,false,false]},{\"title\":\"Popularity of Domestic vs. GDP\"}],\"label\":\"Domestic\",\"method\":\"update\"},{\"args\":[{\"visible\":[false,false,false,false,false,false,false,false,true,false,false,false,false,false,false,false,false,false,false,false,false]},{\"title\":\"Popularity of Dress accessories vs. GDP\"}],\"label\":\"Dress accessories\",\"method\":\"update\"},{\"args\":[{\"visible\":[false,false,false,false,false,false,false,false,false,true,false,false,false,false,false,false,false,false,false,false,false]},{\"title\":\"Popularity of Figure female vs. GDP\"}],\"label\":\"Figure female\",\"method\":\"update\"},{\"args\":[{\"visible\":[false,false,false,false,false,false,false,false,false,false,true,false,false,false,false,false,false,false,false,false,false]},{\"title\":\"Popularity of Figure group vs. GDP\"}],\"label\":\"Figure group\",\"method\":\"update\"},{\"args\":[{\"visible\":[false,false,false,false,false,false,false,false,false,false,false,true,false,false,false,false,false,false,false,false,false]},{\"title\":\"Popularity of Figure male vs. GDP\"}],\"label\":\"Figure male\",\"method\":\"update\"},{\"args\":[{\"visible\":[false,false,false,false,false,false,false,false,false,false,false,false,true,false,false,false,false,false,false,false,false]},{\"title\":\"Popularity of Landscapes vs. GDP\"}],\"label\":\"Landscapes\",\"method\":\"update\"},{\"args\":[{\"visible\":[false,false,false,false,false,false,false,false,false,false,false,false,false,true,false,false,false,false,false,false,false]},{\"title\":\"Popularity of Men vs. GDP\"}],\"label\":\"Men\",\"method\":\"update\"},{\"args\":[{\"visible\":[false,false,false,false,false,false,false,false,false,false,false,false,false,false,true,false,false,false,false,false,false]},{\"title\":\"Popularity of Nudity vs. GDP\"}],\"label\":\"Nudity\",\"method\":\"update\"},{\"args\":[{\"visible\":[false,false,false,false,false,false,false,false,false,false,false,false,false,false,false,true,false,false,false,false,false]},{\"title\":\"Popularity of Occupations vs. GDP\"}],\"label\":\"Occupations\",\"method\":\"update\"},{\"args\":[{\"visible\":[false,false,false,false,false,false,false,false,false,false,false,false,false,false,false,false,true,false,false,false,false]},{\"title\":\"Popularity of Portraits vs. GDP\"}],\"label\":\"Portraits\",\"method\":\"update\"},{\"args\":[{\"visible\":[false,false,false,false,false,false,false,false,false,false,false,false,false,false,false,false,false,true,false,false,false]},{\"title\":\"Popularity of Religion vs. GDP\"}],\"label\":\"Religion\",\"method\":\"update\"},{\"args\":[{\"visible\":[false,false,false,false,false,false,false,false,false,false,false,false,false,false,false,false,false,false,true,false,false]},{\"title\":\"Popularity of Trees vs. GDP\"}],\"label\":\"Trees\",\"method\":\"update\"},{\"args\":[{\"visible\":[false,false,false,false,false,false,false,false,false,false,false,false,false,false,false,false,false,false,false,true,false]},{\"title\":\"Popularity of Women vs. GDP\"}],\"label\":\"Women\",\"method\":\"update\"}],\"direction\":\"down\",\"showactive\":true,\"x\":0.1,\"y\":1.15}],\"title\":{\"text\":\"Popularity of Art Themes vs. GDP\"}},                        {\"responsive\": true}                    ).then(function(){\n",
       "                            \n",
       "var gd = document.getElementById('d791c947-e75b-493a-a594-0c0898ce2b89');\n",
       "var x = new MutationObserver(function (mutations, observer) {{\n",
       "        var display = window.getComputedStyle(gd).display;\n",
       "        if (!display || display === 'none') {{\n",
       "            console.log([gd, 'removed!']);\n",
       "            Plotly.purge(gd);\n",
       "            observer.disconnect();\n",
       "        }}\n",
       "}});\n",
       "\n",
       "// Listen for the removal of the full notebook cells\n",
       "var notebookContainer = gd.closest('#notebook-container');\n",
       "if (notebookContainer) {{\n",
       "    x.observe(notebookContainer, {childList: true});\n",
       "}}\n",
       "\n",
       "// Listen for the clearing of the current output cell\n",
       "var outputEl = gd.closest('.output');\n",
       "if (outputEl) {{\n",
       "    x.observe(outputEl, {childList: true});\n",
       "}}\n",
       "\n",
       "                        })                };                });            </script>        </div>"
      ]
     },
     "metadata": {},
     "output_type": "display_data"
    }
   ],
   "source": [
    "import numpy as np\n",
    "import plotly.graph_objects as go\n",
    "import colorsys\n",
    "\n",
    "# Example data\n",
    "art_themes = art_themes_list\n",
    "GDP_by_decade = GDP_list\n",
    "paintings_data = array_ordered\n",
    "\n",
    "# Function to generate high-contrast colors\n",
    "def generate_colors(n):\n",
    "    colors = []\n",
    "    for i in range(n):\n",
    "        hue = (i * 137.5) % 360  # Spread colors around the HSL wheel\n",
    "        rgb = colorsys.hls_to_rgb(hue / 360, 0.4, 1.0)  # Ensure mid-brightness\n",
    "        hex_color = \"#{:02x}{:02x}{:02x}\".format(\n",
    "            int(rgb[0] * 255), int(rgb[1] * 255), int(rgb[2] * 255)\n",
    "        )\n",
    "        colors.append(hex_color)\n",
    "    return colors\n",
    "\n",
    "# Generate a color list with good contrast\n",
    "colors = generate_colors(len(art_themes))\n",
    "\n",
    "# Calculate the average effect of GDP on paintings\n",
    "average_paintings = np.mean(paintings_data, axis=1)\n",
    "\n",
    "# Initialize figure\n",
    "fig = go.Figure()\n",
    "\n",
    "# Add traces for each art theme\n",
    "for i, theme in enumerate(art_themes):\n",
    "    fig.add_trace(\n",
    "        go.Scatter(\n",
    "            x=GDP_by_decade,\n",
    "            y=paintings_data[:, i],\n",
    "            name=theme,\n",
    "            visible=(i == 0),\n",
    "            line=dict(color=colors[i])\n",
    "        )\n",
    "    )\n",
    "\n",
    "# Add a trace for the average effect (initially hidden)\n",
    "fig.add_trace(\n",
    "    go.Scatter(\n",
    "        x=GDP_by_decade,\n",
    "        y=average_paintings,\n",
    "        name=\"Average Effect\",\n",
    "        visible=False,  # Initially hidden\n",
    "        line=dict(color=\"black\", width=3, dash=\"dashdot\")  # Black dashed line\n",
    "    )\n",
    ")\n",
    "\n",
    "# Create dropdown menu options\n",
    "dropdown_options = [\n",
    "    {\n",
    "        \"label\": \"All Themes\",\n",
    "        \"method\": \"update\",\n",
    "        \"args\": [\n",
    "            {\"visible\": [True] * len(art_themes) + [False]},  # Show all themes, hide average\n",
    "            {\"title\": \"Popularity of All Art Themes vs. GDP\"}\n",
    "        ]\n",
    "    },\n",
    "    {\n",
    "        \"label\": \"Average Effect\",\n",
    "        \"method\": \"update\",\n",
    "        \"args\": [\n",
    "            {\"visible\": [False] * len(art_themes) + [True]},  # Hide all themes, show average\n",
    "            {\"title\": \"Average Effect of GDP on Number of Paintings\"}\n",
    "        ]\n",
    "    }\n",
    "]\n",
    "\n",
    "# Add individual theme options\n",
    "dropdown_options.extend([\n",
    "    {\n",
    "        \"label\": theme,\n",
    "        \"method\": \"update\",\n",
    "        \"args\": [\n",
    "            {\"visible\": [j == i for j in range(len(art_themes))] + [False]},  # Show only selected theme, hide average\n",
    "            {\"title\": f\"Popularity of {theme} vs. GDP\"}\n",
    "        ]\n",
    "    }\n",
    "    for i, theme in enumerate(art_themes)\n",
    "])\n",
    "\n",
    "# Apply layout fixes (White background, gray axis/grid lines)\n",
    "fig.update_layout(\n",
    "    paper_bgcolor=\"white\",\n",
    "    plot_bgcolor=\"white\",\n",
    "    xaxis=dict(\n",
    "        showgrid=True,\n",
    "        gridcolor=\"gray\",\n",
    "        zerolinecolor=\"black\",\n",
    "    ),\n",
    "    yaxis=dict(\n",
    "        showgrid=True,\n",
    "        gridcolor=\"gray\",\n",
    "        zerolinecolor=\"black\"\n",
    "    ),\n",
    "    updatemenus=[\n",
    "        {\n",
    "            \"buttons\": dropdown_options,\n",
    "            \"direction\": \"down\",\n",
    "            \"showactive\": True,\n",
    "            \"x\": 0.1,\n",
    "            \"y\": 1.15\n",
    "        }\n",
    "    ],\n",
    "    title=\"Popularity of Art Themes vs. GDP\",\n",
    "    xaxis_title=\"GDP in billions of $\",\n",
    "    yaxis_title=\"Number of Paintings\"\n",
    ")\n",
    "\n",
    "# Display the figure\n",
    "fig.show()\n"
   ]
  }
 ],
 "metadata": {
  "kernelspec": {
   "display_name": "base",
   "language": "python",
   "name": "python3"
  },
  "language_info": {
   "codemirror_mode": {
    "name": "ipython",
    "version": 3
   },
   "file_extension": ".py",
   "mimetype": "text/x-python",
   "name": "python",
   "nbconvert_exporter": "python",
   "pygments_lexer": "ipython3",
   "version": "3.11.8"
  }
 },
 "nbformat": 4,
 "nbformat_minor": 2
}
