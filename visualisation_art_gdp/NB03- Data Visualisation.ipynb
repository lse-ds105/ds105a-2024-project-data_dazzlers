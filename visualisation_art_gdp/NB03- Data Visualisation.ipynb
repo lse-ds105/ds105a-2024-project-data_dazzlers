{
 "cells": [
  {
   "cell_type": "markdown",
   "metadata": {},
   "source": [
    "# Visualisation of the effect of GDP on the art themes produced"
   ]
  },
  {
   "cell_type": "code",
   "execution_count": 2,
   "metadata": {},
   "outputs": [],
   "source": [
    "import matplotlib.pyplot as plt\n",
    "import numpy as np\n",
    "import matplotlib\n",
    "import matplotlib as mpl\n",
    "import pandas as pd\n",
    "import matplotlib.cm as cm\n",
    "import matplotlib.colors as mcolors\n",
    "import plotly.graph_objects as go\n",
    "import colorsys\n",
    "import plotly.io as pio\n",
    "import sqlite3\n",
    "import seaborn as sns\n"
   ]
  },
  {
   "cell_type": "code",
   "execution_count": null,
   "metadata": {},
   "outputs": [],
   "source": []
  },
  {
   "cell_type": "code",
   "execution_count": 42,
   "metadata": {},
   "outputs": [
    {
     "name": "stdout",
     "output_type": "stream",
     "text": [
      "Output saved to all_art_popular.csv\n"
     ]
    }
   ],
   "source": [
    "def process_themes(input_file, output_file):\n",
    "    \"\"\"\n",
    "    Processes the themes from the input CSV file to identify the top 20 most popular themes \n",
    "    across all years and calculates their counts for each decade.\n",
    "\n",
    "    Parameters:\n",
    "        input_file (str): Path to the input CSV file with columns Year, Theme, Count.\n",
    "        output_file (str): Path to the output CSV file to save the result.\n",
    "    \"\"\"\n",
    "    # Read the input file\n",
    "    data = pd.read_csv(input_file)\n",
    "    \n",
    "    # Convert 'Year' to 'Decade'\n",
    "    data['Decade'] = (data['Year'] // 10 * 10).astype(str) + 's'\n",
    "    \n",
    "    # Get the top 20 themes across all years\n",
    "    top_themes = (\n",
    "        data.groupby('Theme')['Count']\n",
    "        .sum()\n",
    "        .sort_values(ascending=False)\n",
    "        .head(20)\n",
    "        .index\n",
    "    )\n",
    "    \n",
    "    # Filter data to include only the top themes\n",
    "    filtered_data = data[data['Theme'].isin(top_themes)]\n",
    "    \n",
    "    # Pivot the data to create a decade-by-theme table\n",
    "    pivot_table = (\n",
    "        filtered_data\n",
    "        .groupby(['Decade', 'Theme'])['Count']\n",
    "        .sum()\n",
    "        .unstack(fill_value=0)\n",
    "    )\n",
    "    \n",
    "    # Save the pivot table to the output CSV file\n",
    "    pivot_table.to_csv(output_file)\n",
    "    print(f\"Output saved to {output_file}\")\n",
    "\n",
    "# Example usage\n",
    "process_themes('all_art.csv', 'all_art_popular.csv')\n"
   ]
  },
  {
   "cell_type": "code",
   "execution_count": 43,
   "metadata": {},
   "outputs": [
    {
     "name": "stdout",
     "output_type": "stream",
     "text": [
      "['$1191 bn in 1920s', '$1089 bn in 1930s', '$2140 bn in 1940s', '$2970 bn in 1950s', '$4369 bn in 1960s', '$6223 bn in 1970s', '$8374 bn in 1980s', '$11439 bn in 1990s', '$15544 bn in 2000s', '$18582 bn in 2010s']\n",
      "['Animals', 'Architecture', 'Boats and boating', 'Botanical study', 'Children', 'Cityscapes', 'Clothing and dress', 'Domestic', 'Dress accessories', 'Figure female', 'Figure group', 'Figure male', 'Landscapes', 'Men', 'Nudity', 'Occupations', 'Portraits', 'Religion', 'Trees', 'Women']\n"
     ]
    }
   ],
   "source": [
    "gdp_data = pd.read_csv('gdp_decade.csv')\n",
    "GDP_by_decade_list = [f\"${row['Rounded GDP (billions)']:.0f} bn in {row['Decade']}\" \n",
    "                      for _, row in gdp_data.iterrows()]\n",
    "GDP_by_decade = list(GDP_by_decade_list[:10])\n",
    "\n",
    "print(GDP_by_decade)\n",
    "\n",
    "\n",
    "art_data = pd.read_csv('all_art_popular.csv')\n",
    "art_themes_list = list(art_data.columns[1:])\n",
    "\n",
    "print(art_themes_list)"
   ]
  },
  {
   "cell_type": "code",
   "execution_count": 44,
   "metadata": {},
   "outputs": [
    {
     "name": "stdout",
     "output_type": "stream",
     "text": [
      "Themes: ['Animals', 'Architecture', 'Boats and boating', 'Botanical study', 'Children', 'Cityscapes', 'Clothing and dress', 'Domestic', 'Dress accessories', 'Figure female', 'Figure group', 'Figure male', 'Landscapes', 'Men', 'Nudity', 'Occupations', 'Portraits', 'Religion', 'Trees', 'Women']\n",
      "Theme Counts Array:\n",
      "[[221 308  46 269  32 135  68  82  59 100 200  68 305 157  80 138 169  76\n",
      "   65  66]\n",
      " [ 84 191  35 154  25  65  48  62  35  81 141  53 251  81  46  99 107  41\n",
      "   41  60]\n",
      " [ 48  92  18  17   2  30  28  46  14  29  74  82 103  32   7  85  25  14\n",
      "   11  16]\n",
      " [  5   8   0   0   2   0   4   5   2   4   6   4   9   2   1   2   4   3\n",
      "    2   2]\n",
      " [  9  22   4   0   2   9   3  13   3   2  12   8  24   9   0   8   8   1\n",
      "    5   3]\n",
      " [ 13   9   3   0   1   2   3   2   3   1   6   1   5   3   0   6   6   1\n",
      "    3   4]\n",
      " [ 17   4   1   0  12   0   8   1   8   1   4   4   4  22   1   2  32   1\n",
      "    0  15]\n",
      " [ 14  12   3   0   7   0   8   2   8   7   5   2   4   2   1   3   1   1\n",
      "    0   3]\n",
      " [  0   2   0   0   1   0   1   0   1   0   2   1   1   3   0   0   3   0\n",
      "    0   0]\n",
      " [  0   0   0   0   1   0   0   0   0   0   0   0   0   0   0   0   1   1\n",
      "    0   0]]\n"
     ]
    }
   ],
   "source": [
    "def create_theme_array(csv_file):\n",
    "    # Read the CSV file\n",
    "    data = pd.read_csv(csv_file)\n",
    "    \n",
    "    # Extract themes (columns excluding \"Decade\")\n",
    "    themes = list(data.columns[1:])\n",
    "    \n",
    "    # Extract counts as a 2D NumPy array\n",
    "    theme_counts = data.iloc[2:, 1:].values  \n",
    "    \n",
    "    return themes, theme_counts\n",
    "\n",
    "# Usage\n",
    "csv_file = \"all_art_popular.csv\"  # Replace with your file path\n",
    "themes, theme_array = create_theme_array(csv_file)\n",
    "\n",
    "# Print the themes list\n",
    "print(\"Themes:\", themes)\n",
    "\n",
    "# Print the NumPy array\n",
    "print(\"Theme Counts Array:\")\n",
    "print(theme_array)"
   ]
  },
  {
   "cell_type": "markdown",
   "metadata": {},
   "source": [
    "The array above is the absolute number of art pieces made in every art theme each decade from 1920s to 2010s. While the array below is the percentage of each art theme made each year out of the total number of the top 20 art themes each year.\n"
   ]
  },
  {
   "cell_type": "code",
   "execution_count": 45,
   "metadata": {},
   "outputs": [
    {
     "name": "stdout",
     "output_type": "stream",
     "text": [
      "[[ 8. 12.  2. 10.  1.  5.  3.  3.  2.  4.  8.  3. 12.  6.  3.  5.  6.  3.\n",
      "   2.  2.]\n",
      " [ 5. 11.  2.  9.  1.  4.  3.  4.  2.  5.  8.  3. 15.  5.  3.  6.  6.  2.\n",
      "   2.  4.]\n",
      " [ 6. 12.  2.  2.  0.  4.  4.  6.  2.  4. 10. 11. 13.  4.  1. 11.  3.  2.\n",
      "   1.  2.]\n",
      " [ 8. 12.  0.  0.  3.  0.  6.  8.  3.  6.  9.  6. 14.  3.  2.  3.  6.  5.\n",
      "   3.  3.]\n",
      " [ 6. 15.  3.  0.  1.  6.  2.  9.  2.  1.  8.  6. 17.  6.  0.  6.  6.  1.\n",
      "   3.  2.]\n",
      " [18. 12.  4.  0.  1.  3.  4.  3.  4.  1.  8.  1.  7.  4.  0.  8.  8.  1.\n",
      "   4.  6.]\n",
      " [12.  3.  1.  0.  9.  0.  6.  1.  6.  1.  3.  3.  3. 16.  1.  1. 23.  1.\n",
      "   0. 11.]\n",
      " [17. 14.  4.  0.  8.  0. 10.  2. 10.  8.  6.  2.  5.  2.  1.  4.  1.  1.\n",
      "   0.  4.]\n",
      " [ 0. 13.  0.  0.  7.  0.  7.  0.  7.  0. 13.  7.  7. 20.  0.  0. 20.  0.\n",
      "   0.  0.]\n",
      " [ 0.  0.  0.  0. 33.  0.  0.  0.  0.  0.  0.  0.  0.  0.  0.  0. 33. 33.\n",
      "   0.  0.]]\n"
     ]
    }
   ],
   "source": [
    "# Step 1: Calculate the sum of each row (total paintings in each decade)\n",
    "decade_totals = np.sum(theme_array, axis=1)\n",
    "\n",
    "# Step 2: Normalize the array to percentage values\n",
    "percentage_array = (theme_array.T / decade_totals).T * 100  # Transpose to divide by row totals\n",
    "percentage_array_rounded = np.round(percentage_array, 0)\n",
    "\n",
    "# Now, percentage_array contains the percentage of paintings for each theme per decade\n",
    "print(percentage_array_rounded)"
   ]
  },
  {
   "cell_type": "code",
   "execution_count": 46,
   "metadata": {},
   "outputs": [
    {
     "name": "stderr",
     "output_type": "stream",
     "text": [
      "/tmp/ipykernel_1759/218439095.py:11: MatplotlibDeprecationWarning:\n",
      "\n",
      "The get_cmap function was deprecated in Matplotlib 3.7 and will be removed two minor releases later. Use ``matplotlib.colormaps[name]`` or ``matplotlib.colormaps.get_cmap(obj)`` instead.\n",
      "\n"
     ]
    },
    {
     "data": {
      "image/png": "[encoded data removed]",
      "text/plain": [
       "<Figure size 1200x800 with 1 Axes>"
      ]
     },
     "metadata": {},
     "output_type": "display_data"
    }
   ],
   "source": [
    "fig, ax = plt.subplots(figsize=(12, 8))\n",
    "cmap = 'magma'  # this colormap is known to be accessible for people with colorblindness\n",
    "im = ax.imshow(percentage_array_rounded, cmap=cmap)\n",
    "\n",
    "# Show all ticks and label them\n",
    "ax.set_xticks(range(len(art_themes_list)), labels=art_themes_list, rotation=45, ha=\"right\", rotation_mode=\"anchor\")\n",
    "ax.set_yticks(range(len(GDP_by_decade)), labels=GDP_by_decade)\n",
    "\n",
    "# Normalize the data to colormap range\n",
    "norm = mcolors.Normalize(vmin=np.min(percentage_array_rounded), vmax=np.max(percentage_array_rounded))\n",
    "colormap = cm.get_cmap(cmap)\n",
    "\n",
    "# Loop over data dimensions and create text annotations\n",
    "for i in range(len(GDP_by_decade)):\n",
    "    for j in range(len(art_themes_list)):\n",
    "        value = percentage_array_rounded[i, j]\n",
    "        color = colormap(norm(value))  # Get RGBA color from colormap\n",
    "        brightness = (0.299 * color[0] + 0.587 * color[1] + 0.114 * color[2])  # Compute perceived brightness\n",
    "        \n",
    "        text_color = \"black\" if brightness > 0.6 else \"white\"  # Switch text color if background is bright so that the writing is visible to everyone, irregardless of background colour\n",
    "        \n",
    "        ax.text(j, i, value, ha=\"center\", va=\"center\", color=text_color)\n",
    "\n",
    "ax.set_title(\"Ratio of Art Themes Made Every Decade\")\n",
    "fig.tight_layout()\n",
    "plt.show()\n"
   ]
  },
  {
   "cell_type": "markdown",
   "metadata": {},
   "source": [
    "pip install streamlit matplotlib in terminal "
   ]
  },
  {
   "cell_type": "markdown",
   "metadata": {},
   "source": [
    "Below I made a variable that lists GDP in ascending order, so the first value of GDP (the lowest) actually represents 1930s while the second represents 1920s. The rest are also in ascending order of decades, e.g. the third item in the list is 1940s and the fourth is 1950s."
   ]
  },
  {
   "cell_type": "code",
   "execution_count": 47,
   "metadata": {},
   "outputs": [
    {
     "name": "stdout",
     "output_type": "stream",
     "text": [
      "[1089.0, 1191.0, 2140.0, 2970.0, 4369.0, 6223.0, 8374.0, 11439.0, 15544.0, 18582.0, 21617.0]\n"
     ]
    }
   ],
   "source": [
    "file_path = \"gdp_decade.csv\"  # Replace with your file path\n",
    "data = pd.read_csv(file_path)\n",
    "\n",
    "# Extract the GDP values and sort them in ascending order\n",
    "GDP_list = sorted(data['Rounded GDP (billions)'].tolist())\n",
    "\n",
    "# Display the result\n",
    "print(GDP_list)\n"
   ]
  },
  {
   "cell_type": "code",
   "execution_count": 48,
   "metadata": {},
   "outputs": [
    {
     "name": "stdout",
     "output_type": "stream",
     "text": [
      "[[ 84 191  35 154  25  65  48  62  35  81 141  53 251  81  46  99 107  41\n",
      "   41  60]\n",
      " [221 308  46 269  32 135  68  82  59 100 200  68 305 157  80 138 169  76\n",
      "   65  66]\n",
      " [ 48  92  18  17   2  30  28  46  14  29  74  82 103  32   7  85  25  14\n",
      "   11  16]\n",
      " [  5   8   0   0   2   0   4   5   2   4   6   4   9   2   1   2   4   3\n",
      "    2   2]\n",
      " [  9  22   4   0   2   9   3  13   3   2  12   8  24   9   0   8   8   1\n",
      "    5   3]\n",
      " [ 13   9   3   0   1   2   3   2   3   1   6   1   5   3   0   6   6   1\n",
      "    3   4]\n",
      " [ 17   4   1   0  12   0   8   1   8   1   4   4   4  22   1   2  32   1\n",
      "    0  15]\n",
      " [ 14  12   3   0   7   0   8   2   8   7   5   2   4   2   1   3   1   1\n",
      "    0   3]\n",
      " [  0   2   0   0   1   0   1   0   1   0   2   1   1   3   0   0   3   0\n",
      "    0   0]\n",
      " [  0   0   0   0   1   0   0   0   0   0   0   0   0   0   0   0   1   1\n",
      "    0   0]]\n"
     ]
    }
   ],
   "source": [
    "\n",
    "# Assuming theme_array is already defined\n",
    "array_ordered = theme_array.copy()  # Create a copy to avoid modifying the original\n",
    "array_ordered[[0, 1]] = array_ordered[[1, 0]]  # Swap the first two rows so that the rows are in increasing GDP order\n",
    "\n",
    "print(array_ordered)\n"
   ]
  },
  {
   "cell_type": "markdown",
   "metadata": {},
   "source": [
    "The interactive graph is shown below"
   ]
  },
  {
   "cell_type": "code",
   "execution_count": 49,
   "metadata": {},
   "outputs": [
    {
     "data": {
      "application/vnd.plotly.v1+json": {
       "config": {
        "plotlyServerURL": "https://plot.ly"
       },
       "data": [
        {
         "line": {
          "color": "#cc0000"
         },
         "name": "Animals",
         "type": "scatter",
         "visible": true,
         "x": [
          1089,
          1191,
          2140,
          2970,
          4369,
          6223,
          8374,
          11439,
          15544,
          18582,
          21617
         ],
         "y": [
          84,
          221,
          48,
          5,
          9,
          13,
          17,
          14,
          0,
          0
         ]
        },
        {
         "line": {
          "color": "#00cc3b"
         },
         "name": "Architecture",
         "type": "scatter",
         "visible": false,
         "x": [
          1089,
          1191,
          2140,
          2970,
          4369,
          6223,
          8374,
          11439,
          15544,
          18582,
          21617
         ],
         "y": [
          191,
          308,
          92,
          8,
          22,
          9,
          4,
          12,
          2,
          0
         ]
        },
        {
         "line": {
          "color": "#7600cc"
         },
         "name": "Boats and boating",
         "type": "scatter",
         "visible": false,
         "x": [
          1089,
          1191,
          2140,
          2970,
          4369,
          6223,
          8374,
          11439,
          15544,
          18582,
          21617
         ],
         "y": [
          35,
          46,
          18,
          0,
          4,
          3,
          1,
          3,
          0,
          0
         ]
        },
        {
         "line": {
          "color": "#ccb200"
         },
         "name": "Botanical study",
         "type": "scatter",
         "visible": false,
         "x": [
          1089,
          1191,
          2140,
          2970,
          4369,
          6223,
          8374,
          11439,
          15544,
          18582,
          21617
         ],
         "y": [
          154,
          269,
          17,
          0,
          0,
          0,
          0,
          0,
          0,
          0
         ]
        },
        {
         "line": {
          "color": "#00a9cc"
         },
         "name": "Children",
         "type": "scatter",
         "visible": false,
         "x": [
          1089,
          1191,
          2140,
          2970,
          4369,
          6223,
          8374,
          11439,
          15544,
          18582,
          21617
         ],
         "y": [
          25,
          32,
          2,
          2,
          2,
          1,
          12,
          7,
          1,
          1
         ]
        },
        {
         "line": {
          "color": "#cc006e"
         },
         "name": "Cityscapes",
         "type": "scatter",
         "visible": false,
         "x": [
          1089,
          1191,
          2140,
          2970,
          4369,
          6223,
          8374,
          11439,
          15544,
          18582,
          21617
         ],
         "y": [
          65,
          135,
          30,
          0,
          9,
          2,
          0,
          0,
          0,
          0
         ]
        },
        {
         "line": {
          "color": "#32cc00"
         },
         "name": "Clothing and dress",
         "type": "scatter",
         "visible": false,
         "x": [
          1089,
          1191,
          2140,
          2970,
          4369,
          6223,
          8374,
          11439,
          15544,
          18582,
          21617
         ],
         "y": [
          48,
          68,
          28,
          4,
          3,
          3,
          8,
          8,
          1,
          0
         ]
        },
        {
         "line": {
          "color": "#0800cc"
         },
         "name": "Domestic",
         "type": "scatter",
         "visible": false,
         "x": [
          1089,
          1191,
          2140,
          2970,
          4369,
          6223,
          8374,
          11439,
          15544,
          18582,
          21617
         ],
         "y": [
          62,
          82,
          46,
          5,
          13,
          2,
          1,
          2,
          0,
          0
         ]
        },
        {
         "line": {
          "color": "#cc4400"
         },
         "name": "Dress accessories",
         "type": "scatter",
         "visible": false,
         "x": [
          1089,
          1191,
          2140,
          2970,
          4369,
          6223,
          8374,
          11439,
          15544,
          18582,
          21617
         ],
         "y": [
          35,
          59,
          14,
          2,
          3,
          3,
          8,
          8,
          1,
          0
         ]
        },
        {
         "line": {
          "color": "#00cc7f"
         },
         "name": "Figure female",
         "type": "scatter",
         "visible": false,
         "x": [
          1089,
          1191,
          2140,
          2970,
          4369,
          6223,
          8374,
          11439,
          15544,
          18582,
          21617
         ],
         "y": [
          81,
          100,
          29,
          4,
          2,
          1,
          1,
          7,
          0,
          0
         ]
        },
        {
         "line": {
          "color": "#ba00cc"
         },
         "name": "Figure group",
         "type": "scatter",
         "visible": false,
         "x": [
          1089,
          1191,
          2140,
          2970,
          4369,
          6223,
          8374,
          11439,
          15544,
          18582,
          21617
         ],
         "y": [
          141,
          200,
          74,
          6,
          12,
          6,
          4,
          5,
          2,
          0
         ]
        },
        {
         "line": {
          "color": "#a1cc00"
         },
         "name": "Figure male",
         "type": "scatter",
         "visible": false,
         "x": [
          1089,
          1191,
          2140,
          2970,
          4369,
          6223,
          8374,
          11439,
          15544,
          18582,
          21617
         ],
         "y": [
          53,
          68,
          82,
          4,
          8,
          1,
          4,
          2,
          1,
          0
         ]
        },
        {
         "line": {
          "color": "#0065cc"
         },
         "name": "Landscapes",
         "type": "scatter",
         "visible": false,
         "x": [
          1089,
          1191,
          2140,
          2970,
          4369,
          6223,
          8374,
          11439,
          15544,
          18582,
          21617
         ],
         "y": [
          251,
          305,
          103,
          9,
          24,
          5,
          4,
          4,
          1,
          0
         ]
        },
        {
         "line": {
          "color": "#cc002a"
         },
         "name": "Men",
         "type": "scatter",
         "visible": false,
         "x": [
          1089,
          1191,
          2140,
          2970,
          4369,
          6223,
          8374,
          11439,
          15544,
          18582,
          21617
         ],
         "y": [
          81,
          157,
          32,
          2,
          9,
          3,
          22,
          2,
          3,
          0
         ]
        },
        {
         "line": {
          "color": "#00cc11"
         },
         "name": "Nudity",
         "type": "scatter",
         "visible": false,
         "x": [
          1089,
          1191,
          2140,
          2970,
          4369,
          6223,
          8374,
          11439,
          15544,
          18582,
          21617
         ],
         "y": [
          46,
          80,
          7,
          1,
          0,
          0,
          1,
          1,
          0,
          0
         ]
        },
        {
         "line": {
          "color": "#4c00cc"
         },
         "name": "Occupations",
         "type": "scatter",
         "visible": false,
         "x": [
          1089,
          1191,
          2140,
          2970,
          4369,
          6223,
          8374,
          11439,
          15544,
          18582,
          21617
         ],
         "y": [
          99,
          138,
          85,
          2,
          8,
          6,
          2,
          3,
          0,
          0
         ]
        },
        {
         "line": {
          "color": "#cc8800"
         },
         "name": "Portraits",
         "type": "scatter",
         "visible": false,
         "x": [
          1089,
          1191,
          2140,
          2970,
          4369,
          6223,
          8374,
          11439,
          15544,
          18582,
          21617
         ],
         "y": [
          107,
          169,
          25,
          4,
          8,
          6,
          32,
          1,
          3,
          1
         ]
        },
        {
         "line": {
          "color": "#00ccc3"
         },
         "name": "Religion",
         "type": "scatter",
         "visible": false,
         "x": [
          1089,
          1191,
          2140,
          2970,
          4369,
          6223,
          8374,
          11439,
          15544,
          18582,
          21617
         ],
         "y": [
          41,
          76,
          14,
          3,
          1,
          1,
          1,
          1,
          0,
          1
         ]
        },
        {
         "line": {
          "color": "#cc0098"
         },
         "name": "Trees",
         "type": "scatter",
         "visible": false,
         "x": [
          1089,
          1191,
          2140,
          2970,
          4369,
          6223,
          8374,
          11439,
          15544,
          18582,
          21617
         ],
         "y": [
          41,
          65,
          11,
          2,
          5,
          3,
          0,
          0,
          0,
          0
         ]
        },
        {
         "line": {
          "color": "#5dcc00"
         },
         "name": "Women",
         "type": "scatter",
         "visible": false,
         "x": [
          1089,
          1191,
          2140,
          2970,
          4369,
          6223,
          8374,
          11439,
          15544,
          18582,
          21617
         ],
         "y": [
          60,
          66,
          16,
          2,
          3,
          4,
          15,
          3,
          0,
          0
         ]
        },
        {
         "line": {
          "color": "black",
          "dash": "dashdot",
          "width": 3
         },
         "name": "Average Effect",
         "type": "scatter",
         "visible": false,
         "x": [
          1089,
          1191,
          2140,
          2970,
          4369,
          6223,
          8374,
          11439,
          15544,
          18582,
          21617
         ],
         "y": [
          85,
          132.2,
          38.65,
          3.25,
          7.25,
          3.6,
          6.85,
          4.15,
          0.75,
          0.15
         ]
        }
       ],
       "layout": {
        "height": 600,
        "paper_bgcolor": "white",
        "plot_bgcolor": "white",
        "template": {
         "data": {
          "bar": [
           {
            "error_x": {
             "color": "#2a3f5f"
            },
            "error_y": {
             "color": "#2a3f5f"
            },
            "marker": {
             "line": {
              "color": "#E5ECF6",
              "width": 0.5
             },
             "pattern": {
              "fillmode": "overlay",
              "size": 10,
              "solidity": 0.2
             }
            },
            "type": "bar"
           }
          ],
          "barpolar": [
           {
            "marker": {
             "line": {
              "color": "#E5ECF6",
              "width": 0.5
             },
             "pattern": {
              "fillmode": "overlay",
              "size": 10,
              "solidity": 0.2
             }
            },
            "type": "barpolar"
           }
          ],
          "carpet": [
           {
            "aaxis": {
             "endlinecolor": "#2a3f5f",
             "gridcolor": "white",
             "linecolor": "white",
             "minorgridcolor": "white",
             "startlinecolor": "#2a3f5f"
            },
            "baxis": {
             "endlinecolor": "#2a3f5f",
             "gridcolor": "white",
             "linecolor": "white",
             "minorgridcolor": "white",
             "startlinecolor": "#2a3f5f"
            },
            "type": "carpet"
           }
          ],
          "choropleth": [
           {
            "colorbar": {
             "outlinewidth": 0,
             "ticks": ""
            },
            "type": "choropleth"
           }
          ],
          "contour": [
           {
            "colorbar": {
             "outlinewidth": 0,
             "ticks": ""
            },
            "colorscale": [
             [
              0,
              "#0d0887"
             ],
             [
              0.1111111111111111,
              "#46039f"
             ],
             [
              0.2222222222222222,
              "#7201a8"
             ],
             [
              0.3333333333333333,
              "#9c179e"
             ],
             [
              0.4444444444444444,
              "#bd3786"
             ],
             [
              0.5555555555555556,
              "#d8576b"
             ],
             [
              0.6666666666666666,
              "#ed7953"
             ],
             [
              0.7777777777777778,
              "#fb9f3a"
             ],
             [
              0.8888888888888888,
              "#fdca26"
             ],
             [
              1,
              "#f0f921"
             ]
            ],
            "type": "contour"
           }
          ],
          "contourcarpet": [
           {
            "colorbar": {
             "outlinewidth": 0,
             "ticks": ""
            },
            "type": "contourcarpet"
           }
          ],
          "heatmap": [
           {
            "colorbar": {
             "outlinewidth": 0,
             "ticks": ""
            },
            "colorscale": [
             [
              0,
              "#0d0887"
             ],
             [
              0.1111111111111111,
              "#46039f"
             ],
             [
              0.2222222222222222,
              "#7201a8"
             ],
             [
              0.3333333333333333,
              "#9c179e"
             ],
             [
              0.4444444444444444,
              "#bd3786"
             ],
             [
              0.5555555555555556,
              "#d8576b"
             ],
             [
              0.6666666666666666,
              "#ed7953"
             ],
             [
              0.7777777777777778,
              "#fb9f3a"
             ],
             [
              0.8888888888888888,
              "#fdca26"
             ],
             [
              1,
              "#f0f921"
             ]
            ],
            "type": "heatmap"
           }
          ],
          "heatmapgl": [
           {
            "colorbar": {
             "outlinewidth": 0,
             "ticks": ""
            },
            "colorscale": [
             [
              0,
              "#0d0887"
             ],
             [
              0.1111111111111111,
              "#46039f"
             ],
             [
              0.2222222222222222,
              "#7201a8"
             ],
             [
              0.3333333333333333,
              "#9c179e"
             ],
             [
              0.4444444444444444,
              "#bd3786"
             ],
             [
              0.5555555555555556,
              "#d8576b"
             ],
             [
              0.6666666666666666,
              "#ed7953"
             ],
             [
              0.7777777777777778,
              "#fb9f3a"
             ],
             [
              0.8888888888888888,
              "#fdca26"
             ],
             [
              1,
              "#f0f921"
             ]
            ],
            "type": "heatmapgl"
           }
          ],
          "histogram": [
           {
            "marker": {
             "pattern": {
              "fillmode": "overlay",
              "size": 10,
              "solidity": 0.2
             }
            },
            "type": "histogram"
           }
          ],
          "histogram2d": [
           {
            "colorbar": {
             "outlinewidth": 0,
             "ticks": ""
            },
            "colorscale": [
             [
              0,
              "#0d0887"
             ],
             [
              0.1111111111111111,
              "#46039f"
             ],
             [
              0.2222222222222222,
              "#7201a8"
             ],
             [
              0.3333333333333333,
              "#9c179e"
             ],
             [
              0.4444444444444444,
              "#bd3786"
             ],
             [
              0.5555555555555556,
              "#d8576b"
             ],
             [
              0.6666666666666666,
              "#ed7953"
             ],
             [
              0.7777777777777778,
              "#fb9f3a"
             ],
             [
              0.8888888888888888,
              "#fdca26"
             ],
             [
              1,
              "#f0f921"
             ]
            ],
            "type": "histogram2d"
           }
          ],
          "histogram2dcontour": [
           {
            "colorbar": {
             "outlinewidth": 0,
             "ticks": ""
            },
            "colorscale": [
             [
              0,
              "#0d0887"
             ],
             [
              0.1111111111111111,
              "#46039f"
             ],
             [
              0.2222222222222222,
              "#7201a8"
             ],
             [
              0.3333333333333333,
              "#9c179e"
             ],
             [
              0.4444444444444444,
              "#bd3786"
             ],
             [
              0.5555555555555556,
              "#d8576b"
             ],
             [
              0.6666666666666666,
              "#ed7953"
             ],
             [
              0.7777777777777778,
              "#fb9f3a"
             ],
             [
              0.8888888888888888,
              "#fdca26"
             ],
             [
              1,
              "#f0f921"
             ]
            ],
            "type": "histogram2dcontour"
           }
          ],
          "mesh3d": [
           {
            "colorbar": {
             "outlinewidth": 0,
             "ticks": ""
            },
            "type": "mesh3d"
           }
          ],
          "parcoords": [
           {
            "line": {
             "colorbar": {
              "outlinewidth": 0,
              "ticks": ""
             }
            },
            "type": "parcoords"
           }
          ],
          "pie": [
           {
            "automargin": true,
            "type": "pie"
           }
          ],
          "scatter": [
           {
            "fillpattern": {
             "fillmode": "overlay",
             "size": 10,
             "solidity": 0.2
            },
            "type": "scatter"
           }
          ],
          "scatter3d": [
           {
            "line": {
             "colorbar": {
              "outlinewidth": 0,
              "ticks": ""
             }
            },
            "marker": {
             "colorbar": {
              "outlinewidth": 0,
              "ticks": ""
             }
            },
            "type": "scatter3d"
           }
          ],
          "scattercarpet": [
           {
            "marker": {
             "colorbar": {
              "outlinewidth": 0,
              "ticks": ""
             }
            },
            "type": "scattercarpet"
           }
          ],
          "scattergeo": [
           {
            "marker": {
             "colorbar": {
              "outlinewidth": 0,
              "ticks": ""
             }
            },
            "type": "scattergeo"
           }
          ],
          "scattergl": [
           {
            "marker": {
             "colorbar": {
              "outlinewidth": 0,
              "ticks": ""
             }
            },
            "type": "scattergl"
           }
          ],
          "scattermapbox": [
           {
            "marker": {
             "colorbar": {
              "outlinewidth": 0,
              "ticks": ""
             }
            },
            "type": "scattermapbox"
           }
          ],
          "scatterpolar": [
           {
            "marker": {
             "colorbar": {
              "outlinewidth": 0,
              "ticks": ""
             }
            },
            "type": "scatterpolar"
           }
          ],
          "scatterpolargl": [
           {
            "marker": {
             "colorbar": {
              "outlinewidth": 0,
              "ticks": ""
             }
            },
            "type": "scatterpolargl"
           }
          ],
          "scatterternary": [
           {
            "marker": {
             "colorbar": {
              "outlinewidth": 0,
              "ticks": ""
             }
            },
            "type": "scatterternary"
           }
          ],
          "surface": [
           {
            "colorbar": {
             "outlinewidth": 0,
             "ticks": ""
            },
            "colorscale": [
             [
              0,
              "#0d0887"
             ],
             [
              0.1111111111111111,
              "#46039f"
             ],
             [
              0.2222222222222222,
              "#7201a8"
             ],
             [
              0.3333333333333333,
              "#9c179e"
             ],
             [
              0.4444444444444444,
              "#bd3786"
             ],
             [
              0.5555555555555556,
              "#d8576b"
             ],
             [
              0.6666666666666666,
              "#ed7953"
             ],
             [
              0.7777777777777778,
              "#fb9f3a"
             ],
             [
              0.8888888888888888,
              "#fdca26"
             ],
             [
              1,
              "#f0f921"
             ]
            ],
            "type": "surface"
           }
          ],
          "table": [
           {
            "cells": {
             "fill": {
              "color": "#EBF0F8"
             },
             "line": {
              "color": "white"
             }
            },
            "header": {
             "fill": {
              "color": "#C8D4E3"
             },
             "line": {
              "color": "white"
             }
            },
            "type": "table"
           }
          ]
         },
         "layout": {
          "annotationdefaults": {
           "arrowcolor": "#2a3f5f",
           "arrowhead": 0,
           "arrowwidth": 1
          },
          "autotypenumbers": "strict",
          "coloraxis": {
           "colorbar": {
            "outlinewidth": 0,
            "ticks": ""
           }
          },
          "colorscale": {
           "diverging": [
            [
             0,
             "#8e0152"
            ],
            [
             0.1,
             "#c51b7d"
            ],
            [
             0.2,
             "#de77ae"
            ],
            [
             0.3,
             "#f1b6da"
            ],
            [
             0.4,
             "#fde0ef"
            ],
            [
             0.5,
             "#f7f7f7"
            ],
            [
             0.6,
             "#e6f5d0"
            ],
            [
             0.7,
             "#b8e186"
            ],
            [
             0.8,
             "#7fbc41"
            ],
            [
             0.9,
             "#4d9221"
            ],
            [
             1,
             "#276419"
            ]
           ],
           "sequential": [
            [
             0,
             "#0d0887"
            ],
            [
             0.1111111111111111,
             "#46039f"
            ],
            [
             0.2222222222222222,
             "#7201a8"
            ],
            [
             0.3333333333333333,
             "#9c179e"
            ],
            [
             0.4444444444444444,
             "#bd3786"
            ],
            [
             0.5555555555555556,
             "#d8576b"
            ],
            [
             0.6666666666666666,
             "#ed7953"
            ],
            [
             0.7777777777777778,
             "#fb9f3a"
            ],
            [
             0.8888888888888888,
             "#fdca26"
            ],
            [
             1,
             "#f0f921"
            ]
           ],
           "sequentialminus": [
            [
             0,
             "#0d0887"
            ],
            [
             0.1111111111111111,
             "#46039f"
            ],
            [
             0.2222222222222222,
             "#7201a8"
            ],
            [
             0.3333333333333333,
             "#9c179e"
            ],
            [
             0.4444444444444444,
             "#bd3786"
            ],
            [
             0.5555555555555556,
             "#d8576b"
            ],
            [
             0.6666666666666666,
             "#ed7953"
            ],
            [
             0.7777777777777778,
             "#fb9f3a"
            ],
            [
             0.8888888888888888,
             "#fdca26"
            ],
            [
             1,
             "#f0f921"
            ]
           ]
          },
          "colorway": [
           "#636efa",
           "#EF553B",
           "#00cc96",
           "#ab63fa",
           "#FFA15A",
           "#19d3f3",
           "#FF6692",
           "#B6E880",
           "#FF97FF",
           "#FECB52"
          ],
          "font": {
           "color": "#2a3f5f"
          },
          "geo": {
           "bgcolor": "white",
           "lakecolor": "white",
           "landcolor": "#E5ECF6",
           "showlakes": true,
           "showland": true,
           "subunitcolor": "white"
          },
          "hoverlabel": {
           "align": "left"
          },
          "hovermode": "closest",
          "mapbox": {
           "style": "light"
          },
          "paper_bgcolor": "white",
          "plot_bgcolor": "#E5ECF6",
          "polar": {
           "angularaxis": {
            "gridcolor": "white",
            "linecolor": "white",
            "ticks": ""
           },
           "bgcolor": "#E5ECF6",
           "radialaxis": {
            "gridcolor": "white",
            "linecolor": "white",
            "ticks": ""
           }
          },
          "scene": {
           "xaxis": {
            "backgroundcolor": "#E5ECF6",
            "gridcolor": "white",
            "gridwidth": 2,
            "linecolor": "white",
            "showbackground": true,
            "ticks": "",
            "zerolinecolor": "white"
           },
           "yaxis": {
            "backgroundcolor": "#E5ECF6",
            "gridcolor": "white",
            "gridwidth": 2,
            "linecolor": "white",
            "showbackground": true,
            "ticks": "",
            "zerolinecolor": "white"
           },
           "zaxis": {
            "backgroundcolor": "#E5ECF6",
            "gridcolor": "white",
            "gridwidth": 2,
            "linecolor": "white",
            "showbackground": true,
            "ticks": "",
            "zerolinecolor": "white"
           }
          },
          "shapedefaults": {
           "line": {
            "color": "#2a3f5f"
           }
          },
          "ternary": {
           "aaxis": {
            "gridcolor": "white",
            "linecolor": "white",
            "ticks": ""
           },
           "baxis": {
            "gridcolor": "white",
            "linecolor": "white",
            "ticks": ""
           },
           "bgcolor": "#E5ECF6",
           "caxis": {
            "gridcolor": "white",
            "linecolor": "white",
            "ticks": ""
           }
          },
          "title": {
           "x": 0.05
          },
          "xaxis": {
           "automargin": true,
           "gridcolor": "white",
           "linecolor": "white",
           "ticks": "",
           "title": {
            "standoff": 15
           },
           "zerolinecolor": "white",
           "zerolinewidth": 2
          },
          "yaxis": {
           "automargin": true,
           "gridcolor": "white",
           "linecolor": "white",
           "ticks": "",
           "title": {
            "standoff": 15
           },
           "zerolinecolor": "white",
           "zerolinewidth": 2
          }
         }
        },
        "title": {
         "text": "Popularity of Art Themes vs. GDP"
        },
        "updatemenus": [
         {
          "buttons": [
           {
            "args": [
             {
              "visible": [
               true,
               true,
               true,
               true,
               true,
               true,
               true,
               true,
               true,
               true,
               true,
               true,
               true,
               true,
               true,
               true,
               true,
               true,
               true,
               true,
               false
              ]
             },
             {
              "title": "Popularity of All Art Themes vs. GDP"
             }
            ],
            "label": "All Themes",
            "method": "update"
           },
           {
            "args": [
             {
              "visible": [
               false,
               false,
               false,
               false,
               false,
               false,
               false,
               false,
               false,
               false,
               false,
               false,
               false,
               false,
               false,
               false,
               false,
               false,
               false,
               false,
               true
              ]
             },
             {
              "title": "Average Effect of GDP on Number of Paintings"
             }
            ],
            "label": "Average Effect",
            "method": "update"
           },
           {
            "args": [
             {
              "visible": [
               true,
               false,
               false,
               false,
               false,
               false,
               false,
               false,
               false,
               false,
               false,
               false,
               false,
               false,
               false,
               false,
               false,
               false,
               false,
               false,
               false
              ]
             },
             {
              "title": "Popularity of Animals vs. GDP"
             }
            ],
            "label": "Animals",
            "method": "update"
           },
           {
            "args": [
             {
              "visible": [
               false,
               true,
               false,
               false,
               false,
               false,
               false,
               false,
               false,
               false,
               false,
               false,
               false,
               false,
               false,
               false,
               false,
               false,
               false,
               false,
               false
              ]
             },
             {
              "title": "Popularity of Architecture vs. GDP"
             }
            ],
            "label": "Architecture",
            "method": "update"
           },
           {
            "args": [
             {
              "visible": [
               false,
               false,
               true,
               false,
               false,
               false,
               false,
               false,
               false,
               false,
               false,
               false,
               false,
               false,
               false,
               false,
               false,
               false,
               false,
               false,
               false
              ]
             },
             {
              "title": "Popularity of Boats and boating vs. GDP"
             }
            ],
            "label": "Boats and boating",
            "method": "update"
           },
           {
            "args": [
             {
              "visible": [
               false,
               false,
               false,
               true,
               false,
               false,
               false,
               false,
               false,
               false,
               false,
               false,
               false,
               false,
               false,
               false,
               false,
               false,
               false,
               false,
               false
              ]
             },
             {
              "title": "Popularity of Botanical study vs. GDP"
             }
            ],
            "label": "Botanical study",
            "method": "update"
           },
           {
            "args": [
             {
              "visible": [
               false,
               false,
               false,
               false,
               true,
               false,
               false,
               false,
               false,
               false,
               false,
               false,
               false,
               false,
               false,
               false,
               false,
               false,
               false,
               false,
               false
              ]
             },
             {
              "title": "Popularity of Children vs. GDP"
             }
            ],
            "label": "Children",
            "method": "update"
           },
           {
            "args": [
             {
              "visible": [
               false,
               false,
               false,
               false,
               false,
               true,
               false,
               false,
               false,
               false,
               false,
               false,
               false,
               false,
               false,
               false,
               false,
               false,
               false,
               false,
               false
              ]
             },
             {
              "title": "Popularity of Cityscapes vs. GDP"
             }
            ],
            "label": "Cityscapes",
            "method": "update"
           },
           {
            "args": [
             {
              "visible": [
               false,
               false,
               false,
               false,
               false,
               false,
               true,
               false,
               false,
               false,
               false,
               false,
               false,
               false,
               false,
               false,
               false,
               false,
               false,
               false,
               false
              ]
             },
             {
              "title": "Popularity of Clothing and dress vs. GDP"
             }
            ],
            "label": "Clothing and dress",
            "method": "update"
           },
           {
            "args": [
             {
              "visible": [
               false,
               false,
               false,
               false,
               false,
               false,
               false,
               true,
               false,
               false,
               false,
               false,
               false,
               false,
               false,
               false,
               false,
               false,
               false,
               false,
               false
              ]
             },
             {
              "title": "Popularity of Domestic vs. GDP"
             }
            ],
            "label": "Domestic",
            "method": "update"
           },
           {
            "args": [
             {
              "visible": [
               false,
               false,
               false,
               false,
               false,
               false,
               false,
               false,
               true,
               false,
               false,
               false,
               false,
               false,
               false,
               false,
               false,
               false,
               false,
               false,
               false
              ]
             },
             {
              "title": "Popularity of Dress accessories vs. GDP"
             }
            ],
            "label": "Dress accessories",
            "method": "update"
           },
           {
            "args": [
             {
              "visible": [
               false,
               false,
               false,
               false,
               false,
               false,
               false,
               false,
               false,
               true,
               false,
               false,
               false,
               false,
               false,
               false,
               false,
               false,
               false,
               false,
               false
              ]
             },
             {
              "title": "Popularity of Figure female vs. GDP"
             }
            ],
            "label": "Figure female",
            "method": "update"
           },
           {
            "args": [
             {
              "visible": [
               false,
               false,
               false,
               false,
               false,
               false,
               false,
               false,
               false,
               false,
               true,
               false,
               false,
               false,
               false,
               false,
               false,
               false,
               false,
               false,
               false
              ]
             },
             {
              "title": "Popularity of Figure group vs. GDP"
             }
            ],
            "label": "Figure group",
            "method": "update"
           },
           {
            "args": [
             {
              "visible": [
               false,
               false,
               false,
               false,
               false,
               false,
               false,
               false,
               false,
               false,
               false,
               true,
               false,
               false,
               false,
               false,
               false,
               false,
               false,
               false,
               false
              ]
             },
             {
              "title": "Popularity of Figure male vs. GDP"
             }
            ],
            "label": "Figure male",
            "method": "update"
           },
           {
            "args": [
             {
              "visible": [
               false,
               false,
               false,
               false,
               false,
               false,
               false,
               false,
               false,
               false,
               false,
               false,
               true,
               false,
               false,
               false,
               false,
               false,
               false,
               false,
               false
              ]
             },
             {
              "title": "Popularity of Landscapes vs. GDP"
             }
            ],
            "label": "Landscapes",
            "method": "update"
           },
           {
            "args": [
             {
              "visible": [
               false,
               false,
               false,
               false,
               false,
               false,
               false,
               false,
               false,
               false,
               false,
               false,
               false,
               true,
               false,
               false,
               false,
               false,
               false,
               false,
               false
              ]
             },
             {
              "title": "Popularity of Men vs. GDP"
             }
            ],
            "label": "Men",
            "method": "update"
           },
           {
            "args": [
             {
              "visible": [
               false,
               false,
               false,
               false,
               false,
               false,
               false,
               false,
               false,
               false,
               false,
               false,
               false,
               false,
               true,
               false,
               false,
               false,
               false,
               false,
               false
              ]
             },
             {
              "title": "Popularity of Nudity vs. GDP"
             }
            ],
            "label": "Nudity",
            "method": "update"
           },
           {
            "args": [
             {
              "visible": [
               false,
               false,
               false,
               false,
               false,
               false,
               false,
               false,
               false,
               false,
               false,
               false,
               false,
               false,
               false,
               true,
               false,
               false,
               false,
               false,
               false
              ]
             },
             {
              "title": "Popularity of Occupations vs. GDP"
             }
            ],
            "label": "Occupations",
            "method": "update"
           },
           {
            "args": [
             {
              "visible": [
               false,
               false,
               false,
               false,
               false,
               false,
               false,
               false,
               false,
               false,
               false,
               false,
               false,
               false,
               false,
               false,
               true,
               false,
               false,
               false,
               false
              ]
             },
             {
              "title": "Popularity of Portraits vs. GDP"
             }
            ],
            "label": "Portraits",
            "method": "update"
           },
           {
            "args": [
             {
              "visible": [
               false,
               false,
               false,
               false,
               false,
               false,
               false,
               false,
               false,
               false,
               false,
               false,
               false,
               false,
               false,
               false,
               false,
               true,
               false,
               false,
               false
              ]
             },
             {
              "title": "Popularity of Religion vs. GDP"
             }
            ],
            "label": "Religion",
            "method": "update"
           },
           {
            "args": [
             {
              "visible": [
               false,
               false,
               false,
               false,
               false,
               false,
               false,
               false,
               false,
               false,
               false,
               false,
               false,
               false,
               false,
               false,
               false,
               false,
               true,
               false,
               false
              ]
             },
             {
              "title": "Popularity of Trees vs. GDP"
             }
            ],
            "label": "Trees",
            "method": "update"
           },
           {
            "args": [
             {
              "visible": [
               false,
               false,
               false,
               false,
               false,
               false,
               false,
               false,
               false,
               false,
               false,
               false,
               false,
               false,
               false,
               false,
               false,
               false,
               false,
               true,
               false
              ]
             },
             {
              "title": "Popularity of Women vs. GDP"
             }
            ],
            "label": "Women",
            "method": "update"
           }
          ],
          "direction": "down",
          "showactive": true,
          "x": 0.15,
          "y": 1.1
         }
        ],
        "width": 900,
        "xaxis": {
         "gridcolor": "lightgray",
         "linecolor": "black",
         "linewidth": 2,
         "showgrid": true,
         "showline": true,
         "title": {
          "text": "GDP in billions of US$"
         }
        },
        "yaxis": {
         "gridcolor": "lightgray",
         "linecolor": "black",
         "linewidth": 2,
         "range": [
          0,
          308
         ],
         "showgrid": true,
         "showline": true,
         "title": {
          "text": "Number of Paintings"
         }
        }
       }
      },
      "text/html": [
       "<div>                            <div id=\"18f3905f-5e13-465c-b9ba-53fc6c67660b\" class=\"plotly-graph-div\" style=\"height:600px; width:900px;\"></div>            <script type=\"text/javascript\">                require([\"plotly\"], function(Plotly) {                    window.PLOTLYENV=window.PLOTLYENV || {};                                    if (document.getElementById(\"18f3905f-5e13-465c-b9ba-53fc6c67660b\")) {                    Plotly.newPlot(                        \"18f3905f-5e13-465c-b9ba-53fc6c67660b\",                        [{\"line\":{\"color\":\"#cc0000\"},\"name\":\"Animals\",\"visible\":true,\"x\":[1089.0,1191.0,2140.0,2970.0,4369.0,6223.0,8374.0,11439.0,15544.0,18582.0,21617.0],\"y\":[84,221,48,5,9,13,17,14,0,0],\"type\":\"scatter\"},{\"line\":{\"color\":\"#00cc3b\"},\"name\":\"Architecture\",\"visible\":false,\"x\":[1089.0,1191.0,2140.0,2970.0,4369.0,6223.0,8374.0,11439.0,15544.0,18582.0,21617.0],\"y\":[191,308,92,8,22,9,4,12,2,0],\"type\":\"scatter\"},{\"line\":{\"color\":\"#7600cc\"},\"name\":\"Boats and boating\",\"visible\":false,\"x\":[1089.0,1191.0,2140.0,2970.0,4369.0,6223.0,8374.0,11439.0,15544.0,18582.0,21617.0],\"y\":[35,46,18,0,4,3,1,3,0,0],\"type\":\"scatter\"},{\"line\":{\"color\":\"#ccb200\"},\"name\":\"Botanical study\",\"visible\":false,\"x\":[1089.0,1191.0,2140.0,2970.0,4369.0,6223.0,8374.0,11439.0,15544.0,18582.0,21617.0],\"y\":[154,269,17,0,0,0,0,0,0,0],\"type\":\"scatter\"},{\"line\":{\"color\":\"#00a9cc\"},\"name\":\"Children\",\"visible\":false,\"x\":[1089.0,1191.0,2140.0,2970.0,4369.0,6223.0,8374.0,11439.0,15544.0,18582.0,21617.0],\"y\":[25,32,2,2,2,1,12,7,1,1],\"type\":\"scatter\"},{\"line\":{\"color\":\"#cc006e\"},\"name\":\"Cityscapes\",\"visible\":false,\"x\":[1089.0,1191.0,2140.0,2970.0,4369.0,6223.0,8374.0,11439.0,15544.0,18582.0,21617.0],\"y\":[65,135,30,0,9,2,0,0,0,0],\"type\":\"scatter\"},{\"line\":{\"color\":\"#32cc00\"},\"name\":\"Clothing and dress\",\"visible\":false,\"x\":[1089.0,1191.0,2140.0,2970.0,4369.0,6223.0,8374.0,11439.0,15544.0,18582.0,21617.0],\"y\":[48,68,28,4,3,3,8,8,1,0],\"type\":\"scatter\"},{\"line\":{\"color\":\"#0800cc\"},\"name\":\"Domestic\",\"visible\":false,\"x\":[1089.0,1191.0,2140.0,2970.0,4369.0,6223.0,8374.0,11439.0,15544.0,18582.0,21617.0],\"y\":[62,82,46,5,13,2,1,2,0,0],\"type\":\"scatter\"},{\"line\":{\"color\":\"#cc4400\"},\"name\":\"Dress accessories\",\"visible\":false,\"x\":[1089.0,1191.0,2140.0,2970.0,4369.0,6223.0,8374.0,11439.0,15544.0,18582.0,21617.0],\"y\":[35,59,14,2,3,3,8,8,1,0],\"type\":\"scatter\"},{\"line\":{\"color\":\"#00cc7f\"},\"name\":\"Figure female\",\"visible\":false,\"x\":[1089.0,1191.0,2140.0,2970.0,4369.0,6223.0,8374.0,11439.0,15544.0,18582.0,21617.0],\"y\":[81,100,29,4,2,1,1,7,0,0],\"type\":\"scatter\"},{\"line\":{\"color\":\"#ba00cc\"},\"name\":\"Figure group\",\"visible\":false,\"x\":[1089.0,1191.0,2140.0,2970.0,4369.0,6223.0,8374.0,11439.0,15544.0,18582.0,21617.0],\"y\":[141,200,74,6,12,6,4,5,2,0],\"type\":\"scatter\"},{\"line\":{\"color\":\"#a1cc00\"},\"name\":\"Figure male\",\"visible\":false,\"x\":[1089.0,1191.0,2140.0,2970.0,4369.0,6223.0,8374.0,11439.0,15544.0,18582.0,21617.0],\"y\":[53,68,82,4,8,1,4,2,1,0],\"type\":\"scatter\"},{\"line\":{\"color\":\"#0065cc\"},\"name\":\"Landscapes\",\"visible\":false,\"x\":[1089.0,1191.0,2140.0,2970.0,4369.0,6223.0,8374.0,11439.0,15544.0,18582.0,21617.0],\"y\":[251,305,103,9,24,5,4,4,1,0],\"type\":\"scatter\"},{\"line\":{\"color\":\"#cc002a\"},\"name\":\"Men\",\"visible\":false,\"x\":[1089.0,1191.0,2140.0,2970.0,4369.0,6223.0,8374.0,11439.0,15544.0,18582.0,21617.0],\"y\":[81,157,32,2,9,3,22,2,3,0],\"type\":\"scatter\"},{\"line\":{\"color\":\"#00cc11\"},\"name\":\"Nudity\",\"visible\":false,\"x\":[1089.0,1191.0,2140.0,2970.0,4369.0,6223.0,8374.0,11439.0,15544.0,18582.0,21617.0],\"y\":[46,80,7,1,0,0,1,1,0,0],\"type\":\"scatter\"},{\"line\":{\"color\":\"#4c00cc\"},\"name\":\"Occupations\",\"visible\":false,\"x\":[1089.0,1191.0,2140.0,2970.0,4369.0,6223.0,8374.0,11439.0,15544.0,18582.0,21617.0],\"y\":[99,138,85,2,8,6,2,3,0,0],\"type\":\"scatter\"},{\"line\":{\"color\":\"#cc8800\"},\"name\":\"Portraits\",\"visible\":false,\"x\":[1089.0,1191.0,2140.0,2970.0,4369.0,6223.0,8374.0,11439.0,15544.0,18582.0,21617.0],\"y\":[107,169,25,4,8,6,32,1,3,1],\"type\":\"scatter\"},{\"line\":{\"color\":\"#00ccc3\"},\"name\":\"Religion\",\"visible\":false,\"x\":[1089.0,1191.0,2140.0,2970.0,4369.0,6223.0,8374.0,11439.0,15544.0,18582.0,21617.0],\"y\":[41,76,14,3,1,1,1,1,0,1],\"type\":\"scatter\"},{\"line\":{\"color\":\"#cc0098\"},\"name\":\"Trees\",\"visible\":false,\"x\":[1089.0,1191.0,2140.0,2970.0,4369.0,6223.0,8374.0,11439.0,15544.0,18582.0,21617.0],\"y\":[41,65,11,2,5,3,0,0,0,0],\"type\":\"scatter\"},{\"line\":{\"color\":\"#5dcc00\"},\"name\":\"Women\",\"visible\":false,\"x\":[1089.0,1191.0,2140.0,2970.0,4369.0,6223.0,8374.0,11439.0,15544.0,18582.0,21617.0],\"y\":[60,66,16,2,3,4,15,3,0,0],\"type\":\"scatter\"},{\"line\":{\"color\":\"black\",\"dash\":\"dashdot\",\"width\":3},\"name\":\"Average Effect\",\"visible\":false,\"x\":[1089.0,1191.0,2140.0,2970.0,4369.0,6223.0,8374.0,11439.0,15544.0,18582.0,21617.0],\"y\":[85.0,132.2,38.65,3.25,7.25,3.6,6.85,4.15,0.75,0.15],\"type\":\"scatter\"}],                        {\"template\":{\"data\":{\"histogram2dcontour\":[{\"type\":\"histogram2dcontour\",\"colorbar\":{\"outlinewidth\":0,\"ticks\":\"\"},\"colorscale\":[[0.0,\"#0d0887\"],[0.1111111111111111,\"#46039f\"],[0.2222222222222222,\"#7201a8\"],[0.3333333333333333,\"#9c179e\"],[0.4444444444444444,\"#bd3786\"],[0.5555555555555556,\"#d8576b\"],[0.6666666666666666,\"#ed7953\"],[0.7777777777777778,\"#fb9f3a\"],[0.8888888888888888,\"#fdca26\"],[1.0,\"#f0f921\"]]}],\"choropleth\":[{\"type\":\"choropleth\",\"colorbar\":{\"outlinewidth\":0,\"ticks\":\"\"}}],\"histogram2d\":[{\"type\":\"histogram2d\",\"colorbar\":{\"outlinewidth\":0,\"ticks\":\"\"},\"colorscale\":[[0.0,\"#0d0887\"],[0.1111111111111111,\"#46039f\"],[0.2222222222222222,\"#7201a8\"],[0.3333333333333333,\"#9c179e\"],[0.4444444444444444,\"#bd3786\"],[0.5555555555555556,\"#d8576b\"],[0.6666666666666666,\"#ed7953\"],[0.7777777777777778,\"#fb9f3a\"],[0.8888888888888888,\"#fdca26\"],[1.0,\"#f0f921\"]]}],\"heatmap\":[{\"type\":\"heatmap\",\"colorbar\":{\"outlinewidth\":0,\"ticks\":\"\"},\"colorscale\":[[0.0,\"#0d0887\"],[0.1111111111111111,\"#46039f\"],[0.2222222222222222,\"#7201a8\"],[0.3333333333333333,\"#9c179e\"],[0.4444444444444444,\"#bd3786\"],[0.5555555555555556,\"#d8576b\"],[0.6666666666666666,\"#ed7953\"],[0.7777777777777778,\"#fb9f3a\"],[0.8888888888888888,\"#fdca26\"],[1.0,\"#f0f921\"]]}],\"heatmapgl\":[{\"type\":\"heatmapgl\",\"colorbar\":{\"outlinewidth\":0,\"ticks\":\"\"},\"colorscale\":[[0.0,\"#0d0887\"],[0.1111111111111111,\"#46039f\"],[0.2222222222222222,\"#7201a8\"],[0.3333333333333333,\"#9c179e\"],[0.4444444444444444,\"#bd3786\"],[0.5555555555555556,\"#d8576b\"],[0.6666666666666666,\"#ed7953\"],[0.7777777777777778,\"#fb9f3a\"],[0.8888888888888888,\"#fdca26\"],[1.0,\"#f0f921\"]]}],\"contourcarpet\":[{\"type\":\"contourcarpet\",\"colorbar\":{\"outlinewidth\":0,\"ticks\":\"\"}}],\"contour\":[{\"type\":\"contour\",\"colorbar\":{\"outlinewidth\":0,\"ticks\":\"\"},\"colorscale\":[[0.0,\"#0d0887\"],[0.1111111111111111,\"#46039f\"],[0.2222222222222222,\"#7201a8\"],[0.3333333333333333,\"#9c179e\"],[0.4444444444444444,\"#bd3786\"],[0.5555555555555556,\"#d8576b\"],[0.6666666666666666,\"#ed7953\"],[0.7777777777777778,\"#fb9f3a\"],[0.8888888888888888,\"#fdca26\"],[1.0,\"#f0f921\"]]}],\"surface\":[{\"type\":\"surface\",\"colorbar\":{\"outlinewidth\":0,\"ticks\":\"\"},\"colorscale\":[[0.0,\"#0d0887\"],[0.1111111111111111,\"#46039f\"],[0.2222222222222222,\"#7201a8\"],[0.3333333333333333,\"#9c179e\"],[0.4444444444444444,\"#bd3786\"],[0.5555555555555556,\"#d8576b\"],[0.6666666666666666,\"#ed7953\"],[0.7777777777777778,\"#fb9f3a\"],[0.8888888888888888,\"#fdca26\"],[1.0,\"#f0f921\"]]}],\"mesh3d\":[{\"type\":\"mesh3d\",\"colorbar\":{\"outlinewidth\":0,\"ticks\":\"\"}}],\"scatter\":[{\"fillpattern\":{\"fillmode\":\"overlay\",\"size\":10,\"solidity\":0.2},\"type\":\"scatter\"}],\"parcoords\":[{\"type\":\"parcoords\",\"line\":{\"colorbar\":{\"outlinewidth\":0,\"ticks\":\"\"}}}],\"scatterpolargl\":[{\"type\":\"scatterpolargl\",\"marker\":{\"colorbar\":{\"outlinewidth\":0,\"ticks\":\"\"}}}],\"bar\":[{\"error_x\":{\"color\":\"#2a3f5f\"},\"error_y\":{\"color\":\"#2a3f5f\"},\"marker\":{\"line\":{\"color\":\"#E5ECF6\",\"width\":0.5},\"pattern\":{\"fillmode\":\"overlay\",\"size\":10,\"solidity\":0.2}},\"type\":\"bar\"}],\"scattergeo\":[{\"type\":\"scattergeo\",\"marker\":{\"colorbar\":{\"outlinewidth\":0,\"ticks\":\"\"}}}],\"scatterpolar\":[{\"type\":\"scatterpolar\",\"marker\":{\"colorbar\":{\"outlinewidth\":0,\"ticks\":\"\"}}}],\"histogram\":[{\"marker\":{\"pattern\":{\"fillmode\":\"overlay\",\"size\":10,\"solidity\":0.2}},\"type\":\"histogram\"}],\"scattergl\":[{\"type\":\"scattergl\",\"marker\":{\"colorbar\":{\"outlinewidth\":0,\"ticks\":\"\"}}}],\"scatter3d\":[{\"type\":\"scatter3d\",\"line\":{\"colorbar\":{\"outlinewidth\":0,\"ticks\":\"\"}},\"marker\":{\"colorbar\":{\"outlinewidth\":0,\"ticks\":\"\"}}}],\"scattermapbox\":[{\"type\":\"scattermapbox\",\"marker\":{\"colorbar\":{\"outlinewidth\":0,\"ticks\":\"\"}}}],\"scatterternary\":[{\"type\":\"scatterternary\",\"marker\":{\"colorbar\":{\"outlinewidth\":0,\"ticks\":\"\"}}}],\"scattercarpet\":[{\"type\":\"scattercarpet\",\"marker\":{\"colorbar\":{\"outlinewidth\":0,\"ticks\":\"\"}}}],\"carpet\":[{\"aaxis\":{\"endlinecolor\":\"#2a3f5f\",\"gridcolor\":\"white\",\"linecolor\":\"white\",\"minorgridcolor\":\"white\",\"startlinecolor\":\"#2a3f5f\"},\"baxis\":{\"endlinecolor\":\"#2a3f5f\",\"gridcolor\":\"white\",\"linecolor\":\"white\",\"minorgridcolor\":\"white\",\"startlinecolor\":\"#2a3f5f\"},\"type\":\"carpet\"}],\"table\":[{\"cells\":{\"fill\":{\"color\":\"#EBF0F8\"},\"line\":{\"color\":\"white\"}},\"header\":{\"fill\":{\"color\":\"#C8D4E3\"},\"line\":{\"color\":\"white\"}},\"type\":\"table\"}],\"barpolar\":[{\"marker\":{\"line\":{\"color\":\"#E5ECF6\",\"width\":0.5},\"pattern\":{\"fillmode\":\"overlay\",\"size\":10,\"solidity\":0.2}},\"type\":\"barpolar\"}],\"pie\":[{\"automargin\":true,\"type\":\"pie\"}]},\"layout\":{\"autotypenumbers\":\"strict\",\"colorway\":[\"#636efa\",\"#EF553B\",\"#00cc96\",\"#ab63fa\",\"#FFA15A\",\"#19d3f3\",\"#FF6692\",\"#B6E880\",\"#FF97FF\",\"#FECB52\"],\"font\":{\"color\":\"#2a3f5f\"},\"hovermode\":\"closest\",\"hoverlabel\":{\"align\":\"left\"},\"paper_bgcolor\":\"white\",\"plot_bgcolor\":\"#E5ECF6\",\"polar\":{\"bgcolor\":\"#E5ECF6\",\"angularaxis\":{\"gridcolor\":\"white\",\"linecolor\":\"white\",\"ticks\":\"\"},\"radialaxis\":{\"gridcolor\":\"white\",\"linecolor\":\"white\",\"ticks\":\"\"}},\"ternary\":{\"bgcolor\":\"#E5ECF6\",\"aaxis\":{\"gridcolor\":\"white\",\"linecolor\":\"white\",\"ticks\":\"\"},\"baxis\":{\"gridcolor\":\"white\",\"linecolor\":\"white\",\"ticks\":\"\"},\"caxis\":{\"gridcolor\":\"white\",\"linecolor\":\"white\",\"ticks\":\"\"}},\"coloraxis\":{\"colorbar\":{\"outlinewidth\":0,\"ticks\":\"\"}},\"colorscale\":{\"sequential\":[[0.0,\"#0d0887\"],[0.1111111111111111,\"#46039f\"],[0.2222222222222222,\"#7201a8\"],[0.3333333333333333,\"#9c179e\"],[0.4444444444444444,\"#bd3786\"],[0.5555555555555556,\"#d8576b\"],[0.6666666666666666,\"#ed7953\"],[0.7777777777777778,\"#fb9f3a\"],[0.8888888888888888,\"#fdca26\"],[1.0,\"#f0f921\"]],\"sequentialminus\":[[0.0,\"#0d0887\"],[0.1111111111111111,\"#46039f\"],[0.2222222222222222,\"#7201a8\"],[0.3333333333333333,\"#9c179e\"],[0.4444444444444444,\"#bd3786\"],[0.5555555555555556,\"#d8576b\"],[0.6666666666666666,\"#ed7953\"],[0.7777777777777778,\"#fb9f3a\"],[0.8888888888888888,\"#fdca26\"],[1.0,\"#f0f921\"]],\"diverging\":[[0,\"#8e0152\"],[0.1,\"#c51b7d\"],[0.2,\"#de77ae\"],[0.3,\"#f1b6da\"],[0.4,\"#fde0ef\"],[0.5,\"#f7f7f7\"],[0.6,\"#e6f5d0\"],[0.7,\"#b8e186\"],[0.8,\"#7fbc41\"],[0.9,\"#4d9221\"],[1,\"#276419\"]]},\"xaxis\":{\"gridcolor\":\"white\",\"linecolor\":\"white\",\"ticks\":\"\",\"title\":{\"standoff\":15},\"zerolinecolor\":\"white\",\"automargin\":true,\"zerolinewidth\":2},\"yaxis\":{\"gridcolor\":\"white\",\"linecolor\":\"white\",\"ticks\":\"\",\"title\":{\"standoff\":15},\"zerolinecolor\":\"white\",\"automargin\":true,\"zerolinewidth\":2},\"scene\":{\"xaxis\":{\"backgroundcolor\":\"#E5ECF6\",\"gridcolor\":\"white\",\"linecolor\":\"white\",\"showbackground\":true,\"ticks\":\"\",\"zerolinecolor\":\"white\",\"gridwidth\":2},\"yaxis\":{\"backgroundcolor\":\"#E5ECF6\",\"gridcolor\":\"white\",\"linecolor\":\"white\",\"showbackground\":true,\"ticks\":\"\",\"zerolinecolor\":\"white\",\"gridwidth\":2},\"zaxis\":{\"backgroundcolor\":\"#E5ECF6\",\"gridcolor\":\"white\",\"linecolor\":\"white\",\"showbackground\":true,\"ticks\":\"\",\"zerolinecolor\":\"white\",\"gridwidth\":2}},\"shapedefaults\":{\"line\":{\"color\":\"#2a3f5f\"}},\"annotationdefaults\":{\"arrowcolor\":\"#2a3f5f\",\"arrowhead\":0,\"arrowwidth\":1},\"geo\":{\"bgcolor\":\"white\",\"landcolor\":\"#E5ECF6\",\"subunitcolor\":\"white\",\"showland\":true,\"showlakes\":true,\"lakecolor\":\"white\"},\"title\":{\"x\":0.05},\"mapbox\":{\"style\":\"light\"}}},\"xaxis\":{\"showgrid\":true,\"gridcolor\":\"lightgray\",\"showline\":true,\"linecolor\":\"black\",\"linewidth\":2,\"title\":{\"text\":\"GDP in billions of US$\"}},\"yaxis\":{\"showgrid\":true,\"gridcolor\":\"lightgray\",\"showline\":true,\"linecolor\":\"black\",\"linewidth\":2,\"range\":[0,308],\"title\":{\"text\":\"Number of Paintings\"}},\"width\":900,\"height\":600,\"paper_bgcolor\":\"white\",\"plot_bgcolor\":\"white\",\"updatemenus\":[{\"buttons\":[{\"args\":[{\"visible\":[true,true,true,true,true,true,true,true,true,true,true,true,true,true,true,true,true,true,true,true,false]},{\"title\":\"Popularity of All Art Themes vs. GDP\"}],\"label\":\"All Themes\",\"method\":\"update\"},{\"args\":[{\"visible\":[false,false,false,false,false,false,false,false,false,false,false,false,false,false,false,false,false,false,false,false,true]},{\"title\":\"Average Effect of GDP on Number of Paintings\"}],\"label\":\"Average Effect\",\"method\":\"update\"},{\"args\":[{\"visible\":[true,false,false,false,false,false,false,false,false,false,false,false,false,false,false,false,false,false,false,false,false]},{\"title\":\"Popularity of Animals vs. GDP\"}],\"label\":\"Animals\",\"method\":\"update\"},{\"args\":[{\"visible\":[false,true,false,false,false,false,false,false,false,false,false,false,false,false,false,false,false,false,false,false,false]},{\"title\":\"Popularity of Architecture vs. GDP\"}],\"label\":\"Architecture\",\"method\":\"update\"},{\"args\":[{\"visible\":[false,false,true,false,false,false,false,false,false,false,false,false,false,false,false,false,false,false,false,false,false]},{\"title\":\"Popularity of Boats and boating vs. GDP\"}],\"label\":\"Boats and boating\",\"method\":\"update\"},{\"args\":[{\"visible\":[false,false,false,true,false,false,false,false,false,false,false,false,false,false,false,false,false,false,false,false,false]},{\"title\":\"Popularity of Botanical study vs. GDP\"}],\"label\":\"Botanical study\",\"method\":\"update\"},{\"args\":[{\"visible\":[false,false,false,false,true,false,false,false,false,false,false,false,false,false,false,false,false,false,false,false,false]},{\"title\":\"Popularity of Children vs. GDP\"}],\"label\":\"Children\",\"method\":\"update\"},{\"args\":[{\"visible\":[false,false,false,false,false,true,false,false,false,false,false,false,false,false,false,false,false,false,false,false,false]},{\"title\":\"Popularity of Cityscapes vs. GDP\"}],\"label\":\"Cityscapes\",\"method\":\"update\"},{\"args\":[{\"visible\":[false,false,false,false,false,false,true,false,false,false,false,false,false,false,false,false,false,false,false,false,false]},{\"title\":\"Popularity of Clothing and dress vs. GDP\"}],\"label\":\"Clothing and dress\",\"method\":\"update\"},{\"args\":[{\"visible\":[false,false,false,false,false,false,false,true,false,false,false,false,false,false,false,false,false,false,false,false,false]},{\"title\":\"Popularity of Domestic vs. GDP\"}],\"label\":\"Domestic\",\"method\":\"update\"},{\"args\":[{\"visible\":[false,false,false,false,false,false,false,false,true,false,false,false,false,false,false,false,false,false,false,false,false]},{\"title\":\"Popularity of Dress accessories vs. GDP\"}],\"label\":\"Dress accessories\",\"method\":\"update\"},{\"args\":[{\"visible\":[false,false,false,false,false,false,false,false,false,true,false,false,false,false,false,false,false,false,false,false,false]},{\"title\":\"Popularity of Figure female vs. GDP\"}],\"label\":\"Figure female\",\"method\":\"update\"},{\"args\":[{\"visible\":[false,false,false,false,false,false,false,false,false,false,true,false,false,false,false,false,false,false,false,false,false]},{\"title\":\"Popularity of Figure group vs. GDP\"}],\"label\":\"Figure group\",\"method\":\"update\"},{\"args\":[{\"visible\":[false,false,false,false,false,false,false,false,false,false,false,true,false,false,false,false,false,false,false,false,false]},{\"title\":\"Popularity of Figure male vs. GDP\"}],\"label\":\"Figure male\",\"method\":\"update\"},{\"args\":[{\"visible\":[false,false,false,false,false,false,false,false,false,false,false,false,true,false,false,false,false,false,false,false,false]},{\"title\":\"Popularity of Landscapes vs. GDP\"}],\"label\":\"Landscapes\",\"method\":\"update\"},{\"args\":[{\"visible\":[false,false,false,false,false,false,false,false,false,false,false,false,false,true,false,false,false,false,false,false,false]},{\"title\":\"Popularity of Men vs. GDP\"}],\"label\":\"Men\",\"method\":\"update\"},{\"args\":[{\"visible\":[false,false,false,false,false,false,false,false,false,false,false,false,false,false,true,false,false,false,false,false,false]},{\"title\":\"Popularity of Nudity vs. GDP\"}],\"label\":\"Nudity\",\"method\":\"update\"},{\"args\":[{\"visible\":[false,false,false,false,false,false,false,false,false,false,false,false,false,false,false,true,false,false,false,false,false]},{\"title\":\"Popularity of Occupations vs. GDP\"}],\"label\":\"Occupations\",\"method\":\"update\"},{\"args\":[{\"visible\":[false,false,false,false,false,false,false,false,false,false,false,false,false,false,false,false,true,false,false,false,false]},{\"title\":\"Popularity of Portraits vs. GDP\"}],\"label\":\"Portraits\",\"method\":\"update\"},{\"args\":[{\"visible\":[false,false,false,false,false,false,false,false,false,false,false,false,false,false,false,false,false,true,false,false,false]},{\"title\":\"Popularity of Religion vs. GDP\"}],\"label\":\"Religion\",\"method\":\"update\"},{\"args\":[{\"visible\":[false,false,false,false,false,false,false,false,false,false,false,false,false,false,false,false,false,false,true,false,false]},{\"title\":\"Popularity of Trees vs. GDP\"}],\"label\":\"Trees\",\"method\":\"update\"},{\"args\":[{\"visible\":[false,false,false,false,false,false,false,false,false,false,false,false,false,false,false,false,false,false,false,true,false]},{\"title\":\"Popularity of Women vs. GDP\"}],\"label\":\"Women\",\"method\":\"update\"}],\"direction\":\"down\",\"showactive\":true,\"x\":0.15,\"y\":1.1}],\"title\":{\"text\":\"Popularity of Art Themes vs. GDP\"}},                        {\"responsive\": true}                    ).then(function(){\n",
       "                            \n",
       "var gd = document.getElementById('18f3905f-5e13-465c-b9ba-53fc6c67660b');\n",
       "var x = new MutationObserver(function (mutations, observer) {{\n",
       "        var display = window.getComputedStyle(gd).display;\n",
       "        if (!display || display === 'none') {{\n",
       "            console.log([gd, 'removed!']);\n",
       "            Plotly.purge(gd);\n",
       "            observer.disconnect();\n",
       "        }}\n",
       "}});\n",
       "\n",
       "// Listen for the removal of the full notebook cells\n",
       "var notebookContainer = gd.closest('#notebook-container');\n",
       "if (notebookContainer) {{\n",
       "    x.observe(notebookContainer, {childList: true});\n",
       "}}\n",
       "\n",
       "// Listen for the clearing of the current output cell\n",
       "var outputEl = gd.closest('.output');\n",
       "if (outputEl) {{\n",
       "    x.observe(outputEl, {childList: true});\n",
       "}}\n",
       "\n",
       "                        })                };                });            </script>        </div>"
      ]
     },
     "metadata": {},
     "output_type": "display_data"
    }
   ],
   "source": [
    "\n",
    "art_themes = art_themes_list\n",
    "GDP_by_decade = GDP_list\n",
    "paintings_data = array_ordered\n",
    "\n",
    "# Function to generate high-contrast colors\n",
    "def generate_colors(n):\n",
    "    colors = []\n",
    "    for i in range(n):\n",
    "        hue = (i * 137.5) % 360  # Spread colors around the HSL wheel\n",
    "        rgb = colorsys.hls_to_rgb(hue / 360, 0.4, 1.0)  # Ensure mid-brightness\n",
    "        hex_color = \"#{:02x}{:02x}{:02x}\".format(\n",
    "            int(rgb[0] * 255), int(rgb[1] * 255), int(rgb[2] * 255)\n",
    "        )\n",
    "        colors.append(hex_color)\n",
    "    return colors\n",
    "\n",
    "# Generate a color list with good contrast\n",
    "colors = generate_colors(len(art_themes))\n",
    "\n",
    "# Calculate the average effect of GDP on paintings\n",
    "average_paintings = np.mean(paintings_data, axis=1)\n",
    "\n",
    "# Initialize figure\n",
    "fig = go.Figure()\n",
    "\n",
    "# Add traces for each art theme\n",
    "for i, theme in enumerate(art_themes):\n",
    "    fig.add_trace(\n",
    "        go.Scatter(\n",
    "            x=GDP_by_decade,\n",
    "            y=paintings_data[:, i],\n",
    "            name=theme,\n",
    "            visible=(i == 0),\n",
    "            line=dict(color=colors[i])\n",
    "        )\n",
    "    )\n",
    "\n",
    "# Add a trace for the average effect (initially hidden)\n",
    "fig.add_trace(\n",
    "    go.Scatter(\n",
    "        x=GDP_by_decade,\n",
    "        y=average_paintings,\n",
    "        name=\"Average Effect\",\n",
    "        visible=False,  # Initially hidden\n",
    "        line=dict(color=\"black\", width=3, dash=\"dashdot\")  # Black dashed line\n",
    "    )\n",
    ")\n",
    "\n",
    "# Create dropdown menu options\n",
    "dropdown_options = [\n",
    "    {\n",
    "        \"label\": \"All Themes\",\n",
    "        \"method\": \"update\",\n",
    "        \"args\": [\n",
    "            {\"visible\": [True] * len(art_themes) + [False]},  # Show all themes, hide average\n",
    "            {\"title\": \"Popularity of All Art Themes vs. GDP\"}\n",
    "        ]\n",
    "    },\n",
    "    {\n",
    "        \"label\": \"Average Effect\",\n",
    "        \"method\": \"update\",\n",
    "        \"args\": [\n",
    "            {\"visible\": [False] * len(art_themes) + [True]},  # Hide all themes, show average\n",
    "            {\"title\": \"Average Effect of GDP on Number of Paintings\"}\n",
    "        ]\n",
    "    }\n",
    "]\n",
    "\n",
    "# Add individual theme options\n",
    "dropdown_options.extend([\n",
    "    {\n",
    "        \"label\": theme,\n",
    "        \"method\": \"update\",\n",
    "        \"args\": [\n",
    "            {\"visible\": [j == i for j in range(len(art_themes))] + [False]},  # Show only selected theme, hide average\n",
    "            {\"title\": f\"Popularity of {theme} vs. GDP\"}\n",
    "        ]\n",
    "    }\n",
    "    for i, theme in enumerate(art_themes)\n",
    "])\n",
    "\n",
    "# Apply layout fixes (White background, black y-axis, dark gray x-axis)\n",
    "fig.update_layout(\n",
    "    width=900, \n",
    "    height=600, \n",
    "    paper_bgcolor=\"white\",  \n",
    "    plot_bgcolor=\"white\",\n",
    "    xaxis=dict(\n",
    "        showgrid=True,\n",
    "        gridcolor=\"lightgray\",\n",
    "        showline=True,\n",
    "        linecolor=\"black\",\n",
    "        linewidth=2,\n",
    "    ),\n",
    "    yaxis=dict(\n",
    "        showgrid=True,\n",
    "        gridcolor=\"lightgray\",\n",
    "        showline=True, \n",
    "        linecolor=\"black\",  \n",
    "        linewidth=2, \n",
    "        range=[0, np.max(paintings_data)],\n",
    "    ),\n",
    "    updatemenus=[\n",
    "        {\n",
    "            \"buttons\": dropdown_options,\n",
    "            \"direction\": \"down\",\n",
    "            \"showactive\": True,\n",
    "            \"x\": 0.15,  \n",
    "            \"y\": 1.1\n",
    "        }\n",
    "    ],\n",
    "    title=\"Popularity of Art Themes vs. GDP\",\n",
    "    xaxis_title=\"GDP in billions of US$\",\n",
    "    yaxis_title=\"Number of Paintings\",\n",
    ")\n",
    "\n",
    "# Display the figure\n",
    "fig.show()\n",
    "\n",
    "# Save as an interactive HTML file\n",
    "pio.write_html(fig, \"interactive_plot.html\")\n"
   ]
  },
  {
   "cell_type": "markdown",
   "metadata": {},
   "source": [
    "sqlite\n"
   ]
  },
  {
   "cell_type": "code",
   "execution_count": 9,
   "metadata": {},
   "outputs": [
    {
     "name": "stdout",
     "output_type": "stream",
     "text": [
      "Tables in the database: [('SmithsonianArtworks',), ('SocialMovements',), ('FRED',)]\n"
     ]
    }
   ],
   "source": [
    "import sqlite3\n",
    "\n",
    "db_path = '../data/processed/social_movements.db'  # Use correct path\n",
    "\n",
    "# Connect to database\n",
    "conn = sqlite3.connect(db_path)\n",
    "cursor = conn.cursor()\n",
    "\n",
    "# List all tables\n",
    "cursor.execute(\"SELECT name FROM sqlite_master WHERE type='table';\")\n",
    "tables = cursor.fetchall()\n",
    "\n",
    "print(\"Tables in the database:\", tables)\n",
    "\n",
    "conn.close()\n"
   ]
  },
  {
   "cell_type": "code",
   "execution_count": 15,
   "metadata": {},
   "outputs": [
    {
     "name": "stdout",
     "output_type": "stream",
     "text": [
      "                                               Topics  ThemeCount\n",
      "0                                       Figure female          41\n",
      "1                                    Women, Portraits          33\n",
      "2                                         Figure male          30\n",
      "3                               Figure female, Nudity          30\n",
      "4                                  Art, abstract, Art          24\n",
      "5                                      Men, Portraits          20\n",
      "6                            Flowers, Botanical study          13\n",
      "7                             Plants, Botanical study          12\n",
      "8                                     Animals, Horses          12\n",
      "9   Uniforms, Soldiers, Occupations, Clothing and ...          10\n",
      "10                                  Trees, Landscapes          10\n",
      "11                           Men, Portraits, Children          10\n",
      "12                                             Linens          10\n",
      "13                                             Nudity           9\n",
      "14                                    Animals, Fishes           9\n",
      "15              Anatomical study, Nudity, Figure male           8\n",
      "16  Sport, Figure female, Occupations, Nudity, Swi...           7\n",
      "17    Leaves, Animals, Insects, Caterpillars, Foliage           7\n",
      "18                   Animals, Horses, Sculpture study           7\n",
      "19  Figure female, Clothing and dress, Dress acces...           6\n"
     ]
    }
   ],
   "source": [
    "import pandas as pd\n",
    "import sqlite3\n",
    "\n",
    "# Reconnect to the database\n",
    "db_file = '../data/processed/social_movements.db'\n",
    "conn = sqlite3.connect(db_file)\n",
    "\n",
    "# Query to gather the 20 most popular themes between 1920 and 2010, excluding \"None\"\n",
    "query = \"\"\"\n",
    "SELECT Topics, COUNT(*) AS ThemeCount\n",
    "FROM SmithsonianArtworks\n",
    "WHERE ProductionYear BETWEEN 1920 AND 2010\n",
    "  AND Topics != 'None'\n",
    "GROUP BY Topics\n",
    "ORDER BY ThemeCount DESC\n",
    "LIMIT 20;\n",
    "\"\"\"\n",
    "\n",
    "# Execute the query and store the results in a DataFrame\n",
    "top_themes = pd.read_sql_query(query, conn)\n",
    "\n",
    "# Display the top 20 most popular themes (excluding \"None\")\n",
    "print(top_themes)\n",
    "\n",
    "# Close the database connection\n",
    "conn.close()\n"
   ]
  },
  {
   "cell_type": "code",
   "execution_count": 21,
   "metadata": {},
   "outputs": [
    {
     "name": "stdout",
     "output_type": "stream",
     "text": [
      "                                              Topics  ProductionYear  \\\n",
      "0  Animals, Farmers, Architecture, Donkey, Farms,...            1900   \n",
      "1                                         Containers            1900   \n",
      "2                 Religion, Crucifixion, Bible, N.T.            2010   \n",
      "3                                  Trees, Landscapes            1930   \n",
      "4                                 Pegasus, Mythology            1900   \n",
      "\n",
      "                                      Cleaned_Topics  \n",
      "0  animals farmers architecture donkey farms occu...  \n",
      "1                                         containers  \n",
      "2                      religion crucifixion bible nt  \n",
      "3                                   trees landscapes  \n",
      "4                                  pegasus mythology  \n",
      "Top 20 themes:  ['', 'women portraits', 'graphic arts', 'figure female', 'men portraits', 'figure female nudity', 'figure male', 'art abstract art', 'linens', 'animals fishes', 'plants botanical study', 'flowers botanical study', 'cityscapes', 'animals horses', 'trees landscapes', 'men portraits children', 'landscapes', 'occupations men portraits political presidents', 'architecture religion church buildings', 'figure group']\n",
      "Decade: 1900s | Theme:  | Count: 1291\n",
      "Decade: 1900s | Theme: women portraits | Count: 36\n",
      "Decade: 1900s | Theme: graphic arts | Count: 40\n",
      "Decade: 1900s | Theme: figure female | Count: 107\n",
      "Decade: 1900s | Theme: men portraits | Count: 91\n",
      "Decade: 1900s | Theme: figure female nudity | Count: 11\n",
      "Decade: 1900s | Theme: figure male | Count: 64\n",
      "Decade: 1900s | Theme: art abstract art | Count: 4\n",
      "Decade: 1900s | Theme: linens | Count: 11\n",
      "Decade: 1900s | Theme: animals fishes | Count: 11\n",
      "Decade: 1900s | Theme: plants botanical study | Count: 4\n",
      "Decade: 1900s | Theme: flowers botanical study | Count: 3\n",
      "Decade: 1900s | Theme: cityscapes | Count: 79\n",
      "Decade: 1900s | Theme: animals horses | Count: 2\n",
      "Decade: 1900s | Theme: trees landscapes | Count: 24\n",
      "Decade: 1900s | Theme: men portraits children | Count: 5\n",
      "Decade: 1900s | Theme: landscapes | Count: 327\n",
      "Decade: 1900s | Theme: occupations men portraits political presidents | Count: 6\n",
      "Decade: 1900s | Theme: architecture religion church buildings | Count: 2\n",
      "Decade: 1900s | Theme: figure group | Count: 146\n",
      "Decade: 1910s | Theme:  | Count: 1167\n",
      "Decade: 1910s | Theme: women portraits | Count: 30\n",
      "Decade: 1910s | Theme: graphic arts | Count: 30\n",
      "Decade: 1910s | Theme: figure female | Count: 120\n",
      "Decade: 1910s | Theme: men portraits | Count: 74\n",
      "Decade: 1910s | Theme: figure female nudity | Count: 21\n",
      "Decade: 1910s | Theme: figure male | Count: 61\n",
      "Decade: 1910s | Theme: art abstract art | Count: 17\n",
      "Decade: 1910s | Theme: linens | Count: 3\n",
      "Decade: 1910s | Theme: animals fishes | Count: 0\n",
      "Decade: 1910s | Theme: plants botanical study | Count: 2\n",
      "Decade: 1910s | Theme: flowers botanical study | Count: 2\n",
      "Decade: 1910s | Theme: cityscapes | Count: 80\n",
      "Decade: 1910s | Theme: animals horses | Count: 0\n",
      "Decade: 1910s | Theme: trees landscapes | Count: 40\n",
      "Decade: 1910s | Theme: men portraits children | Count: 3\n",
      "Decade: 1910s | Theme: landscapes | Count: 308\n",
      "Decade: 1910s | Theme: occupations men portraits political presidents | Count: 4\n",
      "Decade: 1910s | Theme: architecture religion church buildings | Count: 12\n",
      "Decade: 1910s | Theme: figure group | Count: 164\n",
      "Decade: 1920s | Theme:  | Count: 1356\n",
      "Decade: 1920s | Theme: women portraits | Count: 14\n",
      "Decade: 1920s | Theme: graphic arts | Count: 0\n",
      "Decade: 1920s | Theme: figure female | Count: 100\n",
      "Decade: 1920s | Theme: men portraits | Count: 85\n",
      "Decade: 1920s | Theme: figure female nudity | Count: 26\n",
      "Decade: 1920s | Theme: figure male | Count: 68\n",
      "Decade: 1920s | Theme: art abstract art | Count: 16\n",
      "Decade: 1920s | Theme: linens | Count: 1\n",
      "Decade: 1920s | Theme: animals fishes | Count: 7\n",
      "Decade: 1920s | Theme: plants botanical study | Count: 5\n",
      "Decade: 1920s | Theme: flowers botanical study | Count: 7\n",
      "Decade: 1920s | Theme: cityscapes | Count: 135\n",
      "Decade: 1920s | Theme: animals horses | Count: 25\n",
      "Decade: 1920s | Theme: trees landscapes | Count: 40\n",
      "Decade: 1920s | Theme: men portraits children | Count: 2\n",
      "Decade: 1920s | Theme: landscapes | Count: 305\n",
      "Decade: 1920s | Theme: occupations men portraits political presidents | Count: 2\n",
      "Decade: 1920s | Theme: architecture religion church buildings | Count: 1\n",
      "Decade: 1920s | Theme: figure group | Count: 200\n",
      "Decade: 1930s | Theme:  | Count: 722\n",
      "Decade: 1930s | Theme: women portraits | Count: 16\n",
      "Decade: 1930s | Theme: graphic arts | Count: 0\n",
      "Decade: 1930s | Theme: figure female | Count: 73\n",
      "Decade: 1930s | Theme: men portraits | Count: 33\n",
      "Decade: 1930s | Theme: figure female nudity | Count: 14\n",
      "Decade: 1930s | Theme: figure male | Count: 39\n",
      "Decade: 1930s | Theme: art abstract art | Count: 15\n",
      "Decade: 1930s | Theme: linens | Count: 2\n",
      "Decade: 1930s | Theme: animals fishes | Count: 3\n",
      "Decade: 1930s | Theme: plants botanical study | Count: 7\n",
      "Decade: 1930s | Theme: flowers botanical study | Count: 6\n",
      "Decade: 1930s | Theme: cityscapes | Count: 52\n",
      "Decade: 1930s | Theme: animals horses | Count: 1\n",
      "Decade: 1930s | Theme: trees landscapes | Count: 22\n",
      "Decade: 1930s | Theme: men portraits children | Count: 2\n",
      "Decade: 1930s | Theme: landscapes | Count: 200\n",
      "Decade: 1930s | Theme: occupations men portraits political presidents | Count: 0\n",
      "Decade: 1930s | Theme: architecture religion church buildings | Count: 0\n",
      "Decade: 1930s | Theme: figure group | Count: 108\n",
      "Decade: 1940s | Theme:  | Count: 422\n",
      "Decade: 1940s | Theme: women portraits | Count: 2\n",
      "Decade: 1940s | Theme: graphic arts | Count: 0\n",
      "Decade: 1940s | Theme: figure female | Count: 28\n",
      "Decade: 1940s | Theme: men portraits | Count: 8\n",
      "Decade: 1940s | Theme: figure female nudity | Count: 1\n",
      "Decade: 1940s | Theme: figure male | Count: 82\n",
      "Decade: 1940s | Theme: art abstract art | Count: 11\n",
      "Decade: 1940s | Theme: linens | Count: 9\n",
      "Decade: 1940s | Theme: animals fishes | Count: 2\n",
      "Decade: 1940s | Theme: plants botanical study | Count: 1\n",
      "Decade: 1940s | Theme: flowers botanical study | Count: 5\n",
      "Decade: 1940s | Theme: cityscapes | Count: 29\n",
      "Decade: 1940s | Theme: animals horses | Count: 2\n",
      "Decade: 1940s | Theme: trees landscapes | Count: 6\n",
      "Decade: 1940s | Theme: men portraits children | Count: 0\n",
      "Decade: 1940s | Theme: landscapes | Count: 93\n",
      "Decade: 1940s | Theme: occupations men portraits political presidents | Count: 0\n",
      "Decade: 1940s | Theme: architecture religion church buildings | Count: 0\n",
      "Decade: 1940s | Theme: figure group | Count: 72\n",
      "Decade: 1950s | Theme:  | Count: 17\n",
      "Decade: 1950s | Theme: women portraits | Count: 1\n",
      "Decade: 1950s | Theme: graphic arts | Count: 0\n",
      "Decade: 1950s | Theme: figure female | Count: 0\n",
      "Decade: 1950s | Theme: men portraits | Count: 3\n",
      "Decade: 1950s | Theme: figure female nudity | Count: 0\n",
      "Decade: 1950s | Theme: figure male | Count: 1\n",
      "Decade: 1950s | Theme: art abstract art | Count: 0\n",
      "Decade: 1950s | Theme: linens | Count: 0\n",
      "Decade: 1950s | Theme: animals fishes | Count: 0\n",
      "Decade: 1950s | Theme: plants botanical study | Count: 0\n",
      "Decade: 1950s | Theme: flowers botanical study | Count: 0\n",
      "Decade: 1950s | Theme: cityscapes | Count: 0\n",
      "Decade: 1950s | Theme: animals horses | Count: 0\n",
      "Decade: 1950s | Theme: trees landscapes | Count: 1\n",
      "Decade: 1950s | Theme: men portraits children | Count: 0\n",
      "Decade: 1950s | Theme: landscapes | Count: 5\n",
      "Decade: 1950s | Theme: occupations men portraits political presidents | Count: 0\n",
      "Decade: 1950s | Theme: architecture religion church buildings | Count: 0\n",
      "Decade: 1950s | Theme: figure group | Count: 4\n",
      "Decade: 1960s | Theme:  | Count: 12\n",
      "Decade: 1960s | Theme: women portraits | Count: 0\n",
      "Decade: 1960s | Theme: graphic arts | Count: 0\n",
      "Decade: 1960s | Theme: figure female | Count: 0\n",
      "Decade: 1960s | Theme: men portraits | Count: 0\n",
      "Decade: 1960s | Theme: figure female nudity | Count: 0\n",
      "Decade: 1960s | Theme: figure male | Count: 2\n",
      "Decade: 1960s | Theme: art abstract art | Count: 0\n",
      "Decade: 1960s | Theme: linens | Count: 0\n",
      "Decade: 1960s | Theme: animals fishes | Count: 0\n",
      "Decade: 1960s | Theme: plants botanical study | Count: 0\n",
      "Decade: 1960s | Theme: flowers botanical study | Count: 0\n",
      "Decade: 1960s | Theme: cityscapes | Count: 0\n",
      "Decade: 1960s | Theme: animals horses | Count: 0\n",
      "Decade: 1960s | Theme: trees landscapes | Count: 0\n",
      "Decade: 1960s | Theme: men portraits children | Count: 0\n",
      "Decade: 1960s | Theme: landscapes | Count: 3\n",
      "Decade: 1960s | Theme: occupations men portraits political presidents | Count: 0\n",
      "Decade: 1960s | Theme: architecture religion church buildings | Count: 0\n",
      "Decade: 1960s | Theme: figure group | Count: 4\n",
      "Decade: 1970s | Theme:  | Count: 8\n",
      "Decade: 1970s | Theme: women portraits | Count: 0\n",
      "Decade: 1970s | Theme: graphic arts | Count: 0\n",
      "Decade: 1970s | Theme: figure female | Count: 0\n",
      "Decade: 1970s | Theme: men portraits | Count: 0\n",
      "Decade: 1970s | Theme: figure female nudity | Count: 0\n",
      "Decade: 1970s | Theme: figure male | Count: 0\n",
      "Decade: 1970s | Theme: art abstract art | Count: 1\n",
      "Decade: 1970s | Theme: linens | Count: 0\n",
      "Decade: 1970s | Theme: animals fishes | Count: 0\n",
      "Decade: 1970s | Theme: plants botanical study | Count: 0\n",
      "Decade: 1970s | Theme: flowers botanical study | Count: 0\n",
      "Decade: 1970s | Theme: cityscapes | Count: 2\n",
      "Decade: 1970s | Theme: animals horses | Count: 0\n",
      "Decade: 1970s | Theme: trees landscapes | Count: 0\n",
      "Decade: 1970s | Theme: men portraits children | Count: 0\n",
      "Decade: 1970s | Theme: landscapes | Count: 2\n",
      "Decade: 1970s | Theme: occupations men portraits political presidents | Count: 0\n",
      "Decade: 1970s | Theme: architecture religion church buildings | Count: 0\n",
      "Decade: 1970s | Theme: figure group | Count: 2\n",
      "Decade: 1980s | Theme:  | Count: 32\n",
      "Decade: 1980s | Theme: women portraits | Count: 9\n",
      "Decade: 1980s | Theme: graphic arts | Count: 0\n",
      "Decade: 1980s | Theme: figure female | Count: 0\n",
      "Decade: 1980s | Theme: men portraits | Count: 26\n",
      "Decade: 1980s | Theme: figure female nudity | Count: 0\n",
      "Decade: 1980s | Theme: figure male | Count: 1\n",
      "Decade: 1980s | Theme: art abstract art | Count: 0\n",
      "Decade: 1980s | Theme: linens | Count: 0\n",
      "Decade: 1980s | Theme: animals fishes | Count: 0\n",
      "Decade: 1980s | Theme: plants botanical study | Count: 0\n",
      "Decade: 1980s | Theme: flowers botanical study | Count: 0\n",
      "Decade: 1980s | Theme: cityscapes | Count: 0\n",
      "Decade: 1980s | Theme: animals horses | Count: 0\n",
      "Decade: 1980s | Theme: trees landscapes | Count: 0\n",
      "Decade: 1980s | Theme: men portraits children | Count: 10\n",
      "Decade: 1980s | Theme: landscapes | Count: 0\n",
      "Decade: 1980s | Theme: occupations men portraits political presidents | Count: 0\n",
      "Decade: 1980s | Theme: architecture religion church buildings | Count: 0\n",
      "Decade: 1980s | Theme: figure group | Count: 0\n",
      "Decade: 1990s | Theme:  | Count: 10\n",
      "Decade: 1990s | Theme: women portraits | Count: 0\n",
      "Decade: 1990s | Theme: graphic arts | Count: 0\n",
      "Decade: 1990s | Theme: figure female | Count: 0\n",
      "Decade: 1990s | Theme: men portraits | Count: 0\n",
      "Decade: 1990s | Theme: figure female nudity | Count: 0\n",
      "Decade: 1990s | Theme: figure male | Count: 0\n",
      "Decade: 1990s | Theme: art abstract art | Count: 0\n",
      "Decade: 1990s | Theme: linens | Count: 0\n",
      "Decade: 1990s | Theme: animals fishes | Count: 1\n",
      "Decade: 1990s | Theme: plants botanical study | Count: 0\n",
      "Decade: 1990s | Theme: flowers botanical study | Count: 0\n",
      "Decade: 1990s | Theme: cityscapes | Count: 0\n",
      "Decade: 1990s | Theme: animals horses | Count: 0\n",
      "Decade: 1990s | Theme: trees landscapes | Count: 0\n",
      "Decade: 1990s | Theme: men portraits children | Count: 0\n",
      "Decade: 1990s | Theme: landscapes | Count: 1\n",
      "Decade: 1990s | Theme: occupations men portraits political presidents | Count: 0\n",
      "Decade: 1990s | Theme: architecture religion church buildings | Count: 0\n",
      "Decade: 1990s | Theme: figure group | Count: 0\n",
      "Decade: 2000s | Theme:  | Count: 8\n",
      "Decade: 2000s | Theme: women portraits | Count: 0\n",
      "Decade: 2000s | Theme: graphic arts | Count: 0\n",
      "Decade: 2000s | Theme: figure female | Count: 0\n",
      "Decade: 2000s | Theme: men portraits | Count: 2\n",
      "Decade: 2000s | Theme: figure female nudity | Count: 0\n",
      "Decade: 2000s | Theme: figure male | Count: 1\n",
      "Decade: 2000s | Theme: art abstract art | Count: 0\n",
      "Decade: 2000s | Theme: linens | Count: 0\n",
      "Decade: 2000s | Theme: animals fishes | Count: 0\n",
      "Decade: 2000s | Theme: plants botanical study | Count: 0\n",
      "Decade: 2000s | Theme: flowers botanical study | Count: 0\n",
      "Decade: 2000s | Theme: cityscapes | Count: 0\n",
      "Decade: 2000s | Theme: animals horses | Count: 0\n",
      "Decade: 2000s | Theme: trees landscapes | Count: 0\n",
      "Decade: 2000s | Theme: men portraits children | Count: 0\n",
      "Decade: 2000s | Theme: landscapes | Count: 1\n",
      "Decade: 2000s | Theme: occupations men portraits political presidents | Count: 0\n",
      "Decade: 2000s | Theme: architecture religion church buildings | Count: 0\n",
      "Decade: 2000s | Theme: figure group | Count: 2\n",
      "Decade: 2010s | Theme:  | Count: 4\n",
      "Decade: 2010s | Theme: women portraits | Count: 0\n",
      "Decade: 2010s | Theme: graphic arts | Count: 0\n",
      "Decade: 2010s | Theme: figure female | Count: 0\n",
      "Decade: 2010s | Theme: men portraits | Count: 0\n",
      "Decade: 2010s | Theme: figure female nudity | Count: 0\n",
      "Decade: 2010s | Theme: figure male | Count: 0\n",
      "Decade: 2010s | Theme: art abstract art | Count: 0\n",
      "Decade: 2010s | Theme: linens | Count: 0\n",
      "Decade: 2010s | Theme: animals fishes | Count: 0\n",
      "Decade: 2010s | Theme: plants botanical study | Count: 0\n",
      "Decade: 2010s | Theme: flowers botanical study | Count: 0\n",
      "Decade: 2010s | Theme: cityscapes | Count: 0\n",
      "Decade: 2010s | Theme: animals horses | Count: 0\n",
      "Decade: 2010s | Theme: trees landscapes | Count: 0\n",
      "Decade: 2010s | Theme: men portraits children | Count: 0\n",
      "Decade: 2010s | Theme: landscapes | Count: 0\n",
      "Decade: 2010s | Theme: occupations men portraits political presidents | Count: 0\n",
      "Decade: 2010s | Theme: architecture religion church buildings | Count: 0\n",
      "Decade: 2010s | Theme: figure group | Count: 0\n",
      "Top themes by decade saved to top_themes_by_decade_updated.csv\n"
     ]
    }
   ],
   "source": [
    "import pandas as pd\n",
    "import sqlite3\n",
    "import re\n",
    "\n",
    "# Function to clean theme names by stripping spaces, removing commas, and converting to lowercase\n",
    "def clean_theme_name(theme):\n",
    "    if isinstance(theme, str):  # Check if the theme is a string\n",
    "        return re.sub(r'[^\\w\\s]', '', theme).strip().lower()\n",
    "    return ''  # Return an empty string if the theme is None or NaN\n",
    "\n",
    "# Reconnect to the database\n",
    "db_file = '../data/processed/social_movements.db'\n",
    "conn = sqlite3.connect(db_file)\n",
    "\n",
    "# Query to gather all themes from 1900 to 2010 (including 2010s)\n",
    "query = \"\"\"\n",
    "SELECT Topics, ProductionYear\n",
    "FROM SmithsonianArtworks\n",
    "WHERE ProductionYear BETWEEN 1900 AND 2010;\n",
    "\"\"\"\n",
    "\n",
    "# Execute the query and store the results in a DataFrame\n",
    "data = pd.read_sql_query(query, conn)\n",
    "\n",
    "# Clean the Topics column by applying the cleaning function to each theme\n",
    "data['Cleaned_Topics'] = data['Topics'].apply(clean_theme_name)\n",
    "\n",
    "# Print the first few rows to check the data format and themes\n",
    "print(data.head())\n",
    "\n",
    "# Get the top 20 most popular themes across the entire period (1900 to 2010)\n",
    "top_themes = data['Cleaned_Topics'].value_counts().head(20).index.tolist()\n",
    "\n",
    "# Print the top themes to verify they look correct\n",
    "print(\"Top 20 themes: \", top_themes)\n",
    "\n",
    "# Prepare a list of decades\n",
    "decades = [1900, 1910, 1920, 1930, 1940, 1950, 1960, 1970, 1980, 1990, 2000, 2010]\n",
    "\n",
    "# Create an empty list to store the rows\n",
    "decade_counts_list = []\n",
    "\n",
    "# Loop through each decade and get the count for each top theme\n",
    "for decade in decades:\n",
    "    decade_counts = {'Decade': f'{decade}s'}\n",
    "    \n",
    "    for theme in top_themes:\n",
    "        # Check if the theme appears in the Topics (we allow partial matches now)\n",
    "        theme_count = data[(data['Cleaned_Topics'].str.contains(theme)) & \n",
    "                           (data['ProductionYear'] >= decade) & \n",
    "                           (data['ProductionYear'] < decade + 10)].shape[0]\n",
    "\n",
    "        # Print intermediate results for debugging\n",
    "        print(f\"Decade: {decade}s | Theme: {theme} | Count: {theme_count}\")\n",
    "\n",
    "        decade_counts[theme] = theme_count\n",
    "    \n",
    "    decade_counts_list.append(decade_counts)\n",
    "\n",
    "# Convert the list of dictionaries to a DataFrame\n",
    "decade_counts = pd.DataFrame(decade_counts_list)\n",
    "\n",
    "# Revert column names back to original theme names for better readability\n",
    "decade_counts.columns = ['Decade'] + top_themes\n",
    "\n",
    "# Save the data to a CSV file\n",
    "csv_file_path = 'top_themes_by_decade_updated.csv'\n",
    "decade_counts.to_csv(csv_file_path, index=False)\n",
    "\n",
    "# Close the database connection\n",
    "conn.close()\n",
    "\n",
    "# Notify the user of the saved file path\n",
    "print(f\"Top themes by decade saved to {csv_file_path}\")\n"
   ]
  }
 ],
 "metadata": {
  "kernelspec": {
   "display_name": "base",
   "language": "python",
   "name": "python3"
  },
  "language_info": {
   "codemirror_mode": {
    "name": "ipython",
    "version": 3
   },
   "file_extension": ".py",
   "mimetype": "text/x-python",
   "name": "python",
   "nbconvert_exporter": "python",
   "pygments_lexer": "ipython3",
   "version": "3.11.8"
  }
 },
 "nbformat": 4,
 "nbformat_minor": 2
}
