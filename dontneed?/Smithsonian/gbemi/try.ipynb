{
 "cells": [
  {
   "cell_type": "code",
   "execution_count": 11,
   "metadata": {},
   "outputs": [],
   "source": [
    "import pandas as pd\n",
    "import re\n",
    "from collections import Counter"
   ]
  },
  {
   "cell_type": "code",
   "execution_count": 3,
   "metadata": {},
   "outputs": [
    {
     "data": {
      "text/html": [
       "<div>\n",
       "<style scoped>\n",
       "    .dataframe tbody tr th:only-of-type {\n",
       "        vertical-align: middle;\n",
       "    }\n",
       "\n",
       "    .dataframe tbody tr th {\n",
       "        vertical-align: top;\n",
       "    }\n",
       "\n",
       "    .dataframe thead th {\n",
       "        text-align: right;\n",
       "    }\n",
       "</style>\n",
       "<table border=\"1\" class=\"dataframe\">\n",
       "  <thead>\n",
       "    <tr style=\"text-align: right;\">\n",
       "      <th></th>\n",
       "      <th>ID</th>\n",
       "      <th>Title</th>\n",
       "      <th>Type</th>\n",
       "      <th>Date</th>\n",
       "      <th>Topics</th>\n",
       "      <th>ProductionYear</th>\n",
       "    </tr>\n",
       "  </thead>\n",
       "  <tbody>\n",
       "    <tr>\n",
       "      <th>0</th>\n",
       "      <td>ld1-1643381040022-1643381068115-0</td>\n",
       "      <td>Governor for Steam Engines</td>\n",
       "      <td>Smithsonian American Art Museum</td>\n",
       "      <td>1870</td>\n",
       "      <td>Patent model</td>\n",
       "      <td>1870.0</td>\n",
       "    </tr>\n",
       "    <tr>\n",
       "      <th>1</th>\n",
       "      <td>ld1-1643381040022-1643381068119-0</td>\n",
       "      <td>Mousetrap</td>\n",
       "      <td>Smithsonian American Art Museum</td>\n",
       "      <td>1870</td>\n",
       "      <td>Patent model</td>\n",
       "      <td>1870.0</td>\n",
       "    </tr>\n",
       "    <tr>\n",
       "      <th>2</th>\n",
       "      <td>ld1-1643381040022-1643381068106-0</td>\n",
       "      <td>Electrical Timer Bell</td>\n",
       "      <td>Smithsonian American Art Museum</td>\n",
       "      <td>1860</td>\n",
       "      <td>Patent model</td>\n",
       "      <td>1860.0</td>\n",
       "    </tr>\n",
       "    <tr>\n",
       "      <th>3</th>\n",
       "      <td>ld1-1643381040022-1643381068107-0</td>\n",
       "      <td>Water Feed for Boilers</td>\n",
       "      <td>Smithsonian American Art Museum</td>\n",
       "      <td>1880</td>\n",
       "      <td>Patent model</td>\n",
       "      <td>1880.0</td>\n",
       "    </tr>\n",
       "    <tr>\n",
       "      <th>4</th>\n",
       "      <td>ld1-1643381040022-1643381068114-1</td>\n",
       "      <td>Windmill</td>\n",
       "      <td>Smithsonian American Art Museum</td>\n",
       "      <td>1880</td>\n",
       "      <td>Patent model</td>\n",
       "      <td>1880.0</td>\n",
       "    </tr>\n",
       "  </tbody>\n",
       "</table>\n",
       "</div>"
      ],
      "text/plain": [
       "                                  ID                       Title  \\\n",
       "0  ld1-1643381040022-1643381068115-0  Governor for Steam Engines   \n",
       "1  ld1-1643381040022-1643381068119-0                   Mousetrap   \n",
       "2  ld1-1643381040022-1643381068106-0       Electrical Timer Bell   \n",
       "3  ld1-1643381040022-1643381068107-0      Water Feed for Boilers   \n",
       "4  ld1-1643381040022-1643381068114-1                    Windmill   \n",
       "\n",
       "                              Type  Date        Topics  ProductionYear  \n",
       "0  Smithsonian American Art Museum  1870  Patent model          1870.0  \n",
       "1  Smithsonian American Art Museum  1870  Patent model          1870.0  \n",
       "2  Smithsonian American Art Museum  1860  Patent model          1860.0  \n",
       "3  Smithsonian American Art Museum  1880  Patent model          1880.0  \n",
       "4  Smithsonian American Art Museum  1880  Patent model          1880.0  "
      ]
     },
     "execution_count": 3,
     "metadata": {},
     "output_type": "execute_result"
    }
   ],
   "source": [
    "filepath = '../data/processed/american_artworks_with_dates.csv'\n",
    "df = pd.read_csv(filepath)\n",
    "df.head()"
   ]
  },
  {
   "cell_type": "code",
   "execution_count": 12,
   "metadata": {},
   "outputs": [
    {
     "name": "stdout",
     "output_type": "stream",
     "text": [
      "Earliest Year: 1100.0\n",
      "Latest Year: 2010.0\n"
     ]
    }
   ],
   "source": [
    "filepath = '../data/processed/american_artworks_with_dates.csv'\n",
    "df = pd.read_csv(filepath)\n",
    "\n",
    "df[\"ProductionYear\"] = pd.to_numeric(df[\"ProductionYear\"], errors='coerce')\n",
    "\n",
    "min_year = df[\"ProductionYear\"].min()\n",
    "max_year = df[\"ProductionYear\"].max()\n",
    "\n",
    "print(f\"Earliest Year: {min_year}\")\n",
    "print(f\"Latest Year: {max_year}\")\n"
   ]
  },
  {
   "cell_type": "code",
   "execution_count": 39,
   "metadata": {},
   "outputs": [
    {
     "name": "stdout",
     "output_type": "stream",
     "text": [
      "   Decade                                       Unique_Words\n",
      "0  1920.0  [standing, articulated, figure, kenyon, cox, f...\n",
      "1  1930.0  [shapes, fear, street, shrine, teasel, belliss...\n",
      "2  1940.0  [field, 2, seated, nude, girl, sister, ella, f...\n",
      "3  1950.0  [tangiers, new, england, hostess, madonna, sol...\n",
      "4  1960.0  [man, three, donkeys, children, swimming, moth...\n",
      "5  1970.0  [tieback, one, pair, landscape, mattress, make...\n",
      "6  1980.0  [lady, samuel, mink, two, gentlemen, comb, you...\n",
      "7  1990.0  [memory, vessel, doll, parts, whaler, s, quilt...\n",
      "8  2000.0  [timelines, tenements, chatelaine, boy, fancy,...\n",
      "9  2010.0  [cross, catalogue, number, 1938, 52, series, a...\n"
     ]
    }
   ],
   "source": [
    "# Load the dataset\n",
    "filepath = '../data/processed/american_artworks_with_dates.csv'\n",
    "df = pd.read_csv(filepath)\n",
    "\n",
    "df[\"ProductionYear\"] = pd.to_numeric(df[\"ProductionYear\"], errors='coerce')\n",
    "\n",
    "df = df[(df[\"ProductionYear\"] >= 1920) & (df[\"ProductionYear\"] <= 2010)]\n",
    "\n",
    "# Define common filler words to exclude\n",
    "stopwords = set([\"and\", \"or\", \"for\", \"the\", \"of\", \"in\", \"on\", \"with\", \"to\", \"a\", \"an\", \"by\", \"at\", \"as\", \"from\", \"untitled\", \"no\", \"1\", \"untitled\"])\n",
    "\n",
    "# Function to clean and extract words from a title\n",
    "def process_title(title):\n",
    "    words = re.findall(r'\\b\\w+\\b', title.lower())  \n",
    "    return [word for word in words if word not in stopwords]  \n",
    "\n",
    "# Group titles by decade\n",
    "df[\"Decade\"] = (df[\"ProductionYear\"] // 10) * 10  # Convert year to decade\n",
    "\n",
    "# Create a dictionary to store word counts for each decade\n",
    "decade_word_counts = {}\n",
    "\n",
    "# Process each decade separately\n",
    "for decade, group in df.groupby(\"Decade\"):\n",
    "    all_words = []\n",
    "    for title in group[\"Title\"].dropna():\n",
    "        all_words.extend(process_title(title))  # Process title and add words\n",
    "    word_counts = Counter(all_words)  # Count word occurrences\n",
    "    decade_word_counts[decade] = list(word_counts.keys())  # Store unique words\n",
    "\n",
    "# Convert to a DataFrame\n",
    "decade_df = pd.DataFrame(list(decade_word_counts.items()), columns=[\"Decade\", \"Unique_Words\"])\n",
    "\n",
    "# Display the result\n",
    "print(decade_df)\n",
    "\n",
    "# Save the result to a CSV\n",
    "output_filepath = \"../data/processed/decade_unique_words.csv\"\n",
    "decade_df.to_csv(output_filepath, index=False)"
   ]
  },
  {
   "cell_type": "code",
   "execution_count": 41,
   "metadata": {},
   "outputs": [
    {
     "data": {
      "text/html": [
       "<div>\n",
       "<style scoped>\n",
       "    .dataframe tbody tr th:only-of-type {\n",
       "        vertical-align: middle;\n",
       "    }\n",
       "\n",
       "    .dataframe tbody tr th {\n",
       "        vertical-align: top;\n",
       "    }\n",
       "\n",
       "    .dataframe thead th {\n",
       "        text-align: right;\n",
       "    }\n",
       "</style>\n",
       "<table border=\"1\" class=\"dataframe\">\n",
       "  <thead>\n",
       "    <tr style=\"text-align: right;\">\n",
       "      <th></th>\n",
       "      <th>Decade</th>\n",
       "      <th>Unique_Words</th>\n",
       "    </tr>\n",
       "  </thead>\n",
       "  <tbody>\n",
       "    <tr>\n",
       "      <th>0</th>\n",
       "      <td>1920.0</td>\n",
       "      <td>[standing, articulated, figure, kenyon, cox, f...</td>\n",
       "    </tr>\n",
       "    <tr>\n",
       "      <th>1</th>\n",
       "      <td>1930.0</td>\n",
       "      <td>[shapes, fear, street, shrine, teasel, belliss...</td>\n",
       "    </tr>\n",
       "    <tr>\n",
       "      <th>2</th>\n",
       "      <td>1940.0</td>\n",
       "      <td>[field, 2, seated, nude, girl, sister, ella, f...</td>\n",
       "    </tr>\n",
       "    <tr>\n",
       "      <th>3</th>\n",
       "      <td>1950.0</td>\n",
       "      <td>[tangiers, new, england, hostess, madonna, sol...</td>\n",
       "    </tr>\n",
       "    <tr>\n",
       "      <th>4</th>\n",
       "      <td>1960.0</td>\n",
       "      <td>[man, three, donkeys, children, swimming, moth...</td>\n",
       "    </tr>\n",
       "  </tbody>\n",
       "</table>\n",
       "</div>"
      ],
      "text/plain": [
       "   Decade                                       Unique_Words\n",
       "0  1920.0  [standing, articulated, figure, kenyon, cox, f...\n",
       "1  1930.0  [shapes, fear, street, shrine, teasel, belliss...\n",
       "2  1940.0  [field, 2, seated, nude, girl, sister, ella, f...\n",
       "3  1950.0  [tangiers, new, england, hostess, madonna, sol...\n",
       "4  1960.0  [man, three, donkeys, children, swimming, moth..."
      ]
     },
     "execution_count": 41,
     "metadata": {},
     "output_type": "execute_result"
    }
   ],
   "source": [
    "decade_df.head()"
   ]
  },
  {
   "cell_type": "code",
   "execution_count": 45,
   "metadata": {},
   "outputs": [
    {
     "name": "stdout",
     "output_type": "stream",
     "text": [
      "   Decade                                       Unique_Words  Word_Count\n",
      "0  1920.0  [standing, articulated, figure, kenyon, cox, f...        2035\n",
      "1  1930.0  [shapes, fear, street, shrine, teasel, belliss...        1257\n",
      "2  1940.0  [field, 2, seated, nude, girl, sister, ella, f...         680\n",
      "3  1950.0  [tangiers, new, england, hostess, madonna, sol...          34\n",
      "4  1960.0  [man, three, donkeys, children, swimming, moth...          38\n",
      "5  1970.0  [tieback, one, pair, landscape, mattress, make...          26\n",
      "6  1980.0  [lady, samuel, mink, two, gentlemen, comb, you...          29\n",
      "7  1990.0  [memory, vessel, doll, parts, whaler, s, quilt...          28\n",
      "8  2000.0  [timelines, tenements, chatelaine, boy, fancy,...          20\n",
      "9  2010.0  [cross, catalogue, number, 1938, 52, series, a...          15\n"
     ]
    }
   ],
   "source": [
    "decade_df['Word_Count'] = decade_df['Unique_Words'].apply(len)\n",
    "\n",
    "print(decade_df)"
   ]
  },
  {
   "cell_type": "code",
   "execution_count": 52,
   "metadata": {},
   "outputs": [
    {
     "name": "stdout",
     "output_type": "stream",
     "text": [
      "   Decade                                       Unique_Words\n",
      "0    2010  [ensemble, coat, dress, tote, sculpture, print...\n",
      "1    2020  [ensemble, boots, dress, pot, shoes, slippers,...\n"
     ]
    }
   ],
   "source": [
    "import pandas as pd\n",
    "import re\n",
    "from collections import Counter\n",
    "\n",
    "# Load data\n",
    "filepath = '../data/processed/art_data.json'\n",
    "df = pd.read_json(filepath)\n",
    "\n",
    "# Convert 'objectEndDate' to numeric and handle any errors\n",
    "df[\"objectEndDate\"] = pd.to_numeric(df[\"objectEndDate\"], errors='coerce')\n",
    "\n",
    "# Filter data for the specified range of years\n",
    "df = df[(df[\"objectEndDate\"] >= 1920) & (df[\"objectEndDate\"] <= 2035)]\n",
    "\n",
    "# Define common filler words to exclude\n",
    "stopwords = set([\"and\", \"or\", \"for\", \"the\", \"of\", \"in\", \"on\", \"with\", \"to\", \"a\", \"an\", \"by\", \"at\", \"as\", \"from\", \"untitled\", \"no\", \"1\"])\n",
    "\n",
    "# Function to clean and extract words from the title\n",
    "def process_title(objectName):\n",
    "    words = re.findall(r'\\b\\w+\\b', objectName.lower())  # Use objectName to extract words\n",
    "    return [word for word in words if word not in stopwords]  # Exclude stopwords\n",
    "\n",
    "# Group titles by decade\n",
    "df[\"Decade\"] = (df[\"objectEndDate\"] // 10) * 10  # Convert year to decade\n",
    "\n",
    "# Create a dictionary to store word counts for each decade\n",
    "decade_word_counts = {}\n",
    "\n",
    "# Process each decade separately\n",
    "for decade, group in df.groupby(\"Decade\"):\n",
    "    all_words = []\n",
    "    for objectName in group[\"objectName\"].dropna():  # Process objectName for each row\n",
    "        all_words.extend(process_title(objectName))  # Process title and add words\n",
    "    word_counts = Counter(all_words)  # Count word occurrences\n",
    "    decade_word_counts[decade] = list(word_counts.keys())  # Store unique words\n",
    "\n",
    "# Convert to a DataFrame\n",
    "decade_df = pd.DataFrame(list(decade_word_counts.items()), columns=[\"Decade\", \"Unique_Words\"])\n",
    "\n",
    "# Display the result\n",
    "print(decade_df)"
   ]
  },
  {
   "cell_type": "code",
   "execution_count": 53,
   "metadata": {},
   "outputs": [
    {
     "name": "stdout",
     "output_type": "stream",
     "text": [
      "   Decade                                       Unique_Words  Word_Count\n",
      "0    2010  [ensemble, coat, dress, tote, sculpture, print...          12\n",
      "1    2020  [ensemble, boots, dress, pot, shoes, slippers,...           9\n"
     ]
    }
   ],
   "source": [
    "decade_df['Word_Count'] = decade_df['Unique_Words'].apply(len)\n",
    "\n",
    "print(decade_df)"
   ]
  },
  {
   "cell_type": "code",
   "execution_count": null,
   "metadata": {},
   "outputs": [
    {
     "name": "stdout",
     "output_type": "stream",
     "text": [
      "   Decade                                       Unique_Words\n",
      "0  1920.0  [standing, articulated, figure, kenyon, cox, f...\n",
      "1  1930.0  [shapes, fear, street, shrine, teasel, belliss...\n",
      "2  1940.0  [field, seated, nude, girl, sister, ella, frog...\n",
      "3  1950.0  [tangiers, new, england, hostess, madonna, sol...\n",
      "4  1960.0  [man, three, donkeys, children, swimming, moth...\n",
      "5  1970.0  [tieback, one, pair, landscape, mattress, make...\n",
      "6  1980.0  [lady, samuel, mink, two, gentlemen, comb, you...\n",
      "7  1990.0  [memory, vessel, doll, parts, whaler, s, quilt...\n",
      "8  2000.0  [timelines, tenements, chatelaine, boy, fancy,...\n",
      "9  2010.0  [cross, catalogue, number, series, accession, ...\n"
     ]
    }
   ],
   "source": [
    "import pandas as pd\n",
    "from sqlalchemy import create_engine  # Import create_engine\n",
    "import re\n",
    "from collections import Counter\n",
    "\n",
    "# Create the engine for the SQLite database\n",
    "engine = create_engine('sqlite:///../data/processed/social_movements.db')  \n",
    "\n",
    "# Read data from the SmithsonianArtworks table\n",
    "df = pd.read_sql_query(\"SELECT * FROM SmithsonianArtworks;\", engine)\n",
    "\n",
    "# Load the dataset\n",
    "filepath = '../data/processed/american_artworks_with_dates.csv'\n",
    "df = pd.read_csv(filepath)\n",
    "\n",
    "# Convert 'ProductionYear' to numeric, handling errors\n",
    "df[\"ProductionYear\"] = pd.to_numeric(df[\"ProductionYear\"], errors='coerce')\n",
    "\n",
    "# Filter the dataset for years between 1920 and 2010\n",
    "df = df[(df[\"ProductionYear\"] >= 1920) & (df[\"ProductionYear\"] <= 2010)]\n",
    "\n",
    "# Define common filler words to exclude\n",
    "stopwords = set([\"and\", \"or\", \"for\", \"the\", \"of\", \"in\", \"on\", \"with\", \"to\", \"a\", \"an\", \"by\", \"at\", \"as\", \"from\", \"untitled\", \"no\", \"1\", \"untitled\"])\n",
    "\n",
    "# Function to clean and extract words from a title (filtering stopwords and numbers)\n",
    "def process_title(title):\n",
    "    words = re.findall(r'\\b\\w+\\b', title.lower())  # Extract words\n",
    "    return [word for word in words if word not in stopwords and not word.isdigit()]  \n",
    "\n",
    "# Apply title processing function to the 'Title' column\n",
    "df[\"ProcessedTitles\"] = df[\"Title\"].dropna().apply(process_title)\n",
    "\n",
    "# Group titles by decade\n",
    "df[\"Decade\"] = (df[\"ProductionYear\"] // 10) * 10  # Convert year to decade\n",
    "\n",
    "# Function to get unique words for each group\n",
    "def get_unique_words(group):\n",
    "    all_words = [word for title in group for word in title]  # Flatten the list of words\n",
    "    word_counts = Counter(all_words)  # Count word occurrences\n",
    "    return list(word_counts.keys())  # Get unique words\n",
    "\n",
    "# Group by decade and apply the word counting function\n",
    "decade_word_counts = df.groupby(\"Decade\")[\"ProcessedTitles\"].apply(lambda x: get_unique_words(x)).reset_index()\n",
    "\n",
    "# Rename columns\n",
    "decade_word_counts.columns = [\"Decade\", \"Unique_Words\"]\n",
    "\n",
    "print(decade_word_counts)\n"
   ]
  }
 ],
 "metadata": {
  "kernelspec": {
   "display_name": ".venv",
   "language": "python",
   "name": "python3"
  },
  "language_info": {
   "codemirror_mode": {
    "name": "ipython",
    "version": 3
   },
   "file_extension": ".py",
   "mimetype": "text/x-python",
   "name": "python",
   "nbconvert_exporter": "python",
   "pygments_lexer": "ipython3",
   "version": "3.12.7"
  }
 },
 "nbformat": 4,
 "nbformat_minor": 2
}
