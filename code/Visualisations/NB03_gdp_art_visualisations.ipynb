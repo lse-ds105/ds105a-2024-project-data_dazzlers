{
 "cells": [
  {
   "cell_type": "markdown",
   "metadata": {},
   "source": [
    "# How do GDP affect the art themes produced in the US?\n",
    "\n",
    "LSE DS105A - Data for Data Science (2024/25)\n",
    "\n",
    "**Date**: 4/02/25\n",
    "\n",
    "**Authors**: Chiara Franzin\n",
    "\n",
    "**Objective**:🌟 Visualise how art themes and GDP correlate"
   ]
  },
  {
   "cell_type": "code",
   "execution_count": 11,
   "metadata": {},
   "outputs": [],
   "source": [
    "import matplotlib.pyplot as plt\n",
    "import numpy as np\n",
    "import matplotlib\n",
    "import matplotlib as mpl\n",
    "import pandas as pd\n",
    "import matplotlib.cm as cm\n",
    "import matplotlib.colors as mcolors\n",
    "import plotly.graph_objects as go\n",
    "import colorsys\n",
    "import plotly.io as pio\n",
    "import sqlite3\n",
    "import seaborn as sns\n",
    "from sqlalchemy import create_engine\n",
    "  \n",
    "import sys\n",
    "sys.path.append(\"..\")  \n",
    "\n",
    "from data_vis import get_mean_gdp_by_decade, create_theme_array, generate_colors\n",
    "\n"
   ]
  },
  {
   "cell_type": "markdown",
   "metadata": {},
   "source": [
    "## 1. Processing Data from SQLite Database"
   ]
  },
  {
   "cell_type": "markdown",
   "metadata": {},
   "source": [
    "### 1.1 Smithsonian Data"
   ]
  },
  {
   "cell_type": "code",
   "execution_count": 12,
   "metadata": {},
   "outputs": [
    {
     "data": {
      "text/html": [
       "<div>\n",
       "<style scoped>\n",
       "    .dataframe tbody tr th:only-of-type {\n",
       "        vertical-align: middle;\n",
       "    }\n",
       "\n",
       "    .dataframe tbody tr th {\n",
       "        vertical-align: top;\n",
       "    }\n",
       "\n",
       "    .dataframe thead th {\n",
       "        text-align: right;\n",
       "    }\n",
       "</style>\n",
       "<table border=\"1\" class=\"dataframe\">\n",
       "  <thead>\n",
       "    <tr style=\"text-align: right;\">\n",
       "      <th></th>\n",
       "      <th>Topic</th>\n",
       "      <th>ThemeCount</th>\n",
       "    </tr>\n",
       "  </thead>\n",
       "  <tbody>\n",
       "    <tr>\n",
       "      <th>0</th>\n",
       "      <td>Landscapes</td>\n",
       "      <td>610</td>\n",
       "    </tr>\n",
       "    <tr>\n",
       "      <th>1</th>\n",
       "      <td>Architecture</td>\n",
       "      <td>566</td>\n",
       "    </tr>\n",
       "    <tr>\n",
       "      <th>2</th>\n",
       "      <td>Botanical study</td>\n",
       "      <td>438</td>\n",
       "    </tr>\n",
       "    <tr>\n",
       "      <th>3</th>\n",
       "      <td>Figure group</td>\n",
       "      <td>392</td>\n",
       "    </tr>\n",
       "    <tr>\n",
       "      <th>4</th>\n",
       "      <td>Animals</td>\n",
       "      <td>338</td>\n",
       "    </tr>\n",
       "  </tbody>\n",
       "</table>\n",
       "</div>"
      ],
      "text/plain": [
       "             Topic  ThemeCount\n",
       "0       Landscapes         610\n",
       "1     Architecture         566\n",
       "2  Botanical study         438\n",
       "3     Figure group         392\n",
       "4          Animals         338"
      ]
     },
     "execution_count": 12,
     "metadata": {},
     "output_type": "execute_result"
    }
   ],
   "source": [
    "# Connect to the database\n",
    "engine = create_engine('sqlite:///../../data/processed/social_movements.db')\n",
    "\n",
    "# Query topics\n",
    "df = pd.read_sql_query(\n",
    "    \"SELECT Topics FROM SmithsonianArtworks WHERE ProductionYear BETWEEN 1920 AND 2010 AND Topics != 'None'\",\n",
    "    con=engine\n",
    ")\n",
    "\n",
    "# Split the comma-separated topics into separate rows\n",
    "df['Topics'] = df['Topics'].str.split(', ')  # Split into lists\n",
    "df_topics = df.explode('Topics')  # Convert lists into separate rows\n",
    "\n",
    "# Count occurrences of individual themes\n",
    "df_counts = df_topics['Topics'].value_counts().reset_index()\n",
    "df_counts.columns = ['Topic', 'ThemeCount']\n",
    "\n",
    "df_counts.head()\n"
   ]
  },
  {
   "cell_type": "code",
   "execution_count": 13,
   "metadata": {},
   "outputs": [
    {
     "data": {
      "text/html": [
       "<div>\n",
       "<style scoped>\n",
       "    .dataframe tbody tr th:only-of-type {\n",
       "        vertical-align: middle;\n",
       "    }\n",
       "\n",
       "    .dataframe tbody tr th {\n",
       "        vertical-align: top;\n",
       "    }\n",
       "\n",
       "    .dataframe thead th {\n",
       "        text-align: right;\n",
       "    }\n",
       "</style>\n",
       "<table border=\"1\" class=\"dataframe\">\n",
       "  <thead>\n",
       "    <tr style=\"text-align: right;\">\n",
       "      <th></th>\n",
       "      <th>Topic</th>\n",
       "      <th>ThemeCount</th>\n",
       "    </tr>\n",
       "  </thead>\n",
       "  <tbody>\n",
       "    <tr>\n",
       "      <th>0</th>\n",
       "      <td>Landscapes</td>\n",
       "      <td>610</td>\n",
       "    </tr>\n",
       "    <tr>\n",
       "      <th>1</th>\n",
       "      <td>Architecture</td>\n",
       "      <td>566</td>\n",
       "    </tr>\n",
       "    <tr>\n",
       "      <th>2</th>\n",
       "      <td>Botanical study</td>\n",
       "      <td>438</td>\n",
       "    </tr>\n",
       "    <tr>\n",
       "      <th>3</th>\n",
       "      <td>Figure group</td>\n",
       "      <td>392</td>\n",
       "    </tr>\n",
       "    <tr>\n",
       "      <th>4</th>\n",
       "      <td>Animals</td>\n",
       "      <td>338</td>\n",
       "    </tr>\n",
       "    <tr>\n",
       "      <th>5</th>\n",
       "      <td>Portraits</td>\n",
       "      <td>324</td>\n",
       "    </tr>\n",
       "    <tr>\n",
       "      <th>6</th>\n",
       "      <td>Occupations</td>\n",
       "      <td>296</td>\n",
       "    </tr>\n",
       "    <tr>\n",
       "      <th>7</th>\n",
       "      <td>Men</td>\n",
       "      <td>277</td>\n",
       "    </tr>\n",
       "    <tr>\n",
       "      <th>8</th>\n",
       "      <td>Cityscapes</td>\n",
       "      <td>218</td>\n",
       "    </tr>\n",
       "    <tr>\n",
       "      <th>9</th>\n",
       "      <td>Figure female</td>\n",
       "      <td>201</td>\n",
       "    </tr>\n",
       "    <tr>\n",
       "      <th>10</th>\n",
       "      <td>Figure male</td>\n",
       "      <td>194</td>\n",
       "    </tr>\n",
       "    <tr>\n",
       "      <th>11</th>\n",
       "      <td>Domestic</td>\n",
       "      <td>174</td>\n",
       "    </tr>\n",
       "    <tr>\n",
       "      <th>12</th>\n",
       "      <td>Women</td>\n",
       "      <td>147</td>\n",
       "    </tr>\n",
       "    <tr>\n",
       "      <th>13</th>\n",
       "      <td>Clothing and dress</td>\n",
       "      <td>137</td>\n",
       "    </tr>\n",
       "    <tr>\n",
       "      <th>14</th>\n",
       "      <td>Art</td>\n",
       "      <td>137</td>\n",
       "    </tr>\n",
       "    <tr>\n",
       "      <th>15</th>\n",
       "      <td>Religion</td>\n",
       "      <td>134</td>\n",
       "    </tr>\n",
       "    <tr>\n",
       "      <th>16</th>\n",
       "      <td>Nudity</td>\n",
       "      <td>130</td>\n",
       "    </tr>\n",
       "    <tr>\n",
       "      <th>17</th>\n",
       "      <td>Dress accessories</td>\n",
       "      <td>114</td>\n",
       "    </tr>\n",
       "    <tr>\n",
       "      <th>18</th>\n",
       "      <td>Trees</td>\n",
       "      <td>109</td>\n",
       "    </tr>\n",
       "    <tr>\n",
       "      <th>19</th>\n",
       "      <td>Horses</td>\n",
       "      <td>105</td>\n",
       "    </tr>\n",
       "  </tbody>\n",
       "</table>\n",
       "</div>"
      ],
      "text/plain": [
       "                 Topic  ThemeCount\n",
       "0           Landscapes         610\n",
       "1         Architecture         566\n",
       "2      Botanical study         438\n",
       "3         Figure group         392\n",
       "4              Animals         338\n",
       "5            Portraits         324\n",
       "6          Occupations         296\n",
       "7                  Men         277\n",
       "8           Cityscapes         218\n",
       "9        Figure female         201\n",
       "10         Figure male         194\n",
       "11            Domestic         174\n",
       "12               Women         147\n",
       "13  Clothing and dress         137\n",
       "14                 Art         137\n",
       "15            Religion         134\n",
       "16              Nudity         130\n",
       "17   Dress accessories         114\n",
       "18               Trees         109\n",
       "19              Horses         105"
      ]
     },
     "execution_count": 13,
     "metadata": {},
     "output_type": "execute_result"
    }
   ],
   "source": [
    "df_counts.head(20)\n"
   ]
  },
  {
   "cell_type": "markdown",
   "metadata": {},
   "source": [
    "I'm going to remove \"art\" as an art theme because it is too vague and if I left it and did analysis on it, it would reveal nothing about the type of art that is created."
   ]
  },
  {
   "cell_type": "code",
   "execution_count": 14,
   "metadata": {},
   "outputs": [
    {
     "data": {
      "text/html": [
       "<div>\n",
       "<style scoped>\n",
       "    .dataframe tbody tr th:only-of-type {\n",
       "        vertical-align: middle;\n",
       "    }\n",
       "\n",
       "    .dataframe tbody tr th {\n",
       "        vertical-align: top;\n",
       "    }\n",
       "\n",
       "    .dataframe thead th {\n",
       "        text-align: right;\n",
       "    }\n",
       "</style>\n",
       "<table border=\"1\" class=\"dataframe\">\n",
       "  <thead>\n",
       "    <tr style=\"text-align: right;\">\n",
       "      <th></th>\n",
       "      <th>Topic</th>\n",
       "      <th>ThemeCount</th>\n",
       "    </tr>\n",
       "  </thead>\n",
       "  <tbody>\n",
       "    <tr>\n",
       "      <th>0</th>\n",
       "      <td>Landscapes</td>\n",
       "      <td>610</td>\n",
       "    </tr>\n",
       "    <tr>\n",
       "      <th>1</th>\n",
       "      <td>Architecture</td>\n",
       "      <td>566</td>\n",
       "    </tr>\n",
       "    <tr>\n",
       "      <th>2</th>\n",
       "      <td>Botanical study</td>\n",
       "      <td>438</td>\n",
       "    </tr>\n",
       "    <tr>\n",
       "      <th>3</th>\n",
       "      <td>Figure group</td>\n",
       "      <td>392</td>\n",
       "    </tr>\n",
       "    <tr>\n",
       "      <th>4</th>\n",
       "      <td>Animals</td>\n",
       "      <td>338</td>\n",
       "    </tr>\n",
       "    <tr>\n",
       "      <th>5</th>\n",
       "      <td>Portraits</td>\n",
       "      <td>324</td>\n",
       "    </tr>\n",
       "    <tr>\n",
       "      <th>6</th>\n",
       "      <td>Occupations</td>\n",
       "      <td>296</td>\n",
       "    </tr>\n",
       "    <tr>\n",
       "      <th>7</th>\n",
       "      <td>Men</td>\n",
       "      <td>277</td>\n",
       "    </tr>\n",
       "    <tr>\n",
       "      <th>8</th>\n",
       "      <td>Cityscapes</td>\n",
       "      <td>218</td>\n",
       "    </tr>\n",
       "    <tr>\n",
       "      <th>9</th>\n",
       "      <td>Figure female</td>\n",
       "      <td>201</td>\n",
       "    </tr>\n",
       "    <tr>\n",
       "      <th>10</th>\n",
       "      <td>Figure male</td>\n",
       "      <td>194</td>\n",
       "    </tr>\n",
       "    <tr>\n",
       "      <th>11</th>\n",
       "      <td>Domestic</td>\n",
       "      <td>174</td>\n",
       "    </tr>\n",
       "    <tr>\n",
       "      <th>12</th>\n",
       "      <td>Women</td>\n",
       "      <td>147</td>\n",
       "    </tr>\n",
       "    <tr>\n",
       "      <th>13</th>\n",
       "      <td>Clothing and dress</td>\n",
       "      <td>137</td>\n",
       "    </tr>\n",
       "    <tr>\n",
       "      <th>15</th>\n",
       "      <td>Religion</td>\n",
       "      <td>134</td>\n",
       "    </tr>\n",
       "    <tr>\n",
       "      <th>16</th>\n",
       "      <td>Nudity</td>\n",
       "      <td>130</td>\n",
       "    </tr>\n",
       "    <tr>\n",
       "      <th>17</th>\n",
       "      <td>Dress accessories</td>\n",
       "      <td>114</td>\n",
       "    </tr>\n",
       "    <tr>\n",
       "      <th>18</th>\n",
       "      <td>Trees</td>\n",
       "      <td>109</td>\n",
       "    </tr>\n",
       "    <tr>\n",
       "      <th>19</th>\n",
       "      <td>Horses</td>\n",
       "      <td>105</td>\n",
       "    </tr>\n",
       "    <tr>\n",
       "      <th>20</th>\n",
       "      <td>Mountains</td>\n",
       "      <td>96</td>\n",
       "    </tr>\n",
       "  </tbody>\n",
       "</table>\n",
       "</div>"
      ],
      "text/plain": [
       "                 Topic  ThemeCount\n",
       "0           Landscapes         610\n",
       "1         Architecture         566\n",
       "2      Botanical study         438\n",
       "3         Figure group         392\n",
       "4              Animals         338\n",
       "5            Portraits         324\n",
       "6          Occupations         296\n",
       "7                  Men         277\n",
       "8           Cityscapes         218\n",
       "9        Figure female         201\n",
       "10         Figure male         194\n",
       "11            Domestic         174\n",
       "12               Women         147\n",
       "13  Clothing and dress         137\n",
       "15            Religion         134\n",
       "16              Nudity         130\n",
       "17   Dress accessories         114\n",
       "18               Trees         109\n",
       "19              Horses         105\n",
       "20           Mountains          96"
      ]
     },
     "execution_count": 14,
     "metadata": {},
     "output_type": "execute_result"
    }
   ],
   "source": [
    "# Remove 'Art' from the topics\n",
    "df_counts2 = df_counts[df_counts['Topic'] != 'Art']\n",
    "\n",
    "# Display the top 20 remaining topics\n",
    "df_top20 = df_counts2.head(20)\n",
    "\n",
    "df_top20"
   ]
  },
  {
   "cell_type": "markdown",
   "metadata": {},
   "source": [
    "Now I want to find out how many paintings are created in each topic/theme every decade from the 1920s to 2010s."
   ]
  },
  {
   "cell_type": "code",
   "execution_count": 15,
   "metadata": {},
   "outputs": [
    {
     "data": {
      "text/html": [
       "<div>\n",
       "<style scoped>\n",
       "    .dataframe tbody tr th:only-of-type {\n",
       "        vertical-align: middle;\n",
       "    }\n",
       "\n",
       "    .dataframe tbody tr th {\n",
       "        vertical-align: top;\n",
       "    }\n",
       "\n",
       "    .dataframe thead th {\n",
       "        text-align: right;\n",
       "    }\n",
       "</style>\n",
       "<table border=\"1\" class=\"dataframe\">\n",
       "  <thead>\n",
       "    <tr style=\"text-align: right;\">\n",
       "      <th>Topics</th>\n",
       "      <th>Animals</th>\n",
       "      <th>Architecture</th>\n",
       "      <th>Botanical study</th>\n",
       "      <th>Cityscapes</th>\n",
       "      <th>Clothing and dress</th>\n",
       "      <th>Domestic</th>\n",
       "      <th>Dress accessories</th>\n",
       "      <th>Figure female</th>\n",
       "      <th>Figure group</th>\n",
       "      <th>Figure male</th>\n",
       "      <th>Horses</th>\n",
       "      <th>Landscapes</th>\n",
       "      <th>Men</th>\n",
       "      <th>Mountains</th>\n",
       "      <th>Nudity</th>\n",
       "      <th>Occupations</th>\n",
       "      <th>Portraits</th>\n",
       "      <th>Religion</th>\n",
       "      <th>Trees</th>\n",
       "      <th>Women</th>\n",
       "    </tr>\n",
       "    <tr>\n",
       "      <th>Decade</th>\n",
       "      <th></th>\n",
       "      <th></th>\n",
       "      <th></th>\n",
       "      <th></th>\n",
       "      <th></th>\n",
       "      <th></th>\n",
       "      <th></th>\n",
       "      <th></th>\n",
       "      <th></th>\n",
       "      <th></th>\n",
       "      <th></th>\n",
       "      <th></th>\n",
       "      <th></th>\n",
       "      <th></th>\n",
       "      <th></th>\n",
       "      <th></th>\n",
       "      <th></th>\n",
       "      <th></th>\n",
       "      <th></th>\n",
       "      <th></th>\n",
       "    </tr>\n",
       "  </thead>\n",
       "  <tbody>\n",
       "    <tr>\n",
       "      <th>1920</th>\n",
       "      <td>221</td>\n",
       "      <td>308</td>\n",
       "      <td>269</td>\n",
       "      <td>135</td>\n",
       "      <td>68</td>\n",
       "      <td>82</td>\n",
       "      <td>59</td>\n",
       "      <td>100</td>\n",
       "      <td>200</td>\n",
       "      <td>68</td>\n",
       "      <td>74</td>\n",
       "      <td>305</td>\n",
       "      <td>157</td>\n",
       "      <td>55</td>\n",
       "      <td>80</td>\n",
       "      <td>138</td>\n",
       "      <td>169</td>\n",
       "      <td>76</td>\n",
       "      <td>65</td>\n",
       "      <td>66</td>\n",
       "    </tr>\n",
       "    <tr>\n",
       "      <th>1930</th>\n",
       "      <td>67</td>\n",
       "      <td>156</td>\n",
       "      <td>152</td>\n",
       "      <td>52</td>\n",
       "      <td>33</td>\n",
       "      <td>42</td>\n",
       "      <td>32</td>\n",
       "      <td>73</td>\n",
       "      <td>108</td>\n",
       "      <td>39</td>\n",
       "      <td>18</td>\n",
       "      <td>200</td>\n",
       "      <td>62</td>\n",
       "      <td>26</td>\n",
       "      <td>43</td>\n",
       "      <td>69</td>\n",
       "      <td>88</td>\n",
       "      <td>40</td>\n",
       "      <td>34</td>\n",
       "      <td>47</td>\n",
       "    </tr>\n",
       "    <tr>\n",
       "      <th>1940</th>\n",
       "      <td>46</td>\n",
       "      <td>85</td>\n",
       "      <td>17</td>\n",
       "      <td>29</td>\n",
       "      <td>28</td>\n",
       "      <td>42</td>\n",
       "      <td>14</td>\n",
       "      <td>28</td>\n",
       "      <td>72</td>\n",
       "      <td>82</td>\n",
       "      <td>13</td>\n",
       "      <td>93</td>\n",
       "      <td>29</td>\n",
       "      <td>13</td>\n",
       "      <td>7</td>\n",
       "      <td>82</td>\n",
       "      <td>23</td>\n",
       "      <td>14</td>\n",
       "      <td>9</td>\n",
       "      <td>16</td>\n",
       "    </tr>\n",
       "    <tr>\n",
       "      <th>1950</th>\n",
       "      <td>1</td>\n",
       "      <td>8</td>\n",
       "      <td>0</td>\n",
       "      <td>0</td>\n",
       "      <td>1</td>\n",
       "      <td>5</td>\n",
       "      <td>0</td>\n",
       "      <td>0</td>\n",
       "      <td>4</td>\n",
       "      <td>1</td>\n",
       "      <td>0</td>\n",
       "      <td>5</td>\n",
       "      <td>2</td>\n",
       "      <td>1</td>\n",
       "      <td>0</td>\n",
       "      <td>2</td>\n",
       "      <td>4</td>\n",
       "      <td>3</td>\n",
       "      <td>1</td>\n",
       "      <td>2</td>\n",
       "    </tr>\n",
       "    <tr>\n",
       "      <th>1960</th>\n",
       "      <td>1</td>\n",
       "      <td>1</td>\n",
       "      <td>0</td>\n",
       "      <td>0</td>\n",
       "      <td>1</td>\n",
       "      <td>1</td>\n",
       "      <td>2</td>\n",
       "      <td>0</td>\n",
       "      <td>4</td>\n",
       "      <td>2</td>\n",
       "      <td>0</td>\n",
       "      <td>3</td>\n",
       "      <td>4</td>\n",
       "      <td>0</td>\n",
       "      <td>0</td>\n",
       "      <td>2</td>\n",
       "      <td>4</td>\n",
       "      <td>0</td>\n",
       "      <td>0</td>\n",
       "      <td>0</td>\n",
       "    </tr>\n",
       "    <tr>\n",
       "      <th>1970</th>\n",
       "      <td>0</td>\n",
       "      <td>4</td>\n",
       "      <td>0</td>\n",
       "      <td>2</td>\n",
       "      <td>0</td>\n",
       "      <td>0</td>\n",
       "      <td>1</td>\n",
       "      <td>0</td>\n",
       "      <td>2</td>\n",
       "      <td>0</td>\n",
       "      <td>0</td>\n",
       "      <td>2</td>\n",
       "      <td>0</td>\n",
       "      <td>0</td>\n",
       "      <td>0</td>\n",
       "      <td>1</td>\n",
       "      <td>1</td>\n",
       "      <td>0</td>\n",
       "      <td>0</td>\n",
       "      <td>2</td>\n",
       "    </tr>\n",
       "    <tr>\n",
       "      <th>1980</th>\n",
       "      <td>1</td>\n",
       "      <td>0</td>\n",
       "      <td>0</td>\n",
       "      <td>0</td>\n",
       "      <td>5</td>\n",
       "      <td>0</td>\n",
       "      <td>5</td>\n",
       "      <td>0</td>\n",
       "      <td>0</td>\n",
       "      <td>1</td>\n",
       "      <td>0</td>\n",
       "      <td>0</td>\n",
       "      <td>20</td>\n",
       "      <td>0</td>\n",
       "      <td>0</td>\n",
       "      <td>1</td>\n",
       "      <td>31</td>\n",
       "      <td>0</td>\n",
       "      <td>0</td>\n",
       "      <td>14</td>\n",
       "    </tr>\n",
       "    <tr>\n",
       "      <th>1990</th>\n",
       "      <td>1</td>\n",
       "      <td>2</td>\n",
       "      <td>0</td>\n",
       "      <td>0</td>\n",
       "      <td>0</td>\n",
       "      <td>2</td>\n",
       "      <td>0</td>\n",
       "      <td>0</td>\n",
       "      <td>0</td>\n",
       "      <td>0</td>\n",
       "      <td>0</td>\n",
       "      <td>1</td>\n",
       "      <td>0</td>\n",
       "      <td>0</td>\n",
       "      <td>0</td>\n",
       "      <td>1</td>\n",
       "      <td>0</td>\n",
       "      <td>0</td>\n",
       "      <td>0</td>\n",
       "      <td>0</td>\n",
       "    </tr>\n",
       "    <tr>\n",
       "      <th>2000</th>\n",
       "      <td>0</td>\n",
       "      <td>2</td>\n",
       "      <td>0</td>\n",
       "      <td>0</td>\n",
       "      <td>1</td>\n",
       "      <td>0</td>\n",
       "      <td>1</td>\n",
       "      <td>0</td>\n",
       "      <td>2</td>\n",
       "      <td>1</td>\n",
       "      <td>0</td>\n",
       "      <td>1</td>\n",
       "      <td>3</td>\n",
       "      <td>1</td>\n",
       "      <td>0</td>\n",
       "      <td>0</td>\n",
       "      <td>3</td>\n",
       "      <td>0</td>\n",
       "      <td>0</td>\n",
       "      <td>0</td>\n",
       "    </tr>\n",
       "    <tr>\n",
       "      <th>2010</th>\n",
       "      <td>0</td>\n",
       "      <td>0</td>\n",
       "      <td>0</td>\n",
       "      <td>0</td>\n",
       "      <td>0</td>\n",
       "      <td>0</td>\n",
       "      <td>0</td>\n",
       "      <td>0</td>\n",
       "      <td>0</td>\n",
       "      <td>0</td>\n",
       "      <td>0</td>\n",
       "      <td>0</td>\n",
       "      <td>0</td>\n",
       "      <td>0</td>\n",
       "      <td>0</td>\n",
       "      <td>0</td>\n",
       "      <td>1</td>\n",
       "      <td>1</td>\n",
       "      <td>0</td>\n",
       "      <td>0</td>\n",
       "    </tr>\n",
       "  </tbody>\n",
       "</table>\n",
       "</div>"
      ],
      "text/plain": [
       "Topics  Animals  Architecture  Botanical study  Cityscapes  \\\n",
       "Decade                                                       \n",
       "1920        221           308              269         135   \n",
       "1930         67           156              152          52   \n",
       "1940         46            85               17          29   \n",
       "1950          1             8                0           0   \n",
       "1960          1             1                0           0   \n",
       "1970          0             4                0           2   \n",
       "1980          1             0                0           0   \n",
       "1990          1             2                0           0   \n",
       "2000          0             2                0           0   \n",
       "2010          0             0                0           0   \n",
       "\n",
       "Topics  Clothing and dress  Domestic  Dress accessories  Figure female  \\\n",
       "Decade                                                                   \n",
       "1920                    68        82                 59            100   \n",
       "1930                    33        42                 32             73   \n",
       "1940                    28        42                 14             28   \n",
       "1950                     1         5                  0              0   \n",
       "1960                     1         1                  2              0   \n",
       "1970                     0         0                  1              0   \n",
       "1980                     5         0                  5              0   \n",
       "1990                     0         2                  0              0   \n",
       "2000                     1         0                  1              0   \n",
       "2010                     0         0                  0              0   \n",
       "\n",
       "Topics  Figure group  Figure male  Horses  Landscapes  Men  Mountains  Nudity  \\\n",
       "Decade                                                                          \n",
       "1920             200           68      74         305  157         55      80   \n",
       "1930             108           39      18         200   62         26      43   \n",
       "1940              72           82      13          93   29         13       7   \n",
       "1950               4            1       0           5    2          1       0   \n",
       "1960               4            2       0           3    4          0       0   \n",
       "1970               2            0       0           2    0          0       0   \n",
       "1980               0            1       0           0   20          0       0   \n",
       "1990               0            0       0           1    0          0       0   \n",
       "2000               2            1       0           1    3          1       0   \n",
       "2010               0            0       0           0    0          0       0   \n",
       "\n",
       "Topics  Occupations  Portraits  Religion  Trees  Women  \n",
       "Decade                                                  \n",
       "1920            138        169        76     65     66  \n",
       "1930             69         88        40     34     47  \n",
       "1940             82         23        14      9     16  \n",
       "1950              2          4         3      1      2  \n",
       "1960              2          4         0      0      0  \n",
       "1970              1          1         0      0      2  \n",
       "1980              1         31         0      0     14  \n",
       "1990              1          0         0      0      0  \n",
       "2000              0          3         0      0      0  \n",
       "2010              0          1         1      0      0  "
      ]
     },
     "execution_count": 15,
     "metadata": {},
     "output_type": "execute_result"
    }
   ],
   "source": [
    "# Query topics and production years\n",
    "df = pd.read_sql_query(\n",
    "    \"SELECT ProductionYear, Topics FROM SmithsonianArtworks WHERE ProductionYear BETWEEN 1920 AND 2010 AND Topics != 'None'\",\n",
    "    con=engine\n",
    ")\n",
    "\n",
    "# Split the comma-separated topics into separate rows\n",
    "df['Topics'] = df['Topics'].str.split(', ')  \n",
    "df_topics = df.explode('Topics')  \n",
    "\n",
    "# Now the ProductionYear column is intact along with the exploded Topics column\n",
    "# Add 'Decade' column based on 'ProductionYear'\n",
    "df_topics['Decade'] = df_topics['ProductionYear'] // 10 * 10\n",
    "\n",
    "# Filter to only include the top 20 themes\n",
    "top_20_themes = df_top20['Topic'].tolist()\n",
    "df_topics_filtered = df_topics[df_topics['Topics'].isin(top_20_themes)]\n",
    "\n",
    "# Count occurrences of each theme by decade\n",
    "df_counts_filtered_by_decade = df_topics_filtered.groupby(['Decade', 'Topics']).size().reset_index(name='ThemeCount')\n",
    "\n",
    "# Pivot the table so that decades are rows and the filtered themes are columns\n",
    "df_pivot_filtered = df_counts_filtered_by_decade.pivot_table(index='Decade', columns='Topics', values='ThemeCount', aggfunc='sum', fill_value=0)\n",
    "\n",
    "# Display the resulting table with the count of paintings created in each theme per decade\n",
    "df_pivot_filtered\n"
   ]
  },
  {
   "cell_type": "markdown",
   "metadata": {},
   "source": [
    "This is the table I want, I will add it to csv file in the data/processed folder for future use."
   ]
  },
  {
   "cell_type": "code",
   "execution_count": 16,
   "metadata": {},
   "outputs": [
    {
     "data": {
      "text/plain": [
       "'../../data/processed/top_20_themes_by_decade.csv'"
      ]
     },
     "execution_count": 16,
     "metadata": {},
     "output_type": "execute_result"
    }
   ],
   "source": [
    "output_folder = '../../data/processed'  \n",
    "output_file = 'top_20_themes_by_decade.csv'  \n",
    "\n",
    "output_path = f\"{output_folder}/{output_file}\"\n",
    "\n",
    "df_pivot_filtered.to_csv(output_path)\n",
    "\n",
    "output_path"
   ]
  },
  {
   "cell_type": "markdown",
   "metadata": {},
   "source": [
    "### 1.2 FRED Data"
   ]
  },
  {
   "cell_type": "code",
   "execution_count": 17,
   "metadata": {},
   "outputs": [
    {
     "data": {
      "text/html": [
       "<div>\n",
       "<style scoped>\n",
       "    .dataframe tbody tr th:only-of-type {\n",
       "        vertical-align: middle;\n",
       "    }\n",
       "\n",
       "    .dataframe tbody tr th {\n",
       "        vertical-align: top;\n",
       "    }\n",
       "\n",
       "    .dataframe thead th {\n",
       "        text-align: right;\n",
       "    }\n",
       "</style>\n",
       "<table border=\"1\" class=\"dataframe\">\n",
       "  <thead>\n",
       "    <tr style=\"text-align: right;\">\n",
       "      <th></th>\n",
       "      <th>Date</th>\n",
       "      <th>GDP_Billions</th>\n",
       "    </tr>\n",
       "  </thead>\n",
       "  <tbody>\n",
       "    <tr>\n",
       "      <th>0</th>\n",
       "      <td>2023-01-01</td>\n",
       "      <td>22671.096</td>\n",
       "    </tr>\n",
       "    <tr>\n",
       "      <th>1</th>\n",
       "      <td>2022-01-01</td>\n",
       "      <td>22034.828</td>\n",
       "    </tr>\n",
       "    <tr>\n",
       "      <th>2</th>\n",
       "      <td>2021-01-01</td>\n",
       "      <td>21494.798</td>\n",
       "    </tr>\n",
       "    <tr>\n",
       "      <th>3</th>\n",
       "      <td>2020-01-01</td>\n",
       "      <td>20267.585</td>\n",
       "    </tr>\n",
       "    <tr>\n",
       "      <th>4</th>\n",
       "      <td>2019-01-01</td>\n",
       "      <td>20715.671</td>\n",
       "    </tr>\n",
       "  </tbody>\n",
       "</table>\n",
       "</div>"
      ],
      "text/plain": [
       "         Date  GDP_Billions\n",
       "0  2023-01-01     22671.096\n",
       "1  2022-01-01     22034.828\n",
       "2  2021-01-01     21494.798\n",
       "3  2020-01-01     20267.585\n",
       "4  2019-01-01     20715.671"
      ]
     },
     "execution_count": 17,
     "metadata": {},
     "output_type": "execute_result"
    }
   ],
   "source": [
    "df_gdp = pd.read_sql_query(\n",
    "    \"SELECT Date, GDP_Billions FROM FRED\",\n",
    "    con=engine\n",
    ")\n",
    "\n",
    "# Display the first few rows to check\n",
    "df_gdp.head()\n"
   ]
  },
  {
   "cell_type": "code",
   "execution_count": 18,
   "metadata": {},
   "outputs": [
    {
     "data": {
      "text/plain": [
       "Index(['Date', 'GDP_Billions'], dtype='object')"
      ]
     },
     "execution_count": 18,
     "metadata": {},
     "output_type": "execute_result"
    }
   ],
   "source": [
    "df_gdp.columns"
   ]
  },
  {
   "cell_type": "markdown",
   "metadata": {},
   "source": [
    "Since the art data is based on decades, I'm going to use the average GDP for every decade. Furthermore, the GDP I'm getting is limited to the period between 1920s and 2010s. This is because there is no FRED data available on the real GDP of the US available before the 1920s and there is no art data from Smithsonian available in the 2020s."
   ]
  },
  {
   "cell_type": "code",
   "execution_count": 19,
   "metadata": {},
   "outputs": [
    {
     "data": {
      "text/html": [
       "<div>\n",
       "<style scoped>\n",
       "    .dataframe tbody tr th:only-of-type {\n",
       "        vertical-align: middle;\n",
       "    }\n",
       "\n",
       "    .dataframe tbody tr th {\n",
       "        vertical-align: top;\n",
       "    }\n",
       "\n",
       "    .dataframe thead th {\n",
       "        text-align: right;\n",
       "    }\n",
       "</style>\n",
       "<table border=\"1\" class=\"dataframe\">\n",
       "  <thead>\n",
       "    <tr style=\"text-align: right;\">\n",
       "      <th></th>\n",
       "      <th>Decade</th>\n",
       "      <th>GDP_Billions</th>\n",
       "    </tr>\n",
       "  </thead>\n",
       "  <tbody>\n",
       "    <tr>\n",
       "      <th>0</th>\n",
       "      <td>1920</td>\n",
       "      <td>1191.1240</td>\n",
       "    </tr>\n",
       "    <tr>\n",
       "      <th>1</th>\n",
       "      <td>1930</td>\n",
       "      <td>1088.5694</td>\n",
       "    </tr>\n",
       "    <tr>\n",
       "      <th>2</th>\n",
       "      <td>1940</td>\n",
       "      <td>2140.2316</td>\n",
       "    </tr>\n",
       "    <tr>\n",
       "      <th>3</th>\n",
       "      <td>1950</td>\n",
       "      <td>2970.2267</td>\n",
       "    </tr>\n",
       "    <tr>\n",
       "      <th>4</th>\n",
       "      <td>1960</td>\n",
       "      <td>4369.1739</td>\n",
       "    </tr>\n",
       "    <tr>\n",
       "      <th>5</th>\n",
       "      <td>1970</td>\n",
       "      <td>6222.7444</td>\n",
       "    </tr>\n",
       "    <tr>\n",
       "      <th>6</th>\n",
       "      <td>1980</td>\n",
       "      <td>8373.9466</td>\n",
       "    </tr>\n",
       "    <tr>\n",
       "      <th>7</th>\n",
       "      <td>1990</td>\n",
       "      <td>11439.1799</td>\n",
       "    </tr>\n",
       "    <tr>\n",
       "      <th>8</th>\n",
       "      <td>2000</td>\n",
       "      <td>15544.0685</td>\n",
       "    </tr>\n",
       "    <tr>\n",
       "      <th>9</th>\n",
       "      <td>2010</td>\n",
       "      <td>18582.1763</td>\n",
       "    </tr>\n",
       "  </tbody>\n",
       "</table>\n",
       "</div>"
      ],
      "text/plain": [
       "   Decade  GDP_Billions\n",
       "0    1920     1191.1240\n",
       "1    1930     1088.5694\n",
       "2    1940     2140.2316\n",
       "3    1950     2970.2267\n",
       "4    1960     4369.1739\n",
       "5    1970     6222.7444\n",
       "6    1980     8373.9466\n",
       "7    1990    11439.1799\n",
       "8    2000    15544.0685\n",
       "9    2010    18582.1763"
      ]
     },
     "execution_count": 19,
     "metadata": {},
     "output_type": "execute_result"
    }
   ],
   "source": [
    "# Function to compute mean GDP for each decade\n",
    "def get_mean_gdp_by_decade(df_gdp):\n",
    "    # Convert the 'Date' column to datetime if not already in datetime format\n",
    "    df_gdp['Date'] = pd.to_datetime(df_gdp['Date'])\n",
    "\n",
    "    # Extract the decade by flooring the year to the nearest multiple of 10\n",
    "    df_gdp['Decade'] = (df_gdp['Date'].dt.year // 10) * 10\n",
    "\n",
    "    # Filter to get only data between 1920 and 2010\n",
    "    df_gdp = df_gdp[df_gdp['Decade'].between(1920, 2010)]\n",
    "\n",
    "    # Group by 'Decade' and calculate the mean GDP for each decade\n",
    "    gdp_by_decade = df_gdp.groupby('Decade')['GDP_Billions'].mean().reset_index()\n",
    "\n",
    "    return gdp_by_decade\n",
    "\n",
    "# Call the function\n",
    "df_gdp_decade = get_mean_gdp_by_decade(df_gdp)\n",
    "\n",
    "# Display the result\n",
    "df_gdp_decade\n"
   ]
  },
  {
   "cell_type": "markdown",
   "metadata": {},
   "source": [
    "I'm going to round the average GDP to 0 decimal points in order to keep all the tables and visualisations clear."
   ]
  },
  {
   "cell_type": "code",
   "execution_count": 20,
   "metadata": {},
   "outputs": [
    {
     "data": {
      "text/html": [
       "<div>\n",
       "<style scoped>\n",
       "    .dataframe tbody tr th:only-of-type {\n",
       "        vertical-align: middle;\n",
       "    }\n",
       "\n",
       "    .dataframe tbody tr th {\n",
       "        vertical-align: top;\n",
       "    }\n",
       "\n",
       "    .dataframe thead th {\n",
       "        text-align: right;\n",
       "    }\n",
       "</style>\n",
       "<table border=\"1\" class=\"dataframe\">\n",
       "  <thead>\n",
       "    <tr style=\"text-align: right;\">\n",
       "      <th></th>\n",
       "      <th>Decade</th>\n",
       "      <th>GDP_Billions</th>\n",
       "    </tr>\n",
       "  </thead>\n",
       "  <tbody>\n",
       "    <tr>\n",
       "      <th>0</th>\n",
       "      <td>1920</td>\n",
       "      <td>1191.0</td>\n",
       "    </tr>\n",
       "    <tr>\n",
       "      <th>1</th>\n",
       "      <td>1930</td>\n",
       "      <td>1089.0</td>\n",
       "    </tr>\n",
       "    <tr>\n",
       "      <th>2</th>\n",
       "      <td>1940</td>\n",
       "      <td>2140.0</td>\n",
       "    </tr>\n",
       "    <tr>\n",
       "      <th>3</th>\n",
       "      <td>1950</td>\n",
       "      <td>2970.0</td>\n",
       "    </tr>\n",
       "    <tr>\n",
       "      <th>4</th>\n",
       "      <td>1960</td>\n",
       "      <td>4369.0</td>\n",
       "    </tr>\n",
       "    <tr>\n",
       "      <th>5</th>\n",
       "      <td>1970</td>\n",
       "      <td>6223.0</td>\n",
       "    </tr>\n",
       "    <tr>\n",
       "      <th>6</th>\n",
       "      <td>1980</td>\n",
       "      <td>8374.0</td>\n",
       "    </tr>\n",
       "    <tr>\n",
       "      <th>7</th>\n",
       "      <td>1990</td>\n",
       "      <td>11439.0</td>\n",
       "    </tr>\n",
       "    <tr>\n",
       "      <th>8</th>\n",
       "      <td>2000</td>\n",
       "      <td>15544.0</td>\n",
       "    </tr>\n",
       "    <tr>\n",
       "      <th>9</th>\n",
       "      <td>2010</td>\n",
       "      <td>18582.0</td>\n",
       "    </tr>\n",
       "  </tbody>\n",
       "</table>\n",
       "</div>"
      ],
      "text/plain": [
       "   Decade  GDP_Billions\n",
       "0    1920        1191.0\n",
       "1    1930        1089.0\n",
       "2    1940        2140.0\n",
       "3    1950        2970.0\n",
       "4    1960        4369.0\n",
       "5    1970        6223.0\n",
       "6    1980        8374.0\n",
       "7    1990       11439.0\n",
       "8    2000       15544.0\n",
       "9    2010       18582.0"
      ]
     },
     "execution_count": 20,
     "metadata": {},
     "output_type": "execute_result"
    }
   ],
   "source": [
    "# Round the 'GDP_Billions' column to 0 decimal points\n",
    "df_gdp_decade['GDP_Billions'] = df_gdp_decade['GDP_Billions'].round(0)\n",
    "\n",
    "# Display the result\n",
    "df_gdp_decade"
   ]
  },
  {
   "cell_type": "code",
   "execution_count": 21,
   "metadata": {},
   "outputs": [],
   "source": [
    "output_folder_path = '../../data/processed/'\n",
    "\n",
    "# Save the dataframe to a CSV file in the specified folder\n",
    "df_gdp_decade.to_csv(f'{output_folder_path}gdp_by_decade.csv', index=False)\n"
   ]
  },
  {
   "cell_type": "markdown",
   "metadata": {},
   "source": [
    "# 2. Visualisation: Heatmap"
   ]
  },
  {
   "cell_type": "code",
   "execution_count": 22,
   "metadata": {},
   "outputs": [
    {
     "name": "stdout",
     "output_type": "stream",
     "text": [
      "['$1191 bn in 1920.0', '$1089 bn in 1930.0', '$2140 bn in 1940.0', '$2970 bn in 1950.0', '$4369 bn in 1960.0', '$6223 bn in 1970.0', '$8374 bn in 1980.0', '$11439 bn in 1990.0', '$15544 bn in 2000.0', '$18582 bn in 2010.0']\n",
      "['Animals', 'Architecture', 'Botanical study', 'Cityscapes', 'Clothing and dress', 'Domestic', 'Dress accessories', 'Figure female', 'Figure group', 'Figure male', 'Horses', 'Landscapes', 'Men', 'Mountains', 'Nudity', 'Occupations', 'Portraits', 'Religion', 'Trees', 'Women']\n"
     ]
    }
   ],
   "source": [
    "gdp_data = pd.read_csv('../../data/processed/gdp_by_decade.csv')\n",
    "GDP_by_decade_list = [f\"${row['GDP_Billions']:.0f} bn in {row['Decade']}\" \n",
    "                      for _, row in gdp_data.iterrows()]\n",
    "GDP_by_decade = list(GDP_by_decade_list[:10])\n",
    "\n",
    "print(GDP_by_decade)\n",
    "\n",
    "\n",
    "art_data = pd.read_csv('../../data/processed/top_20_themes_by_decade.csv')\n",
    "art_themes_list = list(art_data.columns[1:])\n",
    "\n",
    "print(art_themes_list)"
   ]
  },
  {
   "cell_type": "code",
   "execution_count": 23,
   "metadata": {},
   "outputs": [
    {
     "name": "stdout",
     "output_type": "stream",
     "text": [
      "Themes: ['Animals', 'Architecture', 'Botanical study', 'Cityscapes', 'Clothing and dress', 'Domestic', 'Dress accessories', 'Figure female', 'Figure group', 'Figure male', 'Horses', 'Landscapes', 'Men', 'Mountains', 'Nudity', 'Occupations', 'Portraits', 'Religion', 'Trees', 'Women']\n",
      "Theme Counts Array:\n",
      "[[221 308 269 135  68  82  59 100 200  68  74 305 157  55  80 138 169  76\n",
      "   65  66]\n",
      " [ 67 156 152  52  33  42  32  73 108  39  18 200  62  26  43  69  88  40\n",
      "   34  47]\n",
      " [ 46  85  17  29  28  42  14  28  72  82  13  93  29  13   7  82  23  14\n",
      "    9  16]\n",
      " [  1   8   0   0   1   5   0   0   4   1   0   5   2   1   0   2   4   3\n",
      "    1   2]\n",
      " [  1   1   0   0   1   1   2   0   4   2   0   3   4   0   0   2   4   0\n",
      "    0   0]\n",
      " [  0   4   0   2   0   0   1   0   2   0   0   2   0   0   0   1   1   0\n",
      "    0   2]\n",
      " [  1   0   0   0   5   0   5   0   0   1   0   0  20   0   0   1  31   0\n",
      "    0  14]\n",
      " [  1   2   0   0   0   2   0   0   0   0   0   1   0   0   0   1   0   0\n",
      "    0   0]\n",
      " [  0   2   0   0   1   0   1   0   2   1   0   1   3   1   0   0   3   0\n",
      "    0   0]\n",
      " [  0   0   0   0   0   0   0   0   0   0   0   0   0   0   0   0   1   1\n",
      "    0   0]]\n"
     ]
    }
   ],
   "source": [
    "def create_theme_array(csv_file):\n",
    "    # Read the CSV file\n",
    "    data = pd.read_csv(csv_file)\n",
    "    \n",
    "    # Extract themes (columns excluding \"Decade\")\n",
    "    themes = list(data.columns[1:])\n",
    "    \n",
    "    # Extract counts as a 2D NumPy array\n",
    "    theme_counts = data.iloc[:, 1:].values  \n",
    "    \n",
    "    return themes, theme_counts\n",
    "\n",
    "# Usage\n",
    "csv_file = \"../../data/processed/top_20_themes_by_decade.csv\"  # Replace with your file path\n",
    "themes, theme_array = create_theme_array(csv_file)\n",
    "\n",
    "# Print the themes list\n",
    "print(\"Themes:\", themes)\n",
    "\n",
    "# Print the NumPy array\n",
    "print(\"Theme Counts Array:\")\n",
    "print(theme_array)"
   ]
  },
  {
   "cell_type": "markdown",
   "metadata": {},
   "source": [
    "The array above is the absolute number of art pieces made in every art theme each decade from 1920s to 2010s. While the array below is the percentage of each art theme made each year out of the total number of the top 20 art themes each year.\n"
   ]
  },
  {
   "cell_type": "code",
   "execution_count": 24,
   "metadata": {},
   "outputs": [
    {
     "name": "stdout",
     "output_type": "stream",
     "text": [
      "[[ 8. 11. 10.  5.  3.  3.  2.  4.  7.  3.  3. 11.  6.  2.  3.  5.  6.  3.\n",
      "   2.  2.]\n",
      " [ 5. 11. 11.  4.  2.  3.  2.  5.  8.  3.  1. 14.  4.  2.  3.  5.  6.  3.\n",
      "   2.  3.]\n",
      " [ 6. 11.  2.  4.  4.  6.  2.  4. 10. 11.  2. 13.  4.  2.  1. 11.  3.  2.\n",
      "   1.  2.]\n",
      " [ 2. 20.  0.  0.  2. 12.  0.  0. 10.  2.  0. 12.  5.  2.  0.  5. 10.  8.\n",
      "   2.  5.]\n",
      " [ 4.  4.  0.  0.  4.  4.  8.  0. 16.  8.  0. 12. 16.  0.  0.  8. 16.  0.\n",
      "   0.  0.]\n",
      " [ 0. 27.  0. 13.  0.  0.  7.  0. 13.  0.  0. 13.  0.  0.  0.  7.  7.  0.\n",
      "   0. 13.]\n",
      " [ 1.  0.  0.  0.  6.  0.  6.  0.  0.  1.  0.  0. 26.  0.  0.  1. 40.  0.\n",
      "   0. 18.]\n",
      " [14. 29.  0.  0.  0. 29.  0.  0.  0.  0.  0. 14.  0.  0.  0. 14.  0.  0.\n",
      "   0.  0.]\n",
      " [ 0. 13.  0.  0.  7.  0.  7.  0. 13.  7.  0.  7. 20.  7.  0.  0. 20.  0.\n",
      "   0.  0.]\n",
      " [ 0.  0.  0.  0.  0.  0.  0.  0.  0.  0.  0.  0.  0.  0.  0.  0. 50. 50.\n",
      "   0.  0.]]\n"
     ]
    }
   ],
   "source": [
    "# Step 1: Calculate the sum of each row (total paintings in each decade)\n",
    "decade_totals = np.sum(theme_array, axis=1)\n",
    "\n",
    "# Step 2: Normalize the array to percentage values\n",
    "percentage_array = (theme_array.T / decade_totals).T * 100  # Transpose to divide by row totals\n",
    "percentage_array_rounded = np.round(percentage_array, 0)\n",
    "\n",
    "# Now, percentage_array contains the percentage of paintings for each theme per decade\n",
    "print(percentage_array_rounded)"
   ]
  },
  {
   "cell_type": "code",
   "execution_count": 25,
   "metadata": {},
   "outputs": [
    {
     "name": "stderr",
     "output_type": "stream",
     "text": [
      "/tmp/ipykernel_9562/4224006543.py:15: MatplotlibDeprecationWarning: The get_cmap function was deprecated in Matplotlib 3.7 and will be removed two minor releases later. Use ``matplotlib.colormaps[name]`` or ``matplotlib.colormaps.get_cmap(obj)`` instead.\n",
      "  colormap = cm.get_cmap(cmap)\n"
     ]
    },
    {
     "data": {
      "image/png": "[encoded data removed]",
      "text/plain": [
       "<Figure size 1200x800 with 2 Axes>"
      ]
     },
     "metadata": {
      "needs_background": "light"
     },
     "output_type": "display_data"
    }
   ],
   "source": [
    "fig, ax = plt.subplots(figsize=(12, 8))\n",
    "cmap = 'magma'  # Colorblind-accessible colormap\n",
    "im = ax.imshow(percentage_array_rounded, cmap=cmap)\n",
    "\n",
    "# Make background transparent\n",
    "fig.patch.set_alpha(0)\n",
    "ax.patch.set_alpha(0) \n",
    "\n",
    "# Show all ticks and label them\n",
    "ax.set_xticks(range(len(art_themes_list)), labels=art_themes_list, rotation=45, ha=\"right\", rotation_mode=\"anchor\")\n",
    "ax.set_yticks(range(len(GDP_by_decade)), labels=GDP_by_decade)\n",
    "\n",
    "# Normalize the data to colormap range\n",
    "norm = mcolors.Normalize(vmin=np.min(percentage_array_rounded), vmax=np.max(percentage_array_rounded))\n",
    "colormap = cm.get_cmap(cmap)\n",
    "\n",
    "# Loop over data dimensions and create text annotations\n",
    "for i in range(len(GDP_by_decade)):\n",
    "    for j in range(len(art_themes_list)):\n",
    "        value = percentage_array_rounded[i, j]\n",
    "        color = colormap(norm(value))  # Get RGBA color from colormap\n",
    "        brightness = (0.299 * color[0] + 0.587 * color[1] + 0.114 * color[2])  # Compute perceived brightness\n",
    "        \n",
    "        text_color = \"black\" if brightness > 0.6 else \"white\"  # Adjust text color for visibility\n",
    "        \n",
    "        ax.text(j, i, value, ha=\"center\", va=\"center\", color=text_color)\n",
    "\n",
    "# Add colorbar (key) with controlled size\n",
    "cbar = fig.colorbar(im, ax=ax, shrink=0.6)  \n",
    "cbar.set_label(\"Ratio of Art Themes (High → Low)\", fontsize=12)\n",
    "cbar.ax.invert_yaxis()  # Ensures dark purple is at the bottom and light colors are at the top\n",
    "\n",
    "\n",
    "ax.set_title(\"Ratio of Art Themes Created Each Decade Becomes Less Consistent As Decades Progress\")\n",
    "fig.tight_layout()\n",
    "plt.show()\n",
    "\n",
    "# Save figure\n",
    "fig.savefig(\"../../website/figures/heatmap.svg\", dpi=300)\n"
   ]
  },
  {
   "cell_type": "markdown",
   "metadata": {},
   "source": [
    "## 3. Visualisation: Interactive Line Graph"
   ]
  },
  {
   "cell_type": "markdown",
   "metadata": {},
   "source": [
    "Below I made a variable that lists GDP in ascending order, so the first value of GDP (the lowest) actually represents 1930s while the second represents 1920s. The rest are also in ascending order of decades, e.g. the third item in the list is 1940s and the fourth is 1950s."
   ]
  },
  {
   "cell_type": "code",
   "execution_count": 26,
   "metadata": {},
   "outputs": [
    {
     "name": "stdout",
     "output_type": "stream",
     "text": [
      "[1089.0, 1191.0, 2140.0, 2970.0, 4369.0, 6223.0, 8374.0, 11439.0, 15544.0, 18582.0]\n"
     ]
    }
   ],
   "source": [
    "file_path = \"../../data/processed/gdp_by_decade.csv\"  # Replace with your file path\n",
    "data = pd.read_csv(file_path)\n",
    "\n",
    "# Extract the GDP values and sort them in ascending order\n",
    "GDP_list = sorted(data['GDP_Billions'].tolist())\n",
    "\n",
    "# Display the result\n",
    "print(GDP_list)"
   ]
  },
  {
   "cell_type": "code",
   "execution_count": 27,
   "metadata": {},
   "outputs": [
    {
     "name": "stdout",
     "output_type": "stream",
     "text": [
      "[[ 67 156 152  52  33  42  32  73 108  39  18 200  62  26  43  69  88  40\n",
      "   34  47]\n",
      " [221 308 269 135  68  82  59 100 200  68  74 305 157  55  80 138 169  76\n",
      "   65  66]\n",
      " [ 46  85  17  29  28  42  14  28  72  82  13  93  29  13   7  82  23  14\n",
      "    9  16]\n",
      " [  1   8   0   0   1   5   0   0   4   1   0   5   2   1   0   2   4   3\n",
      "    1   2]\n",
      " [  1   1   0   0   1   1   2   0   4   2   0   3   4   0   0   2   4   0\n",
      "    0   0]\n",
      " [  0   4   0   2   0   0   1   0   2   0   0   2   0   0   0   1   1   0\n",
      "    0   2]\n",
      " [  1   0   0   0   5   0   5   0   0   1   0   0  20   0   0   1  31   0\n",
      "    0  14]\n",
      " [  1   2   0   0   0   2   0   0   0   0   0   1   0   0   0   1   0   0\n",
      "    0   0]\n",
      " [  0   2   0   0   1   0   1   0   2   1   0   1   3   1   0   0   3   0\n",
      "    0   0]\n",
      " [  0   0   0   0   0   0   0   0   0   0   0   0   0   0   0   0   1   1\n",
      "    0   0]]\n"
     ]
    }
   ],
   "source": [
    "# Assuming theme_array is already defined\n",
    "array_ordered = theme_array.copy()  # Create a copy to avoid modifying the original\n",
    "array_ordered[[0, 1]] = array_ordered[[1, 0]]  # Swap the first two rows so that the rows are in increasing GDP order\n",
    "\n",
    "print(array_ordered)\n"
   ]
  },
  {
   "cell_type": "markdown",
   "metadata": {},
   "source": [
    "The interactive graph is shown below"
   ]
  },
  {
   "cell_type": "code",
   "execution_count": 28,
   "metadata": {},
   "outputs": [],
   "source": [
    "GDP_decade = GDP_list\n",
    "paintings_data = array_ordered\n",
    "art_themes = art_themes_list"
   ]
  },
  {
   "cell_type": "markdown",
   "metadata": {},
   "source": [
    "This interactive graph below shows just the average effect of the GDP on the number of paintings"
   ]
  },
  {
   "cell_type": "code",
   "execution_count": 35,
   "metadata": {},
   "outputs": [
    {
     "data": {
      "application/vnd.plotly.v1+json": {
       "config": {
        "plotlyServerURL": "https://plot.ly"
       },
       "data": [
        {
         "line": {
          "color": "black",
          "dash": "dashdot",
          "width": 3
         },
         "name": "Average Effect",
         "type": "scatter",
         "x": [
          1089,
          1191,
          2140,
          2970,
          4369,
          6223,
          8374,
          11439,
          15544,
          18582
         ],
         "y": [
          69.05,
          134.75,
          37.1,
          2,
          1.25,
          0.75,
          3.9,
          0.35,
          0.75,
          0.1
         ]
        }
       ],
       "layout": {
        "annotations": [
         {
          "align": "center",
          "font": {
           "color": "gray",
           "size": 14
          },
          "showarrow": false,
          "text": "The Number Of Paintings Consistently Remains Low After The Initial Fall",
          "x": 0,
          "xref": "paper",
          "y": 1.1,
          "yref": "paper"
         }
        ],
        "height": 600,
        "paper_bgcolor": "rgba(0,0,0,0)",
        "plot_bgcolor": "rgba(0,0,0,0)",
        "template": {
         "data": {
          "bar": [
           {
            "error_x": {
             "color": "#2a3f5f"
            },
            "error_y": {
             "color": "#2a3f5f"
            },
            "marker": {
             "line": {
              "color": "#E5ECF6",
              "width": 0.5
             },
             "pattern": {
              "fillmode": "overlay",
              "size": 10,
              "solidity": 0.2
             }
            },
            "type": "bar"
           }
          ],
          "barpolar": [
           {
            "marker": {
             "line": {
              "color": "#E5ECF6",
              "width": 0.5
             },
             "pattern": {
              "fillmode": "overlay",
              "size": 10,
              "solidity": 0.2
             }
            },
            "type": "barpolar"
           }
          ],
          "carpet": [
           {
            "aaxis": {
             "endlinecolor": "#2a3f5f",
             "gridcolor": "white",
             "linecolor": "white",
             "minorgridcolor": "white",
             "startlinecolor": "#2a3f5f"
            },
            "baxis": {
             "endlinecolor": "#2a3f5f",
             "gridcolor": "white",
             "linecolor": "white",
             "minorgridcolor": "white",
             "startlinecolor": "#2a3f5f"
            },
            "type": "carpet"
           }
          ],
          "choropleth": [
           {
            "colorbar": {
             "outlinewidth": 0,
             "ticks": ""
            },
            "type": "choropleth"
           }
          ],
          "contour": [
           {
            "colorbar": {
             "outlinewidth": 0,
             "ticks": ""
            },
            "colorscale": [
             [
              0,
              "#0d0887"
             ],
             [
              0.1111111111111111,
              "#46039f"
             ],
             [
              0.2222222222222222,
              "#7201a8"
             ],
             [
              0.3333333333333333,
              "#9c179e"
             ],
             [
              0.4444444444444444,
              "#bd3786"
             ],
             [
              0.5555555555555556,
              "#d8576b"
             ],
             [
              0.6666666666666666,
              "#ed7953"
             ],
             [
              0.7777777777777778,
              "#fb9f3a"
             ],
             [
              0.8888888888888888,
              "#fdca26"
             ],
             [
              1,
              "#f0f921"
             ]
            ],
            "type": "contour"
           }
          ],
          "contourcarpet": [
           {
            "colorbar": {
             "outlinewidth": 0,
             "ticks": ""
            },
            "type": "contourcarpet"
           }
          ],
          "heatmap": [
           {
            "colorbar": {
             "outlinewidth": 0,
             "ticks": ""
            },
            "colorscale": [
             [
              0,
              "#0d0887"
             ],
             [
              0.1111111111111111,
              "#46039f"
             ],
             [
              0.2222222222222222,
              "#7201a8"
             ],
             [
              0.3333333333333333,
              "#9c179e"
             ],
             [
              0.4444444444444444,
              "#bd3786"
             ],
             [
              0.5555555555555556,
              "#d8576b"
             ],
             [
              0.6666666666666666,
              "#ed7953"
             ],
             [
              0.7777777777777778,
              "#fb9f3a"
             ],
             [
              0.8888888888888888,
              "#fdca26"
             ],
             [
              1,
              "#f0f921"
             ]
            ],
            "type": "heatmap"
           }
          ],
          "heatmapgl": [
           {
            "colorbar": {
             "outlinewidth": 0,
             "ticks": ""
            },
            "colorscale": [
             [
              0,
              "#0d0887"
             ],
             [
              0.1111111111111111,
              "#46039f"
             ],
             [
              0.2222222222222222,
              "#7201a8"
             ],
             [
              0.3333333333333333,
              "#9c179e"
             ],
             [
              0.4444444444444444,
              "#bd3786"
             ],
             [
              0.5555555555555556,
              "#d8576b"
             ],
             [
              0.6666666666666666,
              "#ed7953"
             ],
             [
              0.7777777777777778,
              "#fb9f3a"
             ],
             [
              0.8888888888888888,
              "#fdca26"
             ],
             [
              1,
              "#f0f921"
             ]
            ],
            "type": "heatmapgl"
           }
          ],
          "histogram": [
           {
            "marker": {
             "pattern": {
              "fillmode": "overlay",
              "size": 10,
              "solidity": 0.2
             }
            },
            "type": "histogram"
           }
          ],
          "histogram2d": [
           {
            "colorbar": {
             "outlinewidth": 0,
             "ticks": ""
            },
            "colorscale": [
             [
              0,
              "#0d0887"
             ],
             [
              0.1111111111111111,
              "#46039f"
             ],
             [
              0.2222222222222222,
              "#7201a8"
             ],
             [
              0.3333333333333333,
              "#9c179e"
             ],
             [
              0.4444444444444444,
              "#bd3786"
             ],
             [
              0.5555555555555556,
              "#d8576b"
             ],
             [
              0.6666666666666666,
              "#ed7953"
             ],
             [
              0.7777777777777778,
              "#fb9f3a"
             ],
             [
              0.8888888888888888,
              "#fdca26"
             ],
             [
              1,
              "#f0f921"
             ]
            ],
            "type": "histogram2d"
           }
          ],
          "histogram2dcontour": [
           {
            "colorbar": {
             "outlinewidth": 0,
             "ticks": ""
            },
            "colorscale": [
             [
              0,
              "#0d0887"
             ],
             [
              0.1111111111111111,
              "#46039f"
             ],
             [
              0.2222222222222222,
              "#7201a8"
             ],
             [
              0.3333333333333333,
              "#9c179e"
             ],
             [
              0.4444444444444444,
              "#bd3786"
             ],
             [
              0.5555555555555556,
              "#d8576b"
             ],
             [
              0.6666666666666666,
              "#ed7953"
             ],
             [
              0.7777777777777778,
              "#fb9f3a"
             ],
             [
              0.8888888888888888,
              "#fdca26"
             ],
             [
              1,
              "#f0f921"
             ]
            ],
            "type": "histogram2dcontour"
           }
          ],
          "mesh3d": [
           {
            "colorbar": {
             "outlinewidth": 0,
             "ticks": ""
            },
            "type": "mesh3d"
           }
          ],
          "parcoords": [
           {
            "line": {
             "colorbar": {
              "outlinewidth": 0,
              "ticks": ""
             }
            },
            "type": "parcoords"
           }
          ],
          "pie": [
           {
            "automargin": true,
            "type": "pie"
           }
          ],
          "scatter": [
           {
            "fillpattern": {
             "fillmode": "overlay",
             "size": 10,
             "solidity": 0.2
            },
            "type": "scatter"
           }
          ],
          "scatter3d": [
           {
            "line": {
             "colorbar": {
              "outlinewidth": 0,
              "ticks": ""
             }
            },
            "marker": {
             "colorbar": {
              "outlinewidth": 0,
              "ticks": ""
             }
            },
            "type": "scatter3d"
           }
          ],
          "scattercarpet": [
           {
            "marker": {
             "colorbar": {
              "outlinewidth": 0,
              "ticks": ""
             }
            },
            "type": "scattercarpet"
           }
          ],
          "scattergeo": [
           {
            "marker": {
             "colorbar": {
              "outlinewidth": 0,
              "ticks": ""
             }
            },
            "type": "scattergeo"
           }
          ],
          "scattergl": [
           {
            "marker": {
             "colorbar": {
              "outlinewidth": 0,
              "ticks": ""
             }
            },
            "type": "scattergl"
           }
          ],
          "scattermapbox": [
           {
            "marker": {
             "colorbar": {
              "outlinewidth": 0,
              "ticks": ""
             }
            },
            "type": "scattermapbox"
           }
          ],
          "scatterpolar": [
           {
            "marker": {
             "colorbar": {
              "outlinewidth": 0,
              "ticks": ""
             }
            },
            "type": "scatterpolar"
           }
          ],
          "scatterpolargl": [
           {
            "marker": {
             "colorbar": {
              "outlinewidth": 0,
              "ticks": ""
             }
            },
            "type": "scatterpolargl"
           }
          ],
          "scatterternary": [
           {
            "marker": {
             "colorbar": {
              "outlinewidth": 0,
              "ticks": ""
             }
            },
            "type": "scatterternary"
           }
          ],
          "surface": [
           {
            "colorbar": {
             "outlinewidth": 0,
             "ticks": ""
            },
            "colorscale": [
             [
              0,
              "#0d0887"
             ],
             [
              0.1111111111111111,
              "#46039f"
             ],
             [
              0.2222222222222222,
              "#7201a8"
             ],
             [
              0.3333333333333333,
              "#9c179e"
             ],
             [
              0.4444444444444444,
              "#bd3786"
             ],
             [
              0.5555555555555556,
              "#d8576b"
             ],
             [
              0.6666666666666666,
              "#ed7953"
             ],
             [
              0.7777777777777778,
              "#fb9f3a"
             ],
             [
              0.8888888888888888,
              "#fdca26"
             ],
             [
              1,
              "#f0f921"
             ]
            ],
            "type": "surface"
           }
          ],
          "table": [
           {
            "cells": {
             "fill": {
              "color": "#EBF0F8"
             },
             "line": {
              "color": "white"
             }
            },
            "header": {
             "fill": {
              "color": "#C8D4E3"
             },
             "line": {
              "color": "white"
             }
            },
            "type": "table"
           }
          ]
         },
         "layout": {
          "annotationdefaults": {
           "arrowcolor": "#2a3f5f",
           "arrowhead": 0,
           "arrowwidth": 1
          },
          "autotypenumbers": "strict",
          "coloraxis": {
           "colorbar": {
            "outlinewidth": 0,
            "ticks": ""
           }
          },
          "colorscale": {
           "diverging": [
            [
             0,
             "#8e0152"
            ],
            [
             0.1,
             "#c51b7d"
            ],
            [
             0.2,
             "#de77ae"
            ],
            [
             0.3,
             "#f1b6da"
            ],
            [
             0.4,
             "#fde0ef"
            ],
            [
             0.5,
             "#f7f7f7"
            ],
            [
             0.6,
             "#e6f5d0"
            ],
            [
             0.7,
             "#b8e186"
            ],
            [
             0.8,
             "#7fbc41"
            ],
            [
             0.9,
             "#4d9221"
            ],
            [
             1,
             "#276419"
            ]
           ],
           "sequential": [
            [
             0,
             "#0d0887"
            ],
            [
             0.1111111111111111,
             "#46039f"
            ],
            [
             0.2222222222222222,
             "#7201a8"
            ],
            [
             0.3333333333333333,
             "#9c179e"
            ],
            [
             0.4444444444444444,
             "#bd3786"
            ],
            [
             0.5555555555555556,
             "#d8576b"
            ],
            [
             0.6666666666666666,
             "#ed7953"
            ],
            [
             0.7777777777777778,
             "#fb9f3a"
            ],
            [
             0.8888888888888888,
             "#fdca26"
            ],
            [
             1,
             "#f0f921"
            ]
           ],
           "sequentialminus": [
            [
             0,
             "#0d0887"
            ],
            [
             0.1111111111111111,
             "#46039f"
            ],
            [
             0.2222222222222222,
             "#7201a8"
            ],
            [
             0.3333333333333333,
             "#9c179e"
            ],
            [
             0.4444444444444444,
             "#bd3786"
            ],
            [
             0.5555555555555556,
             "#d8576b"
            ],
            [
             0.6666666666666666,
             "#ed7953"
            ],
            [
             0.7777777777777778,
             "#fb9f3a"
            ],
            [
             0.8888888888888888,
             "#fdca26"
            ],
            [
             1,
             "#f0f921"
            ]
           ]
          },
          "colorway": [
           "#636efa",
           "#EF553B",
           "#00cc96",
           "#ab63fa",
           "#FFA15A",
           "#19d3f3",
           "#FF6692",
           "#B6E880",
           "#FF97FF",
           "#FECB52"
          ],
          "font": {
           "color": "#2a3f5f"
          },
          "geo": {
           "bgcolor": "white",
           "lakecolor": "white",
           "landcolor": "#E5ECF6",
           "showlakes": true,
           "showland": true,
           "subunitcolor": "white"
          },
          "hoverlabel": {
           "align": "left"
          },
          "hovermode": "closest",
          "mapbox": {
           "style": "light"
          },
          "paper_bgcolor": "white",
          "plot_bgcolor": "#E5ECF6",
          "polar": {
           "angularaxis": {
            "gridcolor": "white",
            "linecolor": "white",
            "ticks": ""
           },
           "bgcolor": "#E5ECF6",
           "radialaxis": {
            "gridcolor": "white",
            "linecolor": "white",
            "ticks": ""
           }
          },
          "scene": {
           "xaxis": {
            "backgroundcolor": "#E5ECF6",
            "gridcolor": "white",
            "gridwidth": 2,
            "linecolor": "white",
            "showbackground": true,
            "ticks": "",
            "zerolinecolor": "white"
           },
           "yaxis": {
            "backgroundcolor": "#E5ECF6",
            "gridcolor": "white",
            "gridwidth": 2,
            "linecolor": "white",
            "showbackground": true,
            "ticks": "",
            "zerolinecolor": "white"
           },
           "zaxis": {
            "backgroundcolor": "#E5ECF6",
            "gridcolor": "white",
            "gridwidth": 2,
            "linecolor": "white",
            "showbackground": true,
            "ticks": "",
            "zerolinecolor": "white"
           }
          },
          "shapedefaults": {
           "line": {
            "color": "#2a3f5f"
           }
          },
          "ternary": {
           "aaxis": {
            "gridcolor": "white",
            "linecolor": "white",
            "ticks": ""
           },
           "baxis": {
            "gridcolor": "white",
            "linecolor": "white",
            "ticks": ""
           },
           "bgcolor": "#E5ECF6",
           "caxis": {
            "gridcolor": "white",
            "linecolor": "white",
            "ticks": ""
           }
          },
          "title": {
           "x": 0.05
          },
          "xaxis": {
           "automargin": true,
           "gridcolor": "white",
           "linecolor": "white",
           "ticks": "",
           "title": {
            "standoff": 15
           },
           "zerolinecolor": "white",
           "zerolinewidth": 2
          },
          "yaxis": {
           "automargin": true,
           "gridcolor": "white",
           "linecolor": "white",
           "ticks": "",
           "title": {
            "standoff": 15
           },
           "zerolinecolor": "white",
           "zerolinewidth": 2
          }
         }
        },
        "title": {
         "text": "The Number Of Paintings Sharply Decreased After Reaching A GDP Of $1191 Billion"
        },
        "width": 900,
        "xaxis": {
         "gridcolor": "lightgray",
         "linecolor": "black",
         "linewidth": 2,
         "showgrid": true,
         "showline": true,
         "title": {
          "text": "GDP in billions of US$"
         }
        },
        "yaxis": {
         "gridcolor": "lightgray",
         "linecolor": "black",
         "linewidth": 2,
         "range": [
          0,
          200
         ],
         "showgrid": true,
         "showline": true,
         "title": {
          "text": "Number of Paintings"
         }
        }
       }
      },
      "text/html": [
       "<div>                            <div id=\"3be4d803-d8b0-4bd6-9ced-803196553d8f\" class=\"plotly-graph-div\" style=\"height:600px; width:900px;\"></div>            <script type=\"text/javascript\">                require([\"plotly\"], function(Plotly) {                    window.PLOTLYENV=window.PLOTLYENV || {};                                    if (document.getElementById(\"3be4d803-d8b0-4bd6-9ced-803196553d8f\")) {                    Plotly.newPlot(                        \"3be4d803-d8b0-4bd6-9ced-803196553d8f\",                        [{\"line\":{\"color\":\"black\",\"dash\":\"dashdot\",\"width\":3},\"name\":\"Average Effect\",\"x\":[1089.0,1191.0,2140.0,2970.0,4369.0,6223.0,8374.0,11439.0,15544.0,18582.0],\"y\":[69.05,134.75,37.1,2.0,1.25,0.75,3.9,0.35,0.75,0.1],\"type\":\"scatter\"}],                        {\"template\":{\"data\":{\"histogram2dcontour\":[{\"type\":\"histogram2dcontour\",\"colorbar\":{\"outlinewidth\":0,\"ticks\":\"\"},\"colorscale\":[[0.0,\"#0d0887\"],[0.1111111111111111,\"#46039f\"],[0.2222222222222222,\"#7201a8\"],[0.3333333333333333,\"#9c179e\"],[0.4444444444444444,\"#bd3786\"],[0.5555555555555556,\"#d8576b\"],[0.6666666666666666,\"#ed7953\"],[0.7777777777777778,\"#fb9f3a\"],[0.8888888888888888,\"#fdca26\"],[1.0,\"#f0f921\"]]}],\"choropleth\":[{\"type\":\"choropleth\",\"colorbar\":{\"outlinewidth\":0,\"ticks\":\"\"}}],\"histogram2d\":[{\"type\":\"histogram2d\",\"colorbar\":{\"outlinewidth\":0,\"ticks\":\"\"},\"colorscale\":[[0.0,\"#0d0887\"],[0.1111111111111111,\"#46039f\"],[0.2222222222222222,\"#7201a8\"],[0.3333333333333333,\"#9c179e\"],[0.4444444444444444,\"#bd3786\"],[0.5555555555555556,\"#d8576b\"],[0.6666666666666666,\"#ed7953\"],[0.7777777777777778,\"#fb9f3a\"],[0.8888888888888888,\"#fdca26\"],[1.0,\"#f0f921\"]]}],\"heatmap\":[{\"type\":\"heatmap\",\"colorbar\":{\"outlinewidth\":0,\"ticks\":\"\"},\"colorscale\":[[0.0,\"#0d0887\"],[0.1111111111111111,\"#46039f\"],[0.2222222222222222,\"#7201a8\"],[0.3333333333333333,\"#9c179e\"],[0.4444444444444444,\"#bd3786\"],[0.5555555555555556,\"#d8576b\"],[0.6666666666666666,\"#ed7953\"],[0.7777777777777778,\"#fb9f3a\"],[0.8888888888888888,\"#fdca26\"],[1.0,\"#f0f921\"]]}],\"heatmapgl\":[{\"type\":\"heatmapgl\",\"colorbar\":{\"outlinewidth\":0,\"ticks\":\"\"},\"colorscale\":[[0.0,\"#0d0887\"],[0.1111111111111111,\"#46039f\"],[0.2222222222222222,\"#7201a8\"],[0.3333333333333333,\"#9c179e\"],[0.4444444444444444,\"#bd3786\"],[0.5555555555555556,\"#d8576b\"],[0.6666666666666666,\"#ed7953\"],[0.7777777777777778,\"#fb9f3a\"],[0.8888888888888888,\"#fdca26\"],[1.0,\"#f0f921\"]]}],\"contourcarpet\":[{\"type\":\"contourcarpet\",\"colorbar\":{\"outlinewidth\":0,\"ticks\":\"\"}}],\"contour\":[{\"type\":\"contour\",\"colorbar\":{\"outlinewidth\":0,\"ticks\":\"\"},\"colorscale\":[[0.0,\"#0d0887\"],[0.1111111111111111,\"#46039f\"],[0.2222222222222222,\"#7201a8\"],[0.3333333333333333,\"#9c179e\"],[0.4444444444444444,\"#bd3786\"],[0.5555555555555556,\"#d8576b\"],[0.6666666666666666,\"#ed7953\"],[0.7777777777777778,\"#fb9f3a\"],[0.8888888888888888,\"#fdca26\"],[1.0,\"#f0f921\"]]}],\"surface\":[{\"type\":\"surface\",\"colorbar\":{\"outlinewidth\":0,\"ticks\":\"\"},\"colorscale\":[[0.0,\"#0d0887\"],[0.1111111111111111,\"#46039f\"],[0.2222222222222222,\"#7201a8\"],[0.3333333333333333,\"#9c179e\"],[0.4444444444444444,\"#bd3786\"],[0.5555555555555556,\"#d8576b\"],[0.6666666666666666,\"#ed7953\"],[0.7777777777777778,\"#fb9f3a\"],[0.8888888888888888,\"#fdca26\"],[1.0,\"#f0f921\"]]}],\"mesh3d\":[{\"type\":\"mesh3d\",\"colorbar\":{\"outlinewidth\":0,\"ticks\":\"\"}}],\"scatter\":[{\"fillpattern\":{\"fillmode\":\"overlay\",\"size\":10,\"solidity\":0.2},\"type\":\"scatter\"}],\"parcoords\":[{\"type\":\"parcoords\",\"line\":{\"colorbar\":{\"outlinewidth\":0,\"ticks\":\"\"}}}],\"scatterpolargl\":[{\"type\":\"scatterpolargl\",\"marker\":{\"colorbar\":{\"outlinewidth\":0,\"ticks\":\"\"}}}],\"bar\":[{\"error_x\":{\"color\":\"#2a3f5f\"},\"error_y\":{\"color\":\"#2a3f5f\"},\"marker\":{\"line\":{\"color\":\"#E5ECF6\",\"width\":0.5},\"pattern\":{\"fillmode\":\"overlay\",\"size\":10,\"solidity\":0.2}},\"type\":\"bar\"}],\"scattergeo\":[{\"type\":\"scattergeo\",\"marker\":{\"colorbar\":{\"outlinewidth\":0,\"ticks\":\"\"}}}],\"scatterpolar\":[{\"type\":\"scatterpolar\",\"marker\":{\"colorbar\":{\"outlinewidth\":0,\"ticks\":\"\"}}}],\"histogram\":[{\"marker\":{\"pattern\":{\"fillmode\":\"overlay\",\"size\":10,\"solidity\":0.2}},\"type\":\"histogram\"}],\"scattergl\":[{\"type\":\"scattergl\",\"marker\":{\"colorbar\":{\"outlinewidth\":0,\"ticks\":\"\"}}}],\"scatter3d\":[{\"type\":\"scatter3d\",\"line\":{\"colorbar\":{\"outlinewidth\":0,\"ticks\":\"\"}},\"marker\":{\"colorbar\":{\"outlinewidth\":0,\"ticks\":\"\"}}}],\"scattermapbox\":[{\"type\":\"scattermapbox\",\"marker\":{\"colorbar\":{\"outlinewidth\":0,\"ticks\":\"\"}}}],\"scatterternary\":[{\"type\":\"scatterternary\",\"marker\":{\"colorbar\":{\"outlinewidth\":0,\"ticks\":\"\"}}}],\"scattercarpet\":[{\"type\":\"scattercarpet\",\"marker\":{\"colorbar\":{\"outlinewidth\":0,\"ticks\":\"\"}}}],\"carpet\":[{\"aaxis\":{\"endlinecolor\":\"#2a3f5f\",\"gridcolor\":\"white\",\"linecolor\":\"white\",\"minorgridcolor\":\"white\",\"startlinecolor\":\"#2a3f5f\"},\"baxis\":{\"endlinecolor\":\"#2a3f5f\",\"gridcolor\":\"white\",\"linecolor\":\"white\",\"minorgridcolor\":\"white\",\"startlinecolor\":\"#2a3f5f\"},\"type\":\"carpet\"}],\"table\":[{\"cells\":{\"fill\":{\"color\":\"#EBF0F8\"},\"line\":{\"color\":\"white\"}},\"header\":{\"fill\":{\"color\":\"#C8D4E3\"},\"line\":{\"color\":\"white\"}},\"type\":\"table\"}],\"barpolar\":[{\"marker\":{\"line\":{\"color\":\"#E5ECF6\",\"width\":0.5},\"pattern\":{\"fillmode\":\"overlay\",\"size\":10,\"solidity\":0.2}},\"type\":\"barpolar\"}],\"pie\":[{\"automargin\":true,\"type\":\"pie\"}]},\"layout\":{\"autotypenumbers\":\"strict\",\"colorway\":[\"#636efa\",\"#EF553B\",\"#00cc96\",\"#ab63fa\",\"#FFA15A\",\"#19d3f3\",\"#FF6692\",\"#B6E880\",\"#FF97FF\",\"#FECB52\"],\"font\":{\"color\":\"#2a3f5f\"},\"hovermode\":\"closest\",\"hoverlabel\":{\"align\":\"left\"},\"paper_bgcolor\":\"white\",\"plot_bgcolor\":\"#E5ECF6\",\"polar\":{\"bgcolor\":\"#E5ECF6\",\"angularaxis\":{\"gridcolor\":\"white\",\"linecolor\":\"white\",\"ticks\":\"\"},\"radialaxis\":{\"gridcolor\":\"white\",\"linecolor\":\"white\",\"ticks\":\"\"}},\"ternary\":{\"bgcolor\":\"#E5ECF6\",\"aaxis\":{\"gridcolor\":\"white\",\"linecolor\":\"white\",\"ticks\":\"\"},\"baxis\":{\"gridcolor\":\"white\",\"linecolor\":\"white\",\"ticks\":\"\"},\"caxis\":{\"gridcolor\":\"white\",\"linecolor\":\"white\",\"ticks\":\"\"}},\"coloraxis\":{\"colorbar\":{\"outlinewidth\":0,\"ticks\":\"\"}},\"colorscale\":{\"sequential\":[[0.0,\"#0d0887\"],[0.1111111111111111,\"#46039f\"],[0.2222222222222222,\"#7201a8\"],[0.3333333333333333,\"#9c179e\"],[0.4444444444444444,\"#bd3786\"],[0.5555555555555556,\"#d8576b\"],[0.6666666666666666,\"#ed7953\"],[0.7777777777777778,\"#fb9f3a\"],[0.8888888888888888,\"#fdca26\"],[1.0,\"#f0f921\"]],\"sequentialminus\":[[0.0,\"#0d0887\"],[0.1111111111111111,\"#46039f\"],[0.2222222222222222,\"#7201a8\"],[0.3333333333333333,\"#9c179e\"],[0.4444444444444444,\"#bd3786\"],[0.5555555555555556,\"#d8576b\"],[0.6666666666666666,\"#ed7953\"],[0.7777777777777778,\"#fb9f3a\"],[0.8888888888888888,\"#fdca26\"],[1.0,\"#f0f921\"]],\"diverging\":[[0,\"#8e0152\"],[0.1,\"#c51b7d\"],[0.2,\"#de77ae\"],[0.3,\"#f1b6da\"],[0.4,\"#fde0ef\"],[0.5,\"#f7f7f7\"],[0.6,\"#e6f5d0\"],[0.7,\"#b8e186\"],[0.8,\"#7fbc41\"],[0.9,\"#4d9221\"],[1,\"#276419\"]]},\"xaxis\":{\"gridcolor\":\"white\",\"linecolor\":\"white\",\"ticks\":\"\",\"title\":{\"standoff\":15},\"zerolinecolor\":\"white\",\"automargin\":true,\"zerolinewidth\":2},\"yaxis\":{\"gridcolor\":\"white\",\"linecolor\":\"white\",\"ticks\":\"\",\"title\":{\"standoff\":15},\"zerolinecolor\":\"white\",\"automargin\":true,\"zerolinewidth\":2},\"scene\":{\"xaxis\":{\"backgroundcolor\":\"#E5ECF6\",\"gridcolor\":\"white\",\"linecolor\":\"white\",\"showbackground\":true,\"ticks\":\"\",\"zerolinecolor\":\"white\",\"gridwidth\":2},\"yaxis\":{\"backgroundcolor\":\"#E5ECF6\",\"gridcolor\":\"white\",\"linecolor\":\"white\",\"showbackground\":true,\"ticks\":\"\",\"zerolinecolor\":\"white\",\"gridwidth\":2},\"zaxis\":{\"backgroundcolor\":\"#E5ECF6\",\"gridcolor\":\"white\",\"linecolor\":\"white\",\"showbackground\":true,\"ticks\":\"\",\"zerolinecolor\":\"white\",\"gridwidth\":2}},\"shapedefaults\":{\"line\":{\"color\":\"#2a3f5f\"}},\"annotationdefaults\":{\"arrowcolor\":\"#2a3f5f\",\"arrowhead\":0,\"arrowwidth\":1},\"geo\":{\"bgcolor\":\"white\",\"landcolor\":\"#E5ECF6\",\"subunitcolor\":\"white\",\"showland\":true,\"showlakes\":true,\"lakecolor\":\"white\"},\"title\":{\"x\":0.05},\"mapbox\":{\"style\":\"light\"}}},\"xaxis\":{\"showgrid\":true,\"gridcolor\":\"lightgray\",\"showline\":true,\"linecolor\":\"black\",\"linewidth\":2,\"title\":{\"text\":\"GDP in billions of US$\"}},\"yaxis\":{\"showgrid\":true,\"gridcolor\":\"lightgray\",\"showline\":true,\"linecolor\":\"black\",\"linewidth\":2,\"range\":[0,200],\"title\":{\"text\":\"Number of Paintings\"}},\"width\":900,\"height\":600,\"paper_bgcolor\":\"rgba(0,0,0,0)\",\"plot_bgcolor\":\"rgba(0,0,0,0)\",\"title\":{\"text\":\"The Number Of Paintings Sharply Decreased After Reaching A GDP Of $1191 Billion\"},\"annotations\":[{\"align\":\"center\",\"font\":{\"color\":\"gray\",\"size\":14},\"showarrow\":false,\"text\":\"The Number Of Paintings Consistently Remains Low After The Initial Fall\",\"x\":0,\"xref\":\"paper\",\"y\":1.1,\"yref\":\"paper\"}]},                        {\"responsive\": true}                    ).then(function(){\n",
       "                            \n",
       "var gd = document.getElementById('3be4d803-d8b0-4bd6-9ced-803196553d8f');\n",
       "var x = new MutationObserver(function (mutations, observer) {{\n",
       "        var display = window.getComputedStyle(gd).display;\n",
       "        if (!display || display === 'none') {{\n",
       "            console.log([gd, 'removed!']);\n",
       "            Plotly.purge(gd);\n",
       "            observer.disconnect();\n",
       "        }}\n",
       "}});\n",
       "\n",
       "// Listen for the removal of the full notebook cells\n",
       "var notebookContainer = gd.closest('#notebook-container');\n",
       "if (notebookContainer) {{\n",
       "    x.observe(notebookContainer, {childList: true});\n",
       "}}\n",
       "\n",
       "// Listen for the clearing of the current output cell\n",
       "var outputEl = gd.closest('.output');\n",
       "if (outputEl) {{\n",
       "    x.observe(outputEl, {childList: true});\n",
       "}}\n",
       "\n",
       "                        })                };                });            </script>        </div>"
      ]
     },
     "metadata": {},
     "output_type": "display_data"
    }
   ],
   "source": [
    "# Calculate the average effect of GDP on paintings\n",
    "average_paintings = np.mean(paintings_data, axis=1)\n",
    "\n",
    "# Initialize figure\n",
    "fig = go.Figure()\n",
    "\n",
    "# Add only the \"Average Effect\" trace\n",
    "fig.add_trace(\n",
    "    go.Scatter(\n",
    "        x=GDP_decade,\n",
    "        y=average_paintings,\n",
    "        name=\"Average Effect\",\n",
    "        line=dict(color=\"black\", width=3, dash=\"dashdot\")  # Black dashed line\n",
    "    )\n",
    ")\n",
    "\n",
    "# Apply layout fixes (White background, black y-axis, dark gray x-axis)\n",
    "fig.update_layout(\n",
    "    width=900, \n",
    "    height=600, \n",
    "    paper_bgcolor=\"rgba(0,0,0,0)\",  \n",
    "    plot_bgcolor=\"rgba(0,0,0,0)\",\n",
    "    xaxis=dict(\n",
    "        showgrid=True,\n",
    "        gridcolor=\"lightgray\",\n",
    "        showline=True,\n",
    "        linecolor=\"black\",\n",
    "        linewidth=2,\n",
    "    ),\n",
    "    yaxis=dict(\n",
    "        showgrid=True,\n",
    "        gridcolor=\"lightgray\",\n",
    "        showline=True, \n",
    "        linecolor=\"black\",  \n",
    "        linewidth=2, \n",
    "        range=[0, 200],  # <== Y-axis now capped at 200\n",
    "    ),\n",
    "    title=\"The Number Of Paintings Sharply Decreased After Reaching A GDP Of $1191 Billion\",\n",
    "    xaxis_title=\"GDP in billions of US$\",\n",
    "    yaxis_title=\"Number of Paintings\",\n",
    "    annotations=[  # Add subtitle annotation\n",
    "        dict(\n",
    "            x=0, \n",
    "            y=1.1,  \n",
    "            xref=\"paper\",\n",
    "            yref=\"paper\",\n",
    "            text=\"The Number Of Paintings Consistently Remains Low After The Initial Fall\",\n",
    "            showarrow=False,\n",
    "            font=dict(size=14, color=\"gray\"),\n",
    "            align=\"center\"\n",
    "        )\n",
    "    ],\n",
    ")\n",
    "\n",
    "# Display the figure\n",
    "fig.show()\n",
    "\n",
    "# Save as an interactive HTML file\n",
    "pio.write_html(fig, \"../../website/figures/average_art_interactive_plot.html\")\n"
   ]
  },
  {
   "cell_type": "markdown",
   "metadata": {},
   "source": [
    "This graph below shows the effect of GDP on any art theme"
   ]
  },
  {
   "cell_type": "code",
   "execution_count": 30,
   "metadata": {},
   "outputs": [
    {
     "data": {
      "application/vnd.plotly.v1+json": {
       "config": {
        "plotlyServerURL": "https://plot.ly"
       },
       "data": [
        {
         "line": {
          "color": "#cc0000"
         },
         "name": "Animals",
         "type": "scatter",
         "visible": true,
         "x": [
          1089,
          1191,
          2140,
          2970,
          4369,
          6223,
          8374,
          11439,
          15544,
          18582
         ],
         "y": [
          67,
          221,
          46,
          1,
          1,
          0,
          1,
          1,
          0,
          0
         ]
        },
        {
         "line": {
          "color": "#00cc3b"
         },
         "name": "Architecture",
         "type": "scatter",
         "visible": false,
         "x": [
          1089,
          1191,
          2140,
          2970,
          4369,
          6223,
          8374,
          11439,
          15544,
          18582
         ],
         "y": [
          156,
          308,
          85,
          8,
          1,
          4,
          0,
          2,
          2,
          0
         ]
        },
        {
         "line": {
          "color": "#7600cc"
         },
         "name": "Botanical study",
         "type": "scatter",
         "visible": false,
         "x": [
          1089,
          1191,
          2140,
          2970,
          4369,
          6223,
          8374,
          11439,
          15544,
          18582
         ],
         "y": [
          152,
          269,
          17,
          0,
          0,
          0,
          0,
          0,
          0,
          0
         ]
        },
        {
         "line": {
          "color": "#ccb200"
         },
         "name": "Cityscapes",
         "type": "scatter",
         "visible": false,
         "x": [
          1089,
          1191,
          2140,
          2970,
          4369,
          6223,
          8374,
          11439,
          15544,
          18582
         ],
         "y": [
          52,
          135,
          29,
          0,
          0,
          2,
          0,
          0,
          0,
          0
         ]
        },
        {
         "line": {
          "color": "#00a9cc"
         },
         "name": "Clothing and dress",
         "type": "scatter",
         "visible": false,
         "x": [
          1089,
          1191,
          2140,
          2970,
          4369,
          6223,
          8374,
          11439,
          15544,
          18582
         ],
         "y": [
          33,
          68,
          28,
          1,
          1,
          0,
          5,
          0,
          1,
          0
         ]
        },
        {
         "line": {
          "color": "#cc006e"
         },
         "name": "Domestic",
         "type": "scatter",
         "visible": false,
         "x": [
          1089,
          1191,
          2140,
          2970,
          4369,
          6223,
          8374,
          11439,
          15544,
          18582
         ],
         "y": [
          42,
          82,
          42,
          5,
          1,
          0,
          0,
          2,
          0,
          0
         ]
        },
        {
         "line": {
          "color": "#32cc00"
         },
         "name": "Dress accessories",
         "type": "scatter",
         "visible": false,
         "x": [
          1089,
          1191,
          2140,
          2970,
          4369,
          6223,
          8374,
          11439,
          15544,
          18582
         ],
         "y": [
          32,
          59,
          14,
          0,
          2,
          1,
          5,
          0,
          1,
          0
         ]
        },
        {
         "line": {
          "color": "#0800cc"
         },
         "name": "Figure female",
         "type": "scatter",
         "visible": false,
         "x": [
          1089,
          1191,
          2140,
          2970,
          4369,
          6223,
          8374,
          11439,
          15544,
          18582
         ],
         "y": [
          73,
          100,
          28,
          0,
          0,
          0,
          0,
          0,
          0,
          0
         ]
        },
        {
         "line": {
          "color": "#cc4400"
         },
         "name": "Figure group",
         "type": "scatter",
         "visible": false,
         "x": [
          1089,
          1191,
          2140,
          2970,
          4369,
          6223,
          8374,
          11439,
          15544,
          18582
         ],
         "y": [
          108,
          200,
          72,
          4,
          4,
          2,
          0,
          0,
          2,
          0
         ]
        },
        {
         "line": {
          "color": "#00cc7f"
         },
         "name": "Figure male",
         "type": "scatter",
         "visible": false,
         "x": [
          1089,
          1191,
          2140,
          2970,
          4369,
          6223,
          8374,
          11439,
          15544,
          18582
         ],
         "y": [
          39,
          68,
          82,
          1,
          2,
          0,
          1,
          0,
          1,
          0
         ]
        },
        {
         "line": {
          "color": "#ba00cc"
         },
         "name": "Horses",
         "type": "scatter",
         "visible": false,
         "x": [
          1089,
          1191,
          2140,
          2970,
          4369,
          6223,
          8374,
          11439,
          15544,
          18582
         ],
         "y": [
          18,
          74,
          13,
          0,
          0,
          0,
          0,
          0,
          0,
          0
         ]
        },
        {
         "line": {
          "color": "#a1cc00"
         },
         "name": "Landscapes",
         "type": "scatter",
         "visible": false,
         "x": [
          1089,
          1191,
          2140,
          2970,
          4369,
          6223,
          8374,
          11439,
          15544,
          18582
         ],
         "y": [
          200,
          305,
          93,
          5,
          3,
          2,
          0,
          1,
          1,
          0
         ]
        },
        {
         "line": {
          "color": "#0065cc"
         },
         "name": "Men",
         "type": "scatter",
         "visible": false,
         "x": [
          1089,
          1191,
          2140,
          2970,
          4369,
          6223,
          8374,
          11439,
          15544,
          18582
         ],
         "y": [
          62,
          157,
          29,
          2,
          4,
          0,
          20,
          0,
          3,
          0
         ]
        },
        {
         "line": {
          "color": "#cc002a"
         },
         "name": "Mountains",
         "type": "scatter",
         "visible": false,
         "x": [
          1089,
          1191,
          2140,
          2970,
          4369,
          6223,
          8374,
          11439,
          15544,
          18582
         ],
         "y": [
          26,
          55,
          13,
          1,
          0,
          0,
          0,
          0,
          1,
          0
         ]
        },
        {
         "line": {
          "color": "#00cc11"
         },
         "name": "Nudity",
         "type": "scatter",
         "visible": false,
         "x": [
          1089,
          1191,
          2140,
          2970,
          4369,
          6223,
          8374,
          11439,
          15544,
          18582
         ],
         "y": [
          43,
          80,
          7,
          0,
          0,
          0,
          0,
          0,
          0,
          0
         ]
        },
        {
         "line": {
          "color": "#4c00cc"
         },
         "name": "Occupations",
         "type": "scatter",
         "visible": false,
         "x": [
          1089,
          1191,
          2140,
          2970,
          4369,
          6223,
          8374,
          11439,
          15544,
          18582
         ],
         "y": [
          69,
          138,
          82,
          2,
          2,
          1,
          1,
          1,
          0,
          0
         ]
        },
        {
         "line": {
          "color": "#cc8800"
         },
         "name": "Portraits",
         "type": "scatter",
         "visible": false,
         "x": [
          1089,
          1191,
          2140,
          2970,
          4369,
          6223,
          8374,
          11439,
          15544,
          18582
         ],
         "y": [
          88,
          169,
          23,
          4,
          4,
          1,
          31,
          0,
          3,
          1
         ]
        },
        {
         "line": {
          "color": "#00ccc3"
         },
         "name": "Religion",
         "type": "scatter",
         "visible": false,
         "x": [
          1089,
          1191,
          2140,
          2970,
          4369,
          6223,
          8374,
          11439,
          15544,
          18582
         ],
         "y": [
          40,
          76,
          14,
          3,
          0,
          0,
          0,
          0,
          0,
          1
         ]
        },
        {
         "line": {
          "color": "#cc0098"
         },
         "name": "Trees",
         "type": "scatter",
         "visible": false,
         "x": [
          1089,
          1191,
          2140,
          2970,
          4369,
          6223,
          8374,
          11439,
          15544,
          18582
         ],
         "y": [
          34,
          65,
          9,
          1,
          0,
          0,
          0,
          0,
          0,
          0
         ]
        },
        {
         "line": {
          "color": "#5dcc00"
         },
         "name": "Women",
         "type": "scatter",
         "visible": false,
         "x": [
          1089,
          1191,
          2140,
          2970,
          4369,
          6223,
          8374,
          11439,
          15544,
          18582
         ],
         "y": [
          47,
          66,
          16,
          2,
          0,
          2,
          14,
          0,
          0,
          0
         ]
        },
        {
         "line": {
          "color": "black",
          "dash": "dashdot",
          "width": 3
         },
         "name": "Average Effect",
         "type": "scatter",
         "visible": false,
         "x": [
          1089,
          1191,
          2140,
          2970,
          4369,
          6223,
          8374,
          11439,
          15544,
          18582
         ],
         "y": [
          69.05,
          134.75,
          37.1,
          2,
          1.25,
          0.75,
          3.9,
          0.35,
          0.75,
          0.1
         ]
        }
       ],
       "layout": {
        "height": 600,
        "paper_bgcolor": "white",
        "plot_bgcolor": "white",
        "template": {
         "data": {
          "bar": [
           {
            "error_x": {
             "color": "#2a3f5f"
            },
            "error_y": {
             "color": "#2a3f5f"
            },
            "marker": {
             "line": {
              "color": "#E5ECF6",
              "width": 0.5
             },
             "pattern": {
              "fillmode": "overlay",
              "size": 10,
              "solidity": 0.2
             }
            },
            "type": "bar"
           }
          ],
          "barpolar": [
           {
            "marker": {
             "line": {
              "color": "#E5ECF6",
              "width": 0.5
             },
             "pattern": {
              "fillmode": "overlay",
              "size": 10,
              "solidity": 0.2
             }
            },
            "type": "barpolar"
           }
          ],
          "carpet": [
           {
            "aaxis": {
             "endlinecolor": "#2a3f5f",
             "gridcolor": "white",
             "linecolor": "white",
             "minorgridcolor": "white",
             "startlinecolor": "#2a3f5f"
            },
            "baxis": {
             "endlinecolor": "#2a3f5f",
             "gridcolor": "white",
             "linecolor": "white",
             "minorgridcolor": "white",
             "startlinecolor": "#2a3f5f"
            },
            "type": "carpet"
           }
          ],
          "choropleth": [
           {
            "colorbar": {
             "outlinewidth": 0,
             "ticks": ""
            },
            "type": "choropleth"
           }
          ],
          "contour": [
           {
            "colorbar": {
             "outlinewidth": 0,
             "ticks": ""
            },
            "colorscale": [
             [
              0,
              "#0d0887"
             ],
             [
              0.1111111111111111,
              "#46039f"
             ],
             [
              0.2222222222222222,
              "#7201a8"
             ],
             [
              0.3333333333333333,
              "#9c179e"
             ],
             [
              0.4444444444444444,
              "#bd3786"
             ],
             [
              0.5555555555555556,
              "#d8576b"
             ],
             [
              0.6666666666666666,
              "#ed7953"
             ],
             [
              0.7777777777777778,
              "#fb9f3a"
             ],
             [
              0.8888888888888888,
              "#fdca26"
             ],
             [
              1,
              "#f0f921"
             ]
            ],
            "type": "contour"
           }
          ],
          "contourcarpet": [
           {
            "colorbar": {
             "outlinewidth": 0,
             "ticks": ""
            },
            "type": "contourcarpet"
           }
          ],
          "heatmap": [
           {
            "colorbar": {
             "outlinewidth": 0,
             "ticks": ""
            },
            "colorscale": [
             [
              0,
              "#0d0887"
             ],
             [
              0.1111111111111111,
              "#46039f"
             ],
             [
              0.2222222222222222,
              "#7201a8"
             ],
             [
              0.3333333333333333,
              "#9c179e"
             ],
             [
              0.4444444444444444,
              "#bd3786"
             ],
             [
              0.5555555555555556,
              "#d8576b"
             ],
             [
              0.6666666666666666,
              "#ed7953"
             ],
             [
              0.7777777777777778,
              "#fb9f3a"
             ],
             [
              0.8888888888888888,
              "#fdca26"
             ],
             [
              1,
              "#f0f921"
             ]
            ],
            "type": "heatmap"
           }
          ],
          "heatmapgl": [
           {
            "colorbar": {
             "outlinewidth": 0,
             "ticks": ""
            },
            "colorscale": [
             [
              0,
              "#0d0887"
             ],
             [
              0.1111111111111111,
              "#46039f"
             ],
             [
              0.2222222222222222,
              "#7201a8"
             ],
             [
              0.3333333333333333,
              "#9c179e"
             ],
             [
              0.4444444444444444,
              "#bd3786"
             ],
             [
              0.5555555555555556,
              "#d8576b"
             ],
             [
              0.6666666666666666,
              "#ed7953"
             ],
             [
              0.7777777777777778,
              "#fb9f3a"
             ],
             [
              0.8888888888888888,
              "#fdca26"
             ],
             [
              1,
              "#f0f921"
             ]
            ],
            "type": "heatmapgl"
           }
          ],
          "histogram": [
           {
            "marker": {
             "pattern": {
              "fillmode": "overlay",
              "size": 10,
              "solidity": 0.2
             }
            },
            "type": "histogram"
           }
          ],
          "histogram2d": [
           {
            "colorbar": {
             "outlinewidth": 0,
             "ticks": ""
            },
            "colorscale": [
             [
              0,
              "#0d0887"
             ],
             [
              0.1111111111111111,
              "#46039f"
             ],
             [
              0.2222222222222222,
              "#7201a8"
             ],
             [
              0.3333333333333333,
              "#9c179e"
             ],
             [
              0.4444444444444444,
              "#bd3786"
             ],
             [
              0.5555555555555556,
              "#d8576b"
             ],
             [
              0.6666666666666666,
              "#ed7953"
             ],
             [
              0.7777777777777778,
              "#fb9f3a"
             ],
             [
              0.8888888888888888,
              "#fdca26"
             ],
             [
              1,
              "#f0f921"
             ]
            ],
            "type": "histogram2d"
           }
          ],
          "histogram2dcontour": [
           {
            "colorbar": {
             "outlinewidth": 0,
             "ticks": ""
            },
            "colorscale": [
             [
              0,
              "#0d0887"
             ],
             [
              0.1111111111111111,
              "#46039f"
             ],
             [
              0.2222222222222222,
              "#7201a8"
             ],
             [
              0.3333333333333333,
              "#9c179e"
             ],
             [
              0.4444444444444444,
              "#bd3786"
             ],
             [
              0.5555555555555556,
              "#d8576b"
             ],
             [
              0.6666666666666666,
              "#ed7953"
             ],
             [
              0.7777777777777778,
              "#fb9f3a"
             ],
             [
              0.8888888888888888,
              "#fdca26"
             ],
             [
              1,
              "#f0f921"
             ]
            ],
            "type": "histogram2dcontour"
           }
          ],
          "mesh3d": [
           {
            "colorbar": {
             "outlinewidth": 0,
             "ticks": ""
            },
            "type": "mesh3d"
           }
          ],
          "parcoords": [
           {
            "line": {
             "colorbar": {
              "outlinewidth": 0,
              "ticks": ""
             }
            },
            "type": "parcoords"
           }
          ],
          "pie": [
           {
            "automargin": true,
            "type": "pie"
           }
          ],
          "scatter": [
           {
            "fillpattern": {
             "fillmode": "overlay",
             "size": 10,
             "solidity": 0.2
            },
            "type": "scatter"
           }
          ],
          "scatter3d": [
           {
            "line": {
             "colorbar": {
              "outlinewidth": 0,
              "ticks": ""
             }
            },
            "marker": {
             "colorbar": {
              "outlinewidth": 0,
              "ticks": ""
             }
            },
            "type": "scatter3d"
           }
          ],
          "scattercarpet": [
           {
            "marker": {
             "colorbar": {
              "outlinewidth": 0,
              "ticks": ""
             }
            },
            "type": "scattercarpet"
           }
          ],
          "scattergeo": [
           {
            "marker": {
             "colorbar": {
              "outlinewidth": 0,
              "ticks": ""
             }
            },
            "type": "scattergeo"
           }
          ],
          "scattergl": [
           {
            "marker": {
             "colorbar": {
              "outlinewidth": 0,
              "ticks": ""
             }
            },
            "type": "scattergl"
           }
          ],
          "scattermapbox": [
           {
            "marker": {
             "colorbar": {
              "outlinewidth": 0,
              "ticks": ""
             }
            },
            "type": "scattermapbox"
           }
          ],
          "scatterpolar": [
           {
            "marker": {
             "colorbar": {
              "outlinewidth": 0,
              "ticks": ""
             }
            },
            "type": "scatterpolar"
           }
          ],
          "scatterpolargl": [
           {
            "marker": {
             "colorbar": {
              "outlinewidth": 0,
              "ticks": ""
             }
            },
            "type": "scatterpolargl"
           }
          ],
          "scatterternary": [
           {
            "marker": {
             "colorbar": {
              "outlinewidth": 0,
              "ticks": ""
             }
            },
            "type": "scatterternary"
           }
          ],
          "surface": [
           {
            "colorbar": {
             "outlinewidth": 0,
             "ticks": ""
            },
            "colorscale": [
             [
              0,
              "#0d0887"
             ],
             [
              0.1111111111111111,
              "#46039f"
             ],
             [
              0.2222222222222222,
              "#7201a8"
             ],
             [
              0.3333333333333333,
              "#9c179e"
             ],
             [
              0.4444444444444444,
              "#bd3786"
             ],
             [
              0.5555555555555556,
              "#d8576b"
             ],
             [
              0.6666666666666666,
              "#ed7953"
             ],
             [
              0.7777777777777778,
              "#fb9f3a"
             ],
             [
              0.8888888888888888,
              "#fdca26"
             ],
             [
              1,
              "#f0f921"
             ]
            ],
            "type": "surface"
           }
          ],
          "table": [
           {
            "cells": {
             "fill": {
              "color": "#EBF0F8"
             },
             "line": {
              "color": "white"
             }
            },
            "header": {
             "fill": {
              "color": "#C8D4E3"
             },
             "line": {
              "color": "white"
             }
            },
            "type": "table"
           }
          ]
         },
         "layout": {
          "annotationdefaults": {
           "arrowcolor": "#2a3f5f",
           "arrowhead": 0,
           "arrowwidth": 1
          },
          "autotypenumbers": "strict",
          "coloraxis": {
           "colorbar": {
            "outlinewidth": 0,
            "ticks": ""
           }
          },
          "colorscale": {
           "diverging": [
            [
             0,
             "#8e0152"
            ],
            [
             0.1,
             "#c51b7d"
            ],
            [
             0.2,
             "#de77ae"
            ],
            [
             0.3,
             "#f1b6da"
            ],
            [
             0.4,
             "#fde0ef"
            ],
            [
             0.5,
             "#f7f7f7"
            ],
            [
             0.6,
             "#e6f5d0"
            ],
            [
             0.7,
             "#b8e186"
            ],
            [
             0.8,
             "#7fbc41"
            ],
            [
             0.9,
             "#4d9221"
            ],
            [
             1,
             "#276419"
            ]
           ],
           "sequential": [
            [
             0,
             "#0d0887"
            ],
            [
             0.1111111111111111,
             "#46039f"
            ],
            [
             0.2222222222222222,
             "#7201a8"
            ],
            [
             0.3333333333333333,
             "#9c179e"
            ],
            [
             0.4444444444444444,
             "#bd3786"
            ],
            [
             0.5555555555555556,
             "#d8576b"
            ],
            [
             0.6666666666666666,
             "#ed7953"
            ],
            [
             0.7777777777777778,
             "#fb9f3a"
            ],
            [
             0.8888888888888888,
             "#fdca26"
            ],
            [
             1,
             "#f0f921"
            ]
           ],
           "sequentialminus": [
            [
             0,
             "#0d0887"
            ],
            [
             0.1111111111111111,
             "#46039f"
            ],
            [
             0.2222222222222222,
             "#7201a8"
            ],
            [
             0.3333333333333333,
             "#9c179e"
            ],
            [
             0.4444444444444444,
             "#bd3786"
            ],
            [
             0.5555555555555556,
             "#d8576b"
            ],
            [
             0.6666666666666666,
             "#ed7953"
            ],
            [
             0.7777777777777778,
             "#fb9f3a"
            ],
            [
             0.8888888888888888,
             "#fdca26"
            ],
            [
             1,
             "#f0f921"
            ]
           ]
          },
          "colorway": [
           "#636efa",
           "#EF553B",
           "#00cc96",
           "#ab63fa",
           "#FFA15A",
           "#19d3f3",
           "#FF6692",
           "#B6E880",
           "#FF97FF",
           "#FECB52"
          ],
          "font": {
           "color": "#2a3f5f"
          },
          "geo": {
           "bgcolor": "white",
           "lakecolor": "white",
           "landcolor": "#E5ECF6",
           "showlakes": true,
           "showland": true,
           "subunitcolor": "white"
          },
          "hoverlabel": {
           "align": "left"
          },
          "hovermode": "closest",
          "mapbox": {
           "style": "light"
          },
          "paper_bgcolor": "white",
          "plot_bgcolor": "#E5ECF6",
          "polar": {
           "angularaxis": {
            "gridcolor": "white",
            "linecolor": "white",
            "ticks": ""
           },
           "bgcolor": "#E5ECF6",
           "radialaxis": {
            "gridcolor": "white",
            "linecolor": "white",
            "ticks": ""
           }
          },
          "scene": {
           "xaxis": {
            "backgroundcolor": "#E5ECF6",
            "gridcolor": "white",
            "gridwidth": 2,
            "linecolor": "white",
            "showbackground": true,
            "ticks": "",
            "zerolinecolor": "white"
           },
           "yaxis": {
            "backgroundcolor": "#E5ECF6",
            "gridcolor": "white",
            "gridwidth": 2,
            "linecolor": "white",
            "showbackground": true,
            "ticks": "",
            "zerolinecolor": "white"
           },
           "zaxis": {
            "backgroundcolor": "#E5ECF6",
            "gridcolor": "white",
            "gridwidth": 2,
            "linecolor": "white",
            "showbackground": true,
            "ticks": "",
            "zerolinecolor": "white"
           }
          },
          "shapedefaults": {
           "line": {
            "color": "#2a3f5f"
           }
          },
          "ternary": {
           "aaxis": {
            "gridcolor": "white",
            "linecolor": "white",
            "ticks": ""
           },
           "baxis": {
            "gridcolor": "white",
            "linecolor": "white",
            "ticks": ""
           },
           "bgcolor": "#E5ECF6",
           "caxis": {
            "gridcolor": "white",
            "linecolor": "white",
            "ticks": ""
           }
          },
          "title": {
           "x": 0.05
          },
          "xaxis": {
           "automargin": true,
           "gridcolor": "white",
           "linecolor": "white",
           "ticks": "",
           "title": {
            "standoff": 15
           },
           "zerolinecolor": "white",
           "zerolinewidth": 2
          },
          "yaxis": {
           "automargin": true,
           "gridcolor": "white",
           "linecolor": "white",
           "ticks": "",
           "title": {
            "standoff": 15
           },
           "zerolinecolor": "white",
           "zerolinewidth": 2
          }
         }
        },
        "title": {
         "text": "Popularity of Art Themes vs. GDP"
        },
        "updatemenus": [
         {
          "buttons": [
           {
            "args": [
             {
              "visible": [
               true,
               true,
               true,
               true,
               true,
               true,
               true,
               true,
               true,
               true,
               true,
               true,
               true,
               true,
               true,
               true,
               true,
               true,
               true,
               true,
               false
              ]
             },
             {
              "title": "Popularity of All Art Themes vs. GDP"
             }
            ],
            "label": "All Themes",
            "method": "update"
           },
           {
            "args": [
             {
              "visible": [
               false,
               false,
               false,
               false,
               false,
               false,
               false,
               false,
               false,
               false,
               false,
               false,
               false,
               false,
               false,
               false,
               false,
               false,
               false,
               false,
               true
              ]
             },
             {
              "title": "Average Effect of GDP on Number of Paintings"
             }
            ],
            "label": "Average Effect",
            "method": "update"
           },
           {
            "args": [
             {
              "visible": [
               true,
               false,
               false,
               false,
               false,
               false,
               false,
               false,
               false,
               false,
               false,
               false,
               false,
               false,
               false,
               false,
               false,
               false,
               false,
               false,
               false
              ]
             },
             {
              "title": "Popularity of Animals vs. GDP"
             }
            ],
            "label": "Animals",
            "method": "update"
           },
           {
            "args": [
             {
              "visible": [
               false,
               true,
               false,
               false,
               false,
               false,
               false,
               false,
               false,
               false,
               false,
               false,
               false,
               false,
               false,
               false,
               false,
               false,
               false,
               false,
               false
              ]
             },
             {
              "title": "Popularity of Architecture vs. GDP"
             }
            ],
            "label": "Architecture",
            "method": "update"
           },
           {
            "args": [
             {
              "visible": [
               false,
               false,
               true,
               false,
               false,
               false,
               false,
               false,
               false,
               false,
               false,
               false,
               false,
               false,
               false,
               false,
               false,
               false,
               false,
               false,
               false
              ]
             },
             {
              "title": "Popularity of Botanical study vs. GDP"
             }
            ],
            "label": "Botanical study",
            "method": "update"
           },
           {
            "args": [
             {
              "visible": [
               false,
               false,
               false,
               true,
               false,
               false,
               false,
               false,
               false,
               false,
               false,
               false,
               false,
               false,
               false,
               false,
               false,
               false,
               false,
               false,
               false
              ]
             },
             {
              "title": "Popularity of Cityscapes vs. GDP"
             }
            ],
            "label": "Cityscapes",
            "method": "update"
           },
           {
            "args": [
             {
              "visible": [
               false,
               false,
               false,
               false,
               true,
               false,
               false,
               false,
               false,
               false,
               false,
               false,
               false,
               false,
               false,
               false,
               false,
               false,
               false,
               false,
               false
              ]
             },
             {
              "title": "Popularity of Clothing and dress vs. GDP"
             }
            ],
            "label": "Clothing and dress",
            "method": "update"
           },
           {
            "args": [
             {
              "visible": [
               false,
               false,
               false,
               false,
               false,
               true,
               false,
               false,
               false,
               false,
               false,
               false,
               false,
               false,
               false,
               false,
               false,
               false,
               false,
               false,
               false
              ]
             },
             {
              "title": "Popularity of Domestic vs. GDP"
             }
            ],
            "label": "Domestic",
            "method": "update"
           },
           {
            "args": [
             {
              "visible": [
               false,
               false,
               false,
               false,
               false,
               false,
               true,
               false,
               false,
               false,
               false,
               false,
               false,
               false,
               false,
               false,
               false,
               false,
               false,
               false,
               false
              ]
             },
             {
              "title": "Popularity of Dress accessories vs. GDP"
             }
            ],
            "label": "Dress accessories",
            "method": "update"
           },
           {
            "args": [
             {
              "visible": [
               false,
               false,
               false,
               false,
               false,
               false,
               false,
               true,
               false,
               false,
               false,
               false,
               false,
               false,
               false,
               false,
               false,
               false,
               false,
               false,
               false
              ]
             },
             {
              "title": "Popularity of Figure female vs. GDP"
             }
            ],
            "label": "Figure female",
            "method": "update"
           },
           {
            "args": [
             {
              "visible": [
               false,
               false,
               false,
               false,
               false,
               false,
               false,
               false,
               true,
               false,
               false,
               false,
               false,
               false,
               false,
               false,
               false,
               false,
               false,
               false,
               false
              ]
             },
             {
              "title": "Popularity of Figure group vs. GDP"
             }
            ],
            "label": "Figure group",
            "method": "update"
           },
           {
            "args": [
             {
              "visible": [
               false,
               false,
               false,
               false,
               false,
               false,
               false,
               false,
               false,
               true,
               false,
               false,
               false,
               false,
               false,
               false,
               false,
               false,
               false,
               false,
               false
              ]
             },
             {
              "title": "Popularity of Figure male vs. GDP"
             }
            ],
            "label": "Figure male",
            "method": "update"
           },
           {
            "args": [
             {
              "visible": [
               false,
               false,
               false,
               false,
               false,
               false,
               false,
               false,
               false,
               false,
               true,
               false,
               false,
               false,
               false,
               false,
               false,
               false,
               false,
               false,
               false
              ]
             },
             {
              "title": "Popularity of Horses vs. GDP"
             }
            ],
            "label": "Horses",
            "method": "update"
           },
           {
            "args": [
             {
              "visible": [
               false,
               false,
               false,
               false,
               false,
               false,
               false,
               false,
               false,
               false,
               false,
               true,
               false,
               false,
               false,
               false,
               false,
               false,
               false,
               false,
               false
              ]
             },
             {
              "title": "Popularity of Landscapes vs. GDP"
             }
            ],
            "label": "Landscapes",
            "method": "update"
           },
           {
            "args": [
             {
              "visible": [
               false,
               false,
               false,
               false,
               false,
               false,
               false,
               false,
               false,
               false,
               false,
               false,
               true,
               false,
               false,
               false,
               false,
               false,
               false,
               false,
               false
              ]
             },
             {
              "title": "Popularity of Men vs. GDP"
             }
            ],
            "label": "Men",
            "method": "update"
           },
           {
            "args": [
             {
              "visible": [
               false,
               false,
               false,
               false,
               false,
               false,
               false,
               false,
               false,
               false,
               false,
               false,
               false,
               true,
               false,
               false,
               false,
               false,
               false,
               false,
               false
              ]
             },
             {
              "title": "Popularity of Mountains vs. GDP"
             }
            ],
            "label": "Mountains",
            "method": "update"
           },
           {
            "args": [
             {
              "visible": [
               false,
               false,
               false,
               false,
               false,
               false,
               false,
               false,
               false,
               false,
               false,
               false,
               false,
               false,
               true,
               false,
               false,
               false,
               false,
               false,
               false
              ]
             },
             {
              "title": "Popularity of Nudity vs. GDP"
             }
            ],
            "label": "Nudity",
            "method": "update"
           },
           {
            "args": [
             {
              "visible": [
               false,
               false,
               false,
               false,
               false,
               false,
               false,
               false,
               false,
               false,
               false,
               false,
               false,
               false,
               false,
               true,
               false,
               false,
               false,
               false,
               false
              ]
             },
             {
              "title": "Popularity of Occupations vs. GDP"
             }
            ],
            "label": "Occupations",
            "method": "update"
           },
           {
            "args": [
             {
              "visible": [
               false,
               false,
               false,
               false,
               false,
               false,
               false,
               false,
               false,
               false,
               false,
               false,
               false,
               false,
               false,
               false,
               true,
               false,
               false,
               false,
               false
              ]
             },
             {
              "title": "Popularity of Portraits vs. GDP"
             }
            ],
            "label": "Portraits",
            "method": "update"
           },
           {
            "args": [
             {
              "visible": [
               false,
               false,
               false,
               false,
               false,
               false,
               false,
               false,
               false,
               false,
               false,
               false,
               false,
               false,
               false,
               false,
               false,
               true,
               false,
               false,
               false
              ]
             },
             {
              "title": "Popularity of Religion vs. GDP"
             }
            ],
            "label": "Religion",
            "method": "update"
           },
           {
            "args": [
             {
              "visible": [
               false,
               false,
               false,
               false,
               false,
               false,
               false,
               false,
               false,
               false,
               false,
               false,
               false,
               false,
               false,
               false,
               false,
               false,
               true,
               false,
               false
              ]
             },
             {
              "title": "Popularity of Trees vs. GDP"
             }
            ],
            "label": "Trees",
            "method": "update"
           },
           {
            "args": [
             {
              "visible": [
               false,
               false,
               false,
               false,
               false,
               false,
               false,
               false,
               false,
               false,
               false,
               false,
               false,
               false,
               false,
               false,
               false,
               false,
               false,
               true,
               false
              ]
             },
             {
              "title": "Popularity of Women vs. GDP"
             }
            ],
            "label": "Women",
            "method": "update"
           }
          ],
          "direction": "down",
          "showactive": true,
          "x": 0.15,
          "y": 1.1
         }
        ],
        "width": 900,
        "xaxis": {
         "gridcolor": "lightgray",
         "linecolor": "black",
         "linewidth": 2,
         "showgrid": true,
         "showline": true,
         "title": {
          "text": "GDP in billions of US$"
         }
        },
        "yaxis": {
         "gridcolor": "lightgray",
         "linecolor": "black",
         "linewidth": 2,
         "range": [
          0,
          308
         ],
         "showgrid": true,
         "showline": true,
         "title": {
          "text": "Number of Paintings"
         }
        }
       }
      },
      "text/html": [
       "<div>                            <div id=\"0a2fbc0b-c707-40d2-919b-c1a33100c80b\" class=\"plotly-graph-div\" style=\"height:600px; width:900px;\"></div>            <script type=\"text/javascript\">                require([\"plotly\"], function(Plotly) {                    window.PLOTLYENV=window.PLOTLYENV || {};                                    if (document.getElementById(\"0a2fbc0b-c707-40d2-919b-c1a33100c80b\")) {                    Plotly.newPlot(                        \"0a2fbc0b-c707-40d2-919b-c1a33100c80b\",                        [{\"line\":{\"color\":\"#cc0000\"},\"name\":\"Animals\",\"visible\":true,\"x\":[1089.0,1191.0,2140.0,2970.0,4369.0,6223.0,8374.0,11439.0,15544.0,18582.0],\"y\":[67,221,46,1,1,0,1,1,0,0],\"type\":\"scatter\"},{\"line\":{\"color\":\"#00cc3b\"},\"name\":\"Architecture\",\"visible\":false,\"x\":[1089.0,1191.0,2140.0,2970.0,4369.0,6223.0,8374.0,11439.0,15544.0,18582.0],\"y\":[156,308,85,8,1,4,0,2,2,0],\"type\":\"scatter\"},{\"line\":{\"color\":\"#7600cc\"},\"name\":\"Botanical study\",\"visible\":false,\"x\":[1089.0,1191.0,2140.0,2970.0,4369.0,6223.0,8374.0,11439.0,15544.0,18582.0],\"y\":[152,269,17,0,0,0,0,0,0,0],\"type\":\"scatter\"},{\"line\":{\"color\":\"#ccb200\"},\"name\":\"Cityscapes\",\"visible\":false,\"x\":[1089.0,1191.0,2140.0,2970.0,4369.0,6223.0,8374.0,11439.0,15544.0,18582.0],\"y\":[52,135,29,0,0,2,0,0,0,0],\"type\":\"scatter\"},{\"line\":{\"color\":\"#00a9cc\"},\"name\":\"Clothing and dress\",\"visible\":false,\"x\":[1089.0,1191.0,2140.0,2970.0,4369.0,6223.0,8374.0,11439.0,15544.0,18582.0],\"y\":[33,68,28,1,1,0,5,0,1,0],\"type\":\"scatter\"},{\"line\":{\"color\":\"#cc006e\"},\"name\":\"Domestic\",\"visible\":false,\"x\":[1089.0,1191.0,2140.0,2970.0,4369.0,6223.0,8374.0,11439.0,15544.0,18582.0],\"y\":[42,82,42,5,1,0,0,2,0,0],\"type\":\"scatter\"},{\"line\":{\"color\":\"#32cc00\"},\"name\":\"Dress accessories\",\"visible\":false,\"x\":[1089.0,1191.0,2140.0,2970.0,4369.0,6223.0,8374.0,11439.0,15544.0,18582.0],\"y\":[32,59,14,0,2,1,5,0,1,0],\"type\":\"scatter\"},{\"line\":{\"color\":\"#0800cc\"},\"name\":\"Figure female\",\"visible\":false,\"x\":[1089.0,1191.0,2140.0,2970.0,4369.0,6223.0,8374.0,11439.0,15544.0,18582.0],\"y\":[73,100,28,0,0,0,0,0,0,0],\"type\":\"scatter\"},{\"line\":{\"color\":\"#cc4400\"},\"name\":\"Figure group\",\"visible\":false,\"x\":[1089.0,1191.0,2140.0,2970.0,4369.0,6223.0,8374.0,11439.0,15544.0,18582.0],\"y\":[108,200,72,4,4,2,0,0,2,0],\"type\":\"scatter\"},{\"line\":{\"color\":\"#00cc7f\"},\"name\":\"Figure male\",\"visible\":false,\"x\":[1089.0,1191.0,2140.0,2970.0,4369.0,6223.0,8374.0,11439.0,15544.0,18582.0],\"y\":[39,68,82,1,2,0,1,0,1,0],\"type\":\"scatter\"},{\"line\":{\"color\":\"#ba00cc\"},\"name\":\"Horses\",\"visible\":false,\"x\":[1089.0,1191.0,2140.0,2970.0,4369.0,6223.0,8374.0,11439.0,15544.0,18582.0],\"y\":[18,74,13,0,0,0,0,0,0,0],\"type\":\"scatter\"},{\"line\":{\"color\":\"#a1cc00\"},\"name\":\"Landscapes\",\"visible\":false,\"x\":[1089.0,1191.0,2140.0,2970.0,4369.0,6223.0,8374.0,11439.0,15544.0,18582.0],\"y\":[200,305,93,5,3,2,0,1,1,0],\"type\":\"scatter\"},{\"line\":{\"color\":\"#0065cc\"},\"name\":\"Men\",\"visible\":false,\"x\":[1089.0,1191.0,2140.0,2970.0,4369.0,6223.0,8374.0,11439.0,15544.0,18582.0],\"y\":[62,157,29,2,4,0,20,0,3,0],\"type\":\"scatter\"},{\"line\":{\"color\":\"#cc002a\"},\"name\":\"Mountains\",\"visible\":false,\"x\":[1089.0,1191.0,2140.0,2970.0,4369.0,6223.0,8374.0,11439.0,15544.0,18582.0],\"y\":[26,55,13,1,0,0,0,0,1,0],\"type\":\"scatter\"},{\"line\":{\"color\":\"#00cc11\"},\"name\":\"Nudity\",\"visible\":false,\"x\":[1089.0,1191.0,2140.0,2970.0,4369.0,6223.0,8374.0,11439.0,15544.0,18582.0],\"y\":[43,80,7,0,0,0,0,0,0,0],\"type\":\"scatter\"},{\"line\":{\"color\":\"#4c00cc\"},\"name\":\"Occupations\",\"visible\":false,\"x\":[1089.0,1191.0,2140.0,2970.0,4369.0,6223.0,8374.0,11439.0,15544.0,18582.0],\"y\":[69,138,82,2,2,1,1,1,0,0],\"type\":\"scatter\"},{\"line\":{\"color\":\"#cc8800\"},\"name\":\"Portraits\",\"visible\":false,\"x\":[1089.0,1191.0,2140.0,2970.0,4369.0,6223.0,8374.0,11439.0,15544.0,18582.0],\"y\":[88,169,23,4,4,1,31,0,3,1],\"type\":\"scatter\"},{\"line\":{\"color\":\"#00ccc3\"},\"name\":\"Religion\",\"visible\":false,\"x\":[1089.0,1191.0,2140.0,2970.0,4369.0,6223.0,8374.0,11439.0,15544.0,18582.0],\"y\":[40,76,14,3,0,0,0,0,0,1],\"type\":\"scatter\"},{\"line\":{\"color\":\"#cc0098\"},\"name\":\"Trees\",\"visible\":false,\"x\":[1089.0,1191.0,2140.0,2970.0,4369.0,6223.0,8374.0,11439.0,15544.0,18582.0],\"y\":[34,65,9,1,0,0,0,0,0,0],\"type\":\"scatter\"},{\"line\":{\"color\":\"#5dcc00\"},\"name\":\"Women\",\"visible\":false,\"x\":[1089.0,1191.0,2140.0,2970.0,4369.0,6223.0,8374.0,11439.0,15544.0,18582.0],\"y\":[47,66,16,2,0,2,14,0,0,0],\"type\":\"scatter\"},{\"line\":{\"color\":\"black\",\"dash\":\"dashdot\",\"width\":3},\"name\":\"Average Effect\",\"visible\":false,\"x\":[1089.0,1191.0,2140.0,2970.0,4369.0,6223.0,8374.0,11439.0,15544.0,18582.0],\"y\":[69.05,134.75,37.1,2.0,1.25,0.75,3.9,0.35,0.75,0.1],\"type\":\"scatter\"}],                        {\"template\":{\"data\":{\"histogram2dcontour\":[{\"type\":\"histogram2dcontour\",\"colorbar\":{\"outlinewidth\":0,\"ticks\":\"\"},\"colorscale\":[[0.0,\"#0d0887\"],[0.1111111111111111,\"#46039f\"],[0.2222222222222222,\"#7201a8\"],[0.3333333333333333,\"#9c179e\"],[0.4444444444444444,\"#bd3786\"],[0.5555555555555556,\"#d8576b\"],[0.6666666666666666,\"#ed7953\"],[0.7777777777777778,\"#fb9f3a\"],[0.8888888888888888,\"#fdca26\"],[1.0,\"#f0f921\"]]}],\"choropleth\":[{\"type\":\"choropleth\",\"colorbar\":{\"outlinewidth\":0,\"ticks\":\"\"}}],\"histogram2d\":[{\"type\":\"histogram2d\",\"colorbar\":{\"outlinewidth\":0,\"ticks\":\"\"},\"colorscale\":[[0.0,\"#0d0887\"],[0.1111111111111111,\"#46039f\"],[0.2222222222222222,\"#7201a8\"],[0.3333333333333333,\"#9c179e\"],[0.4444444444444444,\"#bd3786\"],[0.5555555555555556,\"#d8576b\"],[0.6666666666666666,\"#ed7953\"],[0.7777777777777778,\"#fb9f3a\"],[0.8888888888888888,\"#fdca26\"],[1.0,\"#f0f921\"]]}],\"heatmap\":[{\"type\":\"heatmap\",\"colorbar\":{\"outlinewidth\":0,\"ticks\":\"\"},\"colorscale\":[[0.0,\"#0d0887\"],[0.1111111111111111,\"#46039f\"],[0.2222222222222222,\"#7201a8\"],[0.3333333333333333,\"#9c179e\"],[0.4444444444444444,\"#bd3786\"],[0.5555555555555556,\"#d8576b\"],[0.6666666666666666,\"#ed7953\"],[0.7777777777777778,\"#fb9f3a\"],[0.8888888888888888,\"#fdca26\"],[1.0,\"#f0f921\"]]}],\"heatmapgl\":[{\"type\":\"heatmapgl\",\"colorbar\":{\"outlinewidth\":0,\"ticks\":\"\"},\"colorscale\":[[0.0,\"#0d0887\"],[0.1111111111111111,\"#46039f\"],[0.2222222222222222,\"#7201a8\"],[0.3333333333333333,\"#9c179e\"],[0.4444444444444444,\"#bd3786\"],[0.5555555555555556,\"#d8576b\"],[0.6666666666666666,\"#ed7953\"],[0.7777777777777778,\"#fb9f3a\"],[0.8888888888888888,\"#fdca26\"],[1.0,\"#f0f921\"]]}],\"contourcarpet\":[{\"type\":\"contourcarpet\",\"colorbar\":{\"outlinewidth\":0,\"ticks\":\"\"}}],\"contour\":[{\"type\":\"contour\",\"colorbar\":{\"outlinewidth\":0,\"ticks\":\"\"},\"colorscale\":[[0.0,\"#0d0887\"],[0.1111111111111111,\"#46039f\"],[0.2222222222222222,\"#7201a8\"],[0.3333333333333333,\"#9c179e\"],[0.4444444444444444,\"#bd3786\"],[0.5555555555555556,\"#d8576b\"],[0.6666666666666666,\"#ed7953\"],[0.7777777777777778,\"#fb9f3a\"],[0.8888888888888888,\"#fdca26\"],[1.0,\"#f0f921\"]]}],\"surface\":[{\"type\":\"surface\",\"colorbar\":{\"outlinewidth\":0,\"ticks\":\"\"},\"colorscale\":[[0.0,\"#0d0887\"],[0.1111111111111111,\"#46039f\"],[0.2222222222222222,\"#7201a8\"],[0.3333333333333333,\"#9c179e\"],[0.4444444444444444,\"#bd3786\"],[0.5555555555555556,\"#d8576b\"],[0.6666666666666666,\"#ed7953\"],[0.7777777777777778,\"#fb9f3a\"],[0.8888888888888888,\"#fdca26\"],[1.0,\"#f0f921\"]]}],\"mesh3d\":[{\"type\":\"mesh3d\",\"colorbar\":{\"outlinewidth\":0,\"ticks\":\"\"}}],\"scatter\":[{\"fillpattern\":{\"fillmode\":\"overlay\",\"size\":10,\"solidity\":0.2},\"type\":\"scatter\"}],\"parcoords\":[{\"type\":\"parcoords\",\"line\":{\"colorbar\":{\"outlinewidth\":0,\"ticks\":\"\"}}}],\"scatterpolargl\":[{\"type\":\"scatterpolargl\",\"marker\":{\"colorbar\":{\"outlinewidth\":0,\"ticks\":\"\"}}}],\"bar\":[{\"error_x\":{\"color\":\"#2a3f5f\"},\"error_y\":{\"color\":\"#2a3f5f\"},\"marker\":{\"line\":{\"color\":\"#E5ECF6\",\"width\":0.5},\"pattern\":{\"fillmode\":\"overlay\",\"size\":10,\"solidity\":0.2}},\"type\":\"bar\"}],\"scattergeo\":[{\"type\":\"scattergeo\",\"marker\":{\"colorbar\":{\"outlinewidth\":0,\"ticks\":\"\"}}}],\"scatterpolar\":[{\"type\":\"scatterpolar\",\"marker\":{\"colorbar\":{\"outlinewidth\":0,\"ticks\":\"\"}}}],\"histogram\":[{\"marker\":{\"pattern\":{\"fillmode\":\"overlay\",\"size\":10,\"solidity\":0.2}},\"type\":\"histogram\"}],\"scattergl\":[{\"type\":\"scattergl\",\"marker\":{\"colorbar\":{\"outlinewidth\":0,\"ticks\":\"\"}}}],\"scatter3d\":[{\"type\":\"scatter3d\",\"line\":{\"colorbar\":{\"outlinewidth\":0,\"ticks\":\"\"}},\"marker\":{\"colorbar\":{\"outlinewidth\":0,\"ticks\":\"\"}}}],\"scattermapbox\":[{\"type\":\"scattermapbox\",\"marker\":{\"colorbar\":{\"outlinewidth\":0,\"ticks\":\"\"}}}],\"scatterternary\":[{\"type\":\"scatterternary\",\"marker\":{\"colorbar\":{\"outlinewidth\":0,\"ticks\":\"\"}}}],\"scattercarpet\":[{\"type\":\"scattercarpet\",\"marker\":{\"colorbar\":{\"outlinewidth\":0,\"ticks\":\"\"}}}],\"carpet\":[{\"aaxis\":{\"endlinecolor\":\"#2a3f5f\",\"gridcolor\":\"white\",\"linecolor\":\"white\",\"minorgridcolor\":\"white\",\"startlinecolor\":\"#2a3f5f\"},\"baxis\":{\"endlinecolor\":\"#2a3f5f\",\"gridcolor\":\"white\",\"linecolor\":\"white\",\"minorgridcolor\":\"white\",\"startlinecolor\":\"#2a3f5f\"},\"type\":\"carpet\"}],\"table\":[{\"cells\":{\"fill\":{\"color\":\"#EBF0F8\"},\"line\":{\"color\":\"white\"}},\"header\":{\"fill\":{\"color\":\"#C8D4E3\"},\"line\":{\"color\":\"white\"}},\"type\":\"table\"}],\"barpolar\":[{\"marker\":{\"line\":{\"color\":\"#E5ECF6\",\"width\":0.5},\"pattern\":{\"fillmode\":\"overlay\",\"size\":10,\"solidity\":0.2}},\"type\":\"barpolar\"}],\"pie\":[{\"automargin\":true,\"type\":\"pie\"}]},\"layout\":{\"autotypenumbers\":\"strict\",\"colorway\":[\"#636efa\",\"#EF553B\",\"#00cc96\",\"#ab63fa\",\"#FFA15A\",\"#19d3f3\",\"#FF6692\",\"#B6E880\",\"#FF97FF\",\"#FECB52\"],\"font\":{\"color\":\"#2a3f5f\"},\"hovermode\":\"closest\",\"hoverlabel\":{\"align\":\"left\"},\"paper_bgcolor\":\"white\",\"plot_bgcolor\":\"#E5ECF6\",\"polar\":{\"bgcolor\":\"#E5ECF6\",\"angularaxis\":{\"gridcolor\":\"white\",\"linecolor\":\"white\",\"ticks\":\"\"},\"radialaxis\":{\"gridcolor\":\"white\",\"linecolor\":\"white\",\"ticks\":\"\"}},\"ternary\":{\"bgcolor\":\"#E5ECF6\",\"aaxis\":{\"gridcolor\":\"white\",\"linecolor\":\"white\",\"ticks\":\"\"},\"baxis\":{\"gridcolor\":\"white\",\"linecolor\":\"white\",\"ticks\":\"\"},\"caxis\":{\"gridcolor\":\"white\",\"linecolor\":\"white\",\"ticks\":\"\"}},\"coloraxis\":{\"colorbar\":{\"outlinewidth\":0,\"ticks\":\"\"}},\"colorscale\":{\"sequential\":[[0.0,\"#0d0887\"],[0.1111111111111111,\"#46039f\"],[0.2222222222222222,\"#7201a8\"],[0.3333333333333333,\"#9c179e\"],[0.4444444444444444,\"#bd3786\"],[0.5555555555555556,\"#d8576b\"],[0.6666666666666666,\"#ed7953\"],[0.7777777777777778,\"#fb9f3a\"],[0.8888888888888888,\"#fdca26\"],[1.0,\"#f0f921\"]],\"sequentialminus\":[[0.0,\"#0d0887\"],[0.1111111111111111,\"#46039f\"],[0.2222222222222222,\"#7201a8\"],[0.3333333333333333,\"#9c179e\"],[0.4444444444444444,\"#bd3786\"],[0.5555555555555556,\"#d8576b\"],[0.6666666666666666,\"#ed7953\"],[0.7777777777777778,\"#fb9f3a\"],[0.8888888888888888,\"#fdca26\"],[1.0,\"#f0f921\"]],\"diverging\":[[0,\"#8e0152\"],[0.1,\"#c51b7d\"],[0.2,\"#de77ae\"],[0.3,\"#f1b6da\"],[0.4,\"#fde0ef\"],[0.5,\"#f7f7f7\"],[0.6,\"#e6f5d0\"],[0.7,\"#b8e186\"],[0.8,\"#7fbc41\"],[0.9,\"#4d9221\"],[1,\"#276419\"]]},\"xaxis\":{\"gridcolor\":\"white\",\"linecolor\":\"white\",\"ticks\":\"\",\"title\":{\"standoff\":15},\"zerolinecolor\":\"white\",\"automargin\":true,\"zerolinewidth\":2},\"yaxis\":{\"gridcolor\":\"white\",\"linecolor\":\"white\",\"ticks\":\"\",\"title\":{\"standoff\":15},\"zerolinecolor\":\"white\",\"automargin\":true,\"zerolinewidth\":2},\"scene\":{\"xaxis\":{\"backgroundcolor\":\"#E5ECF6\",\"gridcolor\":\"white\",\"linecolor\":\"white\",\"showbackground\":true,\"ticks\":\"\",\"zerolinecolor\":\"white\",\"gridwidth\":2},\"yaxis\":{\"backgroundcolor\":\"#E5ECF6\",\"gridcolor\":\"white\",\"linecolor\":\"white\",\"showbackground\":true,\"ticks\":\"\",\"zerolinecolor\":\"white\",\"gridwidth\":2},\"zaxis\":{\"backgroundcolor\":\"#E5ECF6\",\"gridcolor\":\"white\",\"linecolor\":\"white\",\"showbackground\":true,\"ticks\":\"\",\"zerolinecolor\":\"white\",\"gridwidth\":2}},\"shapedefaults\":{\"line\":{\"color\":\"#2a3f5f\"}},\"annotationdefaults\":{\"arrowcolor\":\"#2a3f5f\",\"arrowhead\":0,\"arrowwidth\":1},\"geo\":{\"bgcolor\":\"white\",\"landcolor\":\"#E5ECF6\",\"subunitcolor\":\"white\",\"showland\":true,\"showlakes\":true,\"lakecolor\":\"white\"},\"title\":{\"x\":0.05},\"mapbox\":{\"style\":\"light\"}}},\"xaxis\":{\"showgrid\":true,\"gridcolor\":\"lightgray\",\"showline\":true,\"linecolor\":\"black\",\"linewidth\":2,\"title\":{\"text\":\"GDP in billions of US$\"}},\"yaxis\":{\"showgrid\":true,\"gridcolor\":\"lightgray\",\"showline\":true,\"linecolor\":\"black\",\"linewidth\":2,\"range\":[0,308],\"title\":{\"text\":\"Number of Paintings\"}},\"width\":900,\"height\":600,\"paper_bgcolor\":\"white\",\"plot_bgcolor\":\"white\",\"updatemenus\":[{\"buttons\":[{\"args\":[{\"visible\":[true,true,true,true,true,true,true,true,true,true,true,true,true,true,true,true,true,true,true,true,false]},{\"title\":\"Popularity of All Art Themes vs. GDP\"}],\"label\":\"All Themes\",\"method\":\"update\"},{\"args\":[{\"visible\":[false,false,false,false,false,false,false,false,false,false,false,false,false,false,false,false,false,false,false,false,true]},{\"title\":\"Average Effect of GDP on Number of Paintings\"}],\"label\":\"Average Effect\",\"method\":\"update\"},{\"args\":[{\"visible\":[true,false,false,false,false,false,false,false,false,false,false,false,false,false,false,false,false,false,false,false,false]},{\"title\":\"Popularity of Animals vs. GDP\"}],\"label\":\"Animals\",\"method\":\"update\"},{\"args\":[{\"visible\":[false,true,false,false,false,false,false,false,false,false,false,false,false,false,false,false,false,false,false,false,false]},{\"title\":\"Popularity of Architecture vs. GDP\"}],\"label\":\"Architecture\",\"method\":\"update\"},{\"args\":[{\"visible\":[false,false,true,false,false,false,false,false,false,false,false,false,false,false,false,false,false,false,false,false,false]},{\"title\":\"Popularity of Botanical study vs. GDP\"}],\"label\":\"Botanical study\",\"method\":\"update\"},{\"args\":[{\"visible\":[false,false,false,true,false,false,false,false,false,false,false,false,false,false,false,false,false,false,false,false,false]},{\"title\":\"Popularity of Cityscapes vs. GDP\"}],\"label\":\"Cityscapes\",\"method\":\"update\"},{\"args\":[{\"visible\":[false,false,false,false,true,false,false,false,false,false,false,false,false,false,false,false,false,false,false,false,false]},{\"title\":\"Popularity of Clothing and dress vs. GDP\"}],\"label\":\"Clothing and dress\",\"method\":\"update\"},{\"args\":[{\"visible\":[false,false,false,false,false,true,false,false,false,false,false,false,false,false,false,false,false,false,false,false,false]},{\"title\":\"Popularity of Domestic vs. GDP\"}],\"label\":\"Domestic\",\"method\":\"update\"},{\"args\":[{\"visible\":[false,false,false,false,false,false,true,false,false,false,false,false,false,false,false,false,false,false,false,false,false]},{\"title\":\"Popularity of Dress accessories vs. GDP\"}],\"label\":\"Dress accessories\",\"method\":\"update\"},{\"args\":[{\"visible\":[false,false,false,false,false,false,false,true,false,false,false,false,false,false,false,false,false,false,false,false,false]},{\"title\":\"Popularity of Figure female vs. GDP\"}],\"label\":\"Figure female\",\"method\":\"update\"},{\"args\":[{\"visible\":[false,false,false,false,false,false,false,false,true,false,false,false,false,false,false,false,false,false,false,false,false]},{\"title\":\"Popularity of Figure group vs. GDP\"}],\"label\":\"Figure group\",\"method\":\"update\"},{\"args\":[{\"visible\":[false,false,false,false,false,false,false,false,false,true,false,false,false,false,false,false,false,false,false,false,false]},{\"title\":\"Popularity of Figure male vs. GDP\"}],\"label\":\"Figure male\",\"method\":\"update\"},{\"args\":[{\"visible\":[false,false,false,false,false,false,false,false,false,false,true,false,false,false,false,false,false,false,false,false,false]},{\"title\":\"Popularity of Horses vs. GDP\"}],\"label\":\"Horses\",\"method\":\"update\"},{\"args\":[{\"visible\":[false,false,false,false,false,false,false,false,false,false,false,true,false,false,false,false,false,false,false,false,false]},{\"title\":\"Popularity of Landscapes vs. GDP\"}],\"label\":\"Landscapes\",\"method\":\"update\"},{\"args\":[{\"visible\":[false,false,false,false,false,false,false,false,false,false,false,false,true,false,false,false,false,false,false,false,false]},{\"title\":\"Popularity of Men vs. GDP\"}],\"label\":\"Men\",\"method\":\"update\"},{\"args\":[{\"visible\":[false,false,false,false,false,false,false,false,false,false,false,false,false,true,false,false,false,false,false,false,false]},{\"title\":\"Popularity of Mountains vs. GDP\"}],\"label\":\"Mountains\",\"method\":\"update\"},{\"args\":[{\"visible\":[false,false,false,false,false,false,false,false,false,false,false,false,false,false,true,false,false,false,false,false,false]},{\"title\":\"Popularity of Nudity vs. GDP\"}],\"label\":\"Nudity\",\"method\":\"update\"},{\"args\":[{\"visible\":[false,false,false,false,false,false,false,false,false,false,false,false,false,false,false,true,false,false,false,false,false]},{\"title\":\"Popularity of Occupations vs. GDP\"}],\"label\":\"Occupations\",\"method\":\"update\"},{\"args\":[{\"visible\":[false,false,false,false,false,false,false,false,false,false,false,false,false,false,false,false,true,false,false,false,false]},{\"title\":\"Popularity of Portraits vs. GDP\"}],\"label\":\"Portraits\",\"method\":\"update\"},{\"args\":[{\"visible\":[false,false,false,false,false,false,false,false,false,false,false,false,false,false,false,false,false,true,false,false,false]},{\"title\":\"Popularity of Religion vs. GDP\"}],\"label\":\"Religion\",\"method\":\"update\"},{\"args\":[{\"visible\":[false,false,false,false,false,false,false,false,false,false,false,false,false,false,false,false,false,false,true,false,false]},{\"title\":\"Popularity of Trees vs. GDP\"}],\"label\":\"Trees\",\"method\":\"update\"},{\"args\":[{\"visible\":[false,false,false,false,false,false,false,false,false,false,false,false,false,false,false,false,false,false,false,true,false]},{\"title\":\"Popularity of Women vs. GDP\"}],\"label\":\"Women\",\"method\":\"update\"}],\"direction\":\"down\",\"showactive\":true,\"x\":0.15,\"y\":1.1}],\"title\":{\"text\":\"Popularity of Art Themes vs. GDP\"}},                        {\"responsive\": true}                    ).then(function(){\n",
       "                            \n",
       "var gd = document.getElementById('0a2fbc0b-c707-40d2-919b-c1a33100c80b');\n",
       "var x = new MutationObserver(function (mutations, observer) {{\n",
       "        var display = window.getComputedStyle(gd).display;\n",
       "        if (!display || display === 'none') {{\n",
       "            console.log([gd, 'removed!']);\n",
       "            Plotly.purge(gd);\n",
       "            observer.disconnect();\n",
       "        }}\n",
       "}});\n",
       "\n",
       "// Listen for the removal of the full notebook cells\n",
       "var notebookContainer = gd.closest('#notebook-container');\n",
       "if (notebookContainer) {{\n",
       "    x.observe(notebookContainer, {childList: true});\n",
       "}}\n",
       "\n",
       "// Listen for the clearing of the current output cell\n",
       "var outputEl = gd.closest('.output');\n",
       "if (outputEl) {{\n",
       "    x.observe(outputEl, {childList: true});\n",
       "}}\n",
       "\n",
       "                        })                };                });            </script>        </div>"
      ]
     },
     "metadata": {},
     "output_type": "display_data"
    }
   ],
   "source": [
    "# Function to generate high-contrast colors\n",
    "def generate_colors(n):\n",
    "    colors = []\n",
    "    for i in range(n):\n",
    "        hue = (i * 137.5) % 360  # Spread colors around the HSL wheel\n",
    "        rgb = colorsys.hls_to_rgb(hue / 360, 0.4, 1.0)  # Ensure mid-brightness\n",
    "        hex_color = \"#{:02x}{:02x}{:02x}\".format(\n",
    "            int(rgb[0] * 255), int(rgb[1] * 255), int(rgb[2] * 255)\n",
    "        )\n",
    "        colors.append(hex_color)\n",
    "    return colors\n",
    "\n",
    "# Generate a color list with good contrast\n",
    "colors = generate_colors(len(art_themes))\n",
    "\n",
    "# Calculate the average effect of GDP on paintings\n",
    "average_paintings = np.mean(paintings_data, axis=1)\n",
    "\n",
    "# Initialize figure\n",
    "fig = go.Figure()\n",
    "\n",
    "# Add traces for each art theme\n",
    "for i, theme in enumerate(art_themes):\n",
    "    fig.add_trace(\n",
    "        go.Scatter(\n",
    "            x=GDP_decade,\n",
    "            y=paintings_data[:, i],\n",
    "            name=theme,\n",
    "            visible=(i == 0),\n",
    "            line=dict(color=colors[i])\n",
    "        )\n",
    "    )\n",
    "\n",
    "# Add a trace for the average effect (initially hidden)\n",
    "fig.add_trace(\n",
    "    go.Scatter(\n",
    "        x=GDP_decade,\n",
    "        y=average_paintings,\n",
    "        name=\"Average Effect\",\n",
    "        visible=False,  # Initially hidden\n",
    "        line=dict(color=\"black\", width=3, dash=\"dashdot\")  # Black dashed line\n",
    "    )\n",
    ")\n",
    "\n",
    "# Create dropdown menu options\n",
    "dropdown_options = [\n",
    "    {\n",
    "        \"label\": \"All Themes\",\n",
    "        \"method\": \"update\",\n",
    "        \"args\": [\n",
    "            {\"visible\": [True] * len(art_themes) + [False]},  # Show all themes, hide average\n",
    "            {\"title\": \"Popularity of All Art Themes vs. GDP\"}\n",
    "        ]\n",
    "    },\n",
    "    {\n",
    "        \"label\": \"Average Effect\",\n",
    "        \"method\": \"update\",\n",
    "        \"args\": [\n",
    "            {\"visible\": [False] * len(art_themes) + [True]},  # Hide all themes, show average\n",
    "            {\"title\": \"Average Effect of GDP on Number of Paintings\"}\n",
    "        ]\n",
    "    }\n",
    "]\n",
    "\n",
    "# Add individual theme options\n",
    "dropdown_options.extend([\n",
    "    {\n",
    "        \"label\": theme,\n",
    "        \"method\": \"update\",\n",
    "        \"args\": [\n",
    "            {\"visible\": [j == i for j in range(len(art_themes))] + [False]},  # Show only selected theme, hide average\n",
    "            {\"title\": f\"Popularity of {theme} vs. GDP\"}\n",
    "        ]\n",
    "    }\n",
    "    for i, theme in enumerate(art_themes)\n",
    "])\n",
    "\n",
    "# Apply layout fixes (White background, black y-axis, dark gray x-axis)\n",
    "fig.update_layout(\n",
    "    width=900, \n",
    "    height=600, \n",
    "    paper_bgcolor=\"white\",  \n",
    "    plot_bgcolor=\"white\",\n",
    "    xaxis=dict(\n",
    "        showgrid=True,\n",
    "        gridcolor=\"lightgray\",\n",
    "        showline=True,\n",
    "        linecolor=\"black\",\n",
    "        linewidth=2,\n",
    "    ),\n",
    "    yaxis=dict(\n",
    "        showgrid=True,\n",
    "        gridcolor=\"lightgray\",\n",
    "        showline=True, \n",
    "        linecolor=\"black\",  \n",
    "        linewidth=2, \n",
    "        range=[0, np.max(paintings_data)],\n",
    "    ),\n",
    "    updatemenus=[\n",
    "        {\n",
    "            \"buttons\": dropdown_options,\n",
    "            \"direction\": \"down\",\n",
    "            \"showactive\": True,\n",
    "            \"x\": 0.15,  \n",
    "            \"y\": 1.1\n",
    "        }\n",
    "    ],\n",
    "    title=\"Popularity of Art Themes vs. GDP\",\n",
    "    xaxis_title=\"GDP in billions of US$\",\n",
    "    yaxis_title=\"Number of Paintings\",\n",
    ")\n",
    "\n",
    "# Display the figure\n",
    "fig.show()\n",
    "\n",
    "# Save as an interactive HTML file\n",
    "pio.write_html(fig, \"../../website/figures/interactive_plot.html\")\n"
   ]
  }
 ],
 "metadata": {
  "kernelspec": {
   "display_name": "base",
   "language": "python",
   "name": "python3"
  },
  "language_info": {
   "codemirror_mode": {
    "name": "ipython",
    "version": 3
   },
   "file_extension": ".py",
   "mimetype": "text/x-python",
   "name": "python",
   "nbconvert_exporter": "python",
   "pygments_lexer": "ipython3",
   "version": "3.11.8"
  }
 },
 "nbformat": 4,
 "nbformat_minor": 2
}
